{
 "cells": [
  {
   "cell_type": "code",
   "execution_count": 8,
   "id": "72120f8d",
   "metadata": {},
   "outputs": [],
   "source": [
    "import pandas as pd\n",
    "import numpy as np\n",
    "from sklearn.tree import DecisionTreeRegressor\n",
    "from sklearn.metrics import r2_score"
   ]
  },
  {
   "cell_type": "markdown",
   "id": "1f6e547e",
   "metadata": {},
   "source": [
    "# bagging 回归"
   ]
  },
  {
   "cell_type": "code",
   "execution_count": 9,
   "id": "44395f36",
   "metadata": {},
   "outputs": [
    {
     "name": "stdout",
     "output_type": "stream",
     "text": [
      "    X      Y\n",
      "0   1  10.56\n",
      "1   2  27.00\n",
      "2   3  39.10\n",
      "3   4  40.40\n",
      "4   5  58.00\n",
      "5   6  60.50\n",
      "6   7  79.00\n",
      "7   8  87.00\n",
      "8   9  90.00\n",
      "9  10  95.00\n"
     ]
    }
   ],
   "source": [
    "###数据\n",
    "df = pd.DataFrame([[1, 10.56],\n",
    "                   [2, 27],\n",
    "                   [3, 39.1],\n",
    "                   [4, 40.4],\n",
    "                   [5, 58],\n",
    "                   [6, 60.5],\n",
    "                   [7, 79],\n",
    "                   [8, 87],\n",
    "                   [9, 90],\n",
    "                   [10, 95]],\n",
    "                  columns=['X', 'Y'])\n",
    "print(df)"
   ]
  },
  {
   "cell_type": "code",
   "execution_count": 10,
   "id": "675d2859",
   "metadata": {},
   "outputs": [],
   "source": [
    "###做预测\n",
    "x = df.iloc[:, :-1]\n",
    "y = df.iloc[:, -1]"
   ]
  },
  {
   "cell_type": "code",
   "execution_count": 18,
   "id": "86fc8b3d",
   "metadata": {},
   "outputs": [],
   "source": [
    "M = []  ###用来存储弱学习器\n",
    "n_trees = 200  ###构造的弱学习器的数量\n",
    "\n",
    "for i in range(n_trees):  ##循环训练我们的弱学习器\n",
    "    ###对样本进行有放回的抽样m次\n",
    "    '''\n",
    "    sample() 抽样\n",
    "    n=None,  抽样数据的条数\n",
    "    frac=None, 抽样的比例\n",
    "    replace=False, 是否有放回抽样\n",
    "    weights=None, 权重\n",
    "    random_state=None, 随机数种子\n",
    "    axis=None 维度\n",
    "    '''\n",
    "    tmp = df.sample(frac=1.0, replace=True)  ###不需要设置随机数种子\n",
    "#     tmp = tmp.drop_duplicates()  # ##去重\n",
    "    X = tmp.iloc[:, :-1]\n",
    "    Y = tmp.iloc[:, -1]\n",
    "    model = DecisionTreeRegressor(max_depth=1)\n",
    "    model.fit(X, Y)\n",
    "\n",
    "    M.append(model)"
   ]
  },
  {
   "cell_type": "code",
   "execution_count": 19,
   "id": "b475c9ef",
   "metadata": {},
   "outputs": [
    {
     "name": "stdout",
     "output_type": "stream",
     "text": [
      "[33.71699163 33.71699163 33.71699163 39.74694782 54.53475627 63.50074317\n",
      " 74.87978627 81.81593869 82.04296726 82.04296726]\n"
     ]
    }
   ],
   "source": [
    "res = np.zeros(df.shape[0])\n",
    "for j in M:\n",
    "    res += j.predict(x)\n",
    "y_hat = res / n_trees\n",
    "print(y_hat)"
   ]
  },
  {
   "cell_type": "code",
   "execution_count": 20,
   "id": "c3c6d81b",
   "metadata": {},
   "outputs": [
    {
     "name": "stdout",
     "output_type": "stream",
     "text": [
      "R2: 0.8799770816184327\n"
     ]
    }
   ],
   "source": [
    "print('R2:', r2_score(y, y_hat))"
   ]
  },
  {
   "cell_type": "code",
   "execution_count": 21,
   "id": "be39be5c",
   "metadata": {},
   "outputs": [
    {
     "name": "stdout",
     "output_type": "stream",
     "text": [
      "[29.265 29.265 29.265 29.265 78.25  78.25  78.25  78.25  78.25  78.25 ]\n",
      "0.7622123252516444\n"
     ]
    }
   ],
   "source": [
    "# 查看一下单棵树的效果\n",
    "mode01 = DecisionTreeRegressor(max_depth=1)\n",
    "mode01.fit(x, y)\n",
    "y_hat_01 = mode01.predict(x)\n",
    "print(y_hat_01)\n",
    "print(mode01.score(x, y))"
   ]
  },
  {
   "cell_type": "code",
   "execution_count": null,
   "id": "0bfbe4e2",
   "metadata": {},
   "outputs": [],
   "source": []
  }
 ],
 "metadata": {
  "kernelspec": {
   "display_name": "py37",
   "language": "python",
   "name": "py37"
  },
  "language_info": {
   "codemirror_mode": {
    "name": "ipython",
    "version": 3
   },
   "file_extension": ".py",
   "mimetype": "text/x-python",
   "name": "python",
   "nbconvert_exporter": "python",
   "pygments_lexer": "ipython3",
   "version": "3.7.13"
  }
 },
 "nbformat": 4,
 "nbformat_minor": 5
}
