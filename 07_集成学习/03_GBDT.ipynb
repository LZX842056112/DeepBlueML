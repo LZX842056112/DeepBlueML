{
 "cells": [
  {
   "cell_type": "code",
   "execution_count": 8,
   "id": "4f468d3f",
   "metadata": {},
   "outputs": [],
   "source": [
    "import pandas as pd\n",
    "import numpy as np\n",
    "from sklearn.tree import DecisionTreeRegressor\n",
    "from sklearn.metrics import r2_score\n",
    "from sklearn.model_selection import train_test_split"
   ]
  },
  {
   "cell_type": "code",
   "execution_count": 9,
   "id": "26d853dd",
   "metadata": {},
   "outputs": [],
   "source": [
    "###数据\n",
    "df = pd.DataFrame([[1, 5.56],\n",
    "                   [2, 5.7],\n",
    "                   [3, 5.91],\n",
    "                   [4, 6.4],\n",
    "                   [5, 6.8],\n",
    "                   [6, 7.05],\n",
    "                   [7, 8.9],\n",
    "                   [8, 8.7],\n",
    "                   [9, 9],\n",
    "                   [10, 9.05]],\n",
    "    columns=['X', 'Y'])\n",
    "# df = pd.read_csv('./datas/boston_housing.data', sep='\\s+', header=None)\n",
    "X = df.iloc[:, :-1]\n",
    "Y = df.iloc[:, -1]\n",
    "y = Y  ##保留原始的Y"
   ]
  },
  {
   "cell_type": "code",
   "execution_count": 10,
   "id": "d1cb1f42",
   "metadata": {},
   "outputs": [],
   "source": [
    "###Fm = F0+v*f1+v*f2+v*f3+...v*fm"
   ]
  },
  {
   "cell_type": "code",
   "execution_count": 11,
   "id": "91d1e512",
   "metadata": {},
   "outputs": [
    {
     "name": "stdout",
     "output_type": "stream",
     "text": [
      "[7.307, DecisionTreeRegressor(max_depth=1), DecisionTreeRegressor(max_depth=1), DecisionTreeRegressor(max_depth=1), DecisionTreeRegressor(max_depth=1), DecisionTreeRegressor(max_depth=1), DecisionTreeRegressor(max_depth=1), DecisionTreeRegressor(max_depth=1), DecisionTreeRegressor(max_depth=1), DecisionTreeRegressor(max_depth=1), DecisionTreeRegressor(max_depth=1)]\n"
     ]
    }
   ],
   "source": [
    "###F0\n",
    "F0 = np.mean(Y)\n",
    "# F0 = ln(odds)\n",
    "M = [F0]\n",
    "##f1第一棵树 标签（label） Y-F0\n",
    "Y = Y - F0  ##残差作为负梯度，回归（平方和损失）\n",
    "n_trees =10\n",
    "learning_rate = 1\n",
    "for i in range(n_trees):\n",
    "    model = DecisionTreeRegressor(max_depth=1)\n",
    "    model.fit(X, Y)\n",
    "    Y = Y - learning_rate * model.predict(X)\n",
    "    M.append(model)\n",
    "\n",
    "print(M)"
   ]
  },
  {
   "cell_type": "code",
   "execution_count": 12,
   "id": "6cfe031d",
   "metadata": {},
   "outputs": [
    {
     "name": "stdout",
     "output_type": "stream",
     "text": [
      "0    5.56\n",
      "1    5.70\n",
      "2    5.91\n",
      "3    6.40\n",
      "4    6.80\n",
      "5    7.05\n",
      "6    8.90\n",
      "7    8.70\n",
      "8    9.00\n",
      "9    9.05\n",
      "Name: Y, dtype: float64\n",
      "[5.63655365 5.63655365 5.82486384 6.55819717 6.82625273 6.90832989\n",
      " 8.92924906 8.8543017  8.94784915 8.94784915]\n",
      "0.9947296243626074\n"
     ]
    }
   ],
   "source": [
    "###预测\n",
    "res = np.zeros(df.shape[0])\n",
    "for j in range(len(M)):\n",
    "    if j == 0:\n",
    "        res += M[j]\n",
    "        # print(res)\n",
    "    else:\n",
    "        res += learning_rate * M[j].predict(X)\n",
    "        # print(res)\n",
    "\n",
    "print(y)\n",
    "print(res)\n",
    "y_hat = res\n",
    "\n",
    "print(r2_score(y, y_hat))"
   ]
  },
  {
   "cell_type": "code",
   "execution_count": null,
   "id": "76160b63",
   "metadata": {},
   "outputs": [],
   "source": []
  }
 ],
 "metadata": {
  "kernelspec": {
   "display_name": "py37",
   "language": "python",
   "name": "py37"
  },
  "language_info": {
   "codemirror_mode": {
    "name": "ipython",
    "version": 3
   },
   "file_extension": ".py",
   "mimetype": "text/x-python",
   "name": "python",
   "nbconvert_exporter": "python",
   "pygments_lexer": "ipython3",
   "version": "3.7.13"
  }
 },
 "nbformat": 4,
 "nbformat_minor": 5
}
