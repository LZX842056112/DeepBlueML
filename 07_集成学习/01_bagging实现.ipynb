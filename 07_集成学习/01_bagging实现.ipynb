{
 "cells": [
  {
   "cell_type": "code",
   "execution_count": 8,
   "id": "72120f8d",
   "metadata": {},
   "outputs": [],
   "source": [
    "import pandas as pd\n",
    "import numpy as np\n",
    "from sklearn.tree import DecisionTreeRegressor\n",
    "from sklearn.metrics import r2_score"
   ]
  },
  {
   "cell_type": "markdown",
   "id": "1f6e547e",
   "metadata": {},
   "source": [
    "# bagging 回归"
   ]
  },
  {
   "cell_type": "code",
   "execution_count": 9,
   "id": "44395f36",
   "metadata": {},
   "outputs": [
    {
     "name": "stdout",
     "output_type": "stream",
     "text": [
      "    X      Y\n",
      "0   1  10.56\n",
      "1   2  27.00\n",
      "2   3  39.10\n",
      "3   4  40.40\n",
      "4   5  58.00\n",
      "5   6  60.50\n",
      "6   7  79.00\n",
      "7   8  87.00\n",
      "8   9  90.00\n",
      "9  10  95.00\n"
     ]
    }
   ],
   "source": [
    "###数据\n",
    "df = pd.DataFrame([[1, 10.56],\n",
    "                   [2, 27],\n",
    "                   [3, 39.1],\n",
    "                   [4, 40.4],\n",
    "                   [5, 58],\n",
    "                   [6, 60.5],\n",
    "                   [7, 79],\n",
    "                   [8, 87],\n",
    "                   [9, 90],\n",
    "                   [10, 95]],\n",
    "                  columns=['X', 'Y'])\n",
    "print(df)"
   ]
  },
  {
   "cell_type": "code",
   "execution_count": 10,
   "id": "675d2859",
   "metadata": {},
   "outputs": [],
   "source": [
    "###做预测\n",
    "x = df.iloc[:, :-1]\n",
    "y = df.iloc[:, -1]"
   ]
  },
  {
   "cell_type": "code",
   "execution_count": 18,
   "id": "86fc8b3d",
   "metadata": {},
   "outputs": [],
   "source": [
    "M = []  ###用来存储弱学习器\n",
    "n_trees = 200  ###构造的弱学习器的数量\n",
    "\n",
    "for i in range(n_trees):  ##循环训练我们的弱学习器\n",
    "    ###对样本进行有放回的抽样m次\n",
    "    '''\n",
    "    sample() 抽样\n",
    "    n=None,  抽样数据的条数\n",
    "    frac=None, 抽样的比例\n",
    "    replace=False, 是否有放回抽样\n",
    "    weights=None, 权重\n",
    "    random_state=None, 随机数种子\n",
    "    axis=None 维度\n",
    "    '''\n",
    "    tmp = df.sample(frac=1.0, replace=True)  ###不需要设置随机数种子\n",
    "#     tmp = tmp.drop_duplicates()  # ##去重\n",
    "    X = tmp.iloc[:, :-1]\n",
    "    Y = tmp.iloc[:, -1]\n",
    "    model = DecisionTreeRegressor(max_depth=1)\n",
    "    model.fit(X, Y)\n",
    "\n",
    "    M.append(model)"
   ]
  },
  {
   "cell_type": "code",
   "execution_count": 19,
   "id": "b475c9ef",
   "metadata": {},
   "outputs": [
    {
     "name": "stdout",
     "output_type": "stream",
     "text": [
      "[33.71699163 33.71699163 33.71699163 39.74694782 54.53475627 63.50074317\n",
      " 74.87978627 81.81593869 82.04296726 82.04296726]\n"
     ]
    }
   ],
   "source": [
    "res = np.zeros(df.shape[0])\n",
    "for j in M:\n",
    "    res += j.predict(x)\n",
    "y_hat = res / n_trees\n",
    "print(y_hat)"
   ]
  },
  {
   "cell_type": "code",
   "execution_count": 20,
   "id": "c3c6d81b",
   "metadata": {},
   "outputs": [
    {
     "name": "stdout",
     "output_type": "stream",
     "text": [
      "R2: 0.8799770816184327\n"
     ]
    }
   ],
   "source": [
    "print('R2:', r2_score(y, y_hat))"
   ]
  },
  {
   "cell_type": "code",
   "execution_count": 21,
   "id": "be39be5c",
   "metadata": {},
   "outputs": [
    {
     "name": "stdout",
     "output_type": "stream",
     "text": [
      "[29.265 29.265 29.265 29.265 78.25  78.25  78.25  78.25  78.25  78.25 ]\n",
      "0.7622123252516444\n"
     ]
    }
   ],
   "source": [
    "# 查看一下单棵树的效果\n",
    "mode01 = DecisionTreeRegressor(max_depth=1)\n",
    "mode01.fit(x, y)\n",
    "y_hat_01 = mode01.predict(x)\n",
    "print(y_hat_01)\n",
    "print(mode01.score(x, y))"
   ]
  },
  {
   "cell_type": "markdown",
   "id": "5114d4b9",
   "metadata": {},
   "source": [
    "# bagging分类"
   ]
  },
  {
   "cell_type": "code",
   "execution_count": 22,
   "id": "1c2dab73",
   "metadata": {},
   "outputs": [],
   "source": [
    "import numpy as np\n",
    "import pandas as pd\n",
    "from sklearn.tree import DecisionTreeClassifier\n",
    "from sklearn.metrics import f1_score, accuracy_score"
   ]
  },
  {
   "cell_type": "code",
   "execution_count": 23,
   "id": "097bcf21",
   "metadata": {},
   "outputs": [],
   "source": [
    "df = pd.DataFrame([[0, 1],\n",
    "                   [1, 1],\n",
    "                   [2, 1],\n",
    "                   [3, -1],\n",
    "                   [4, -1],\n",
    "                   [5, -1],\n",
    "                   [6, 1],\n",
    "                   [7, 1],\n",
    "                   [8, 1],\n",
    "                   [9, -1]])"
   ]
  },
  {
   "cell_type": "code",
   "execution_count": 25,
   "id": "eac9a488",
   "metadata": {},
   "outputs": [],
   "source": [
    "x = df.iloc[:, :-1]\n",
    "y = df.iloc[:, -1]"
   ]
  },
  {
   "cell_type": "code",
   "execution_count": 24,
   "id": "fc6cdf1e",
   "metadata": {},
   "outputs": [],
   "source": [
    "n_tree = 19\n",
    "models = []\n",
    "\n",
    "for i in range(n_tree):\n",
    "    df2 = df.sample(frac=1.0, replace=True)\n",
    "    # tmp = df2.drop_duplicates()  # ##去重\n",
    "    X = df2.iloc[:, :-1]\n",
    "    Y = df2.iloc[:, -1]\n",
    "    dec = DecisionTreeClassifier(max_depth=1,splitter=\"random\",max_features=1)\n",
    "    dec.fit(X, Y)\n",
    "    models.append(dec)"
   ]
  },
  {
   "cell_type": "code",
   "execution_count": 26,
   "id": "7c52af05",
   "metadata": {},
   "outputs": [
    {
     "name": "stdout",
     "output_type": "stream",
     "text": [
      "[11. 11.  9.  5.  3.  3.  5.  7.  3. -1.]\n",
      "[ 1.  1.  1.  1.  1.  1.  1.  1.  1. -1.]\n",
      "0.7\n",
      "0.8\n"
     ]
    }
   ],
   "source": [
    "total = np.zeros(df.shape[0])\n",
    "for i in range(n_tree):\n",
    "    total += np.array(models[i].predict(x))\n",
    "print(total)\n",
    "y_hat = np.sign(total)\n",
    "print(y_hat)\n",
    "print(accuracy_score(y, y_hat))\n",
    "print(f1_score(y, y_hat))"
   ]
  },
  {
   "cell_type": "code",
   "execution_count": 27,
   "id": "f4737f23",
   "metadata": {},
   "outputs": [
    {
     "name": "stdout",
     "output_type": "stream",
     "text": [
      "[ 1  1  1 -1 -1 -1 -1 -1 -1 -1]\n",
      "0.7\n",
      "0.6666666666666666\n"
     ]
    }
   ],
   "source": [
    "model01 = DecisionTreeClassifier(max_depth=1)\n",
    "model01.fit(x, y)\n",
    "y_hat_01 = model01.predict(x)\n",
    "print(y_hat_01)\n",
    "print(accuracy_score(y, y_hat_01))\n",
    "print(f1_score(y, y_hat_01))"
   ]
  },
  {
   "cell_type": "code",
   "execution_count": null,
   "id": "0a616649",
   "metadata": {},
   "outputs": [],
   "source": []
  }
 ],
 "metadata": {
  "kernelspec": {
   "display_name": "py37",
   "language": "python",
   "name": "py37"
  },
  "language_info": {
   "codemirror_mode": {
    "name": "ipython",
    "version": 3
   },
   "file_extension": ".py",
   "mimetype": "text/x-python",
   "name": "python",
   "nbconvert_exporter": "python",
   "pygments_lexer": "ipython3",
   "version": "3.7.13"
  }
 },
 "nbformat": 4,
 "nbformat_minor": 5
}
