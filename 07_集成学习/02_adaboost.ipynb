{
 "cells": [
  {
   "cell_type": "code",
   "execution_count": 1,
   "id": "2c7dce17",
   "metadata": {},
   "outputs": [],
   "source": [
    "import numpy as np\n",
    "import pandas as pd\n",
    "from sklearn.tree import DecisionTreeClassifier,DecisionTreeRegressor\n",
    "from sklearn.metrics import f1_score, accuracy_score"
   ]
  },
  {
   "cell_type": "code",
   "execution_count": 2,
   "id": "44e1301e",
   "metadata": {},
   "outputs": [],
   "source": [
    "df = pd.DataFrame([[0, 1],\n",
    "                   [1, 1],\n",
    "                   [2, 1],\n",
    "                   [3, -1],\n",
    "                   [4, -1],\n",
    "                   [5, -1],\n",
    "                   [6, 1],\n",
    "                   [7, 1],\n",
    "                   [8, 1],\n",
    "                   [9, -1]])\n",
    "\n",
    "X = df.iloc[:, :-1]\n",
    "Y = df.iloc[:, -1]"
   ]
  },
  {
   "cell_type": "code",
   "execution_count": 4,
   "id": "38782b6a",
   "metadata": {},
   "outputs": [
    {
     "name": "stdout",
     "output_type": "stream",
     "text": [
      "[0.1 0.1 0.1 0.1 0.1 0.1 0.1 0.1 0.1 0.1]\n",
      "[ 1  1  1 -1 -1 -1 -1 -1 -1 -1]\n",
      "0.30000000000000004\n",
      "0.4236489301936017\n",
      "[1, 1, 1, -1, -1, -1, 1, 1, 1, -1]\n",
      "[ 1.  1.  1. -1. -1. -1. -1. -1. -1. -1.]\n"
     ]
    }
   ],
   "source": [
    "###第一个弱学习器\n",
    "## 初始化样本权重\n",
    "w1 = np.ones(df.shape[0]) / df.shape[0]\n",
    "print(w1)\n",
    "# sys.exit()\n",
    "##构造弱分类器G1\n",
    "model1 = DecisionTreeClassifier(max_depth=1)\n",
    "model1.fit(X, Y, sample_weight=w1)\n",
    "###误差率\n",
    "print(model1.predict(X))\n",
    "# print(model1.predict(X)!=Y)\n",
    "# print(w1[model1.predict(X)!=Y])\n",
    "e1 = sum(w1[model1.predict(X) != Y])\n",
    "print(e1)\n",
    "###弱学习器G1的权重α1\n",
    "a1 = 0.5 * np.log((1 - e1) / e1)\n",
    "print(a1)\n",
    "# f=a1*model1\n",
    "y_hat = np.sign(a1 * model1.predict(X))\n",
    "print(Y.tolist())\n",
    "print(y_hat)"
   ]
  },
  {
   "cell_type": "code",
   "execution_count": 5,
   "id": "e499c133",
   "metadata": {},
   "outputs": [
    {
     "name": "stdout",
     "output_type": "stream",
     "text": [
      "0    0.065465\n",
      "1    0.065465\n",
      "2    0.065465\n",
      "3    0.065465\n",
      "4    0.065465\n",
      "5    0.065465\n",
      "6    0.152753\n",
      "7    0.152753\n",
      "8    0.152753\n",
      "9    0.065465\n",
      "Name: 1, dtype: float64\n",
      "[0.07142857 0.07142857 0.07142857 0.07142857 0.07142857 0.07142857\n",
      " 0.16666667 0.16666667 0.16666667 0.07142857]\n",
      "[ 1  1  1  1  1  1  1  1  1 -1]\n",
      "0.21428571428571427\n",
      "0.6496414920651304\n",
      "[1, 1, 1, -1, -1, -1, 1, 1, 1, -1]\n",
      "[ 1.  1.  1.  1.  1.  1.  1.  1.  1. -1.]\n"
     ]
    }
   ],
   "source": [
    "###第二个弱学习器G2\n",
    "###更新样本权重值\n",
    "w2 = w1 * np.exp(-a1 * Y * model1.predict(X))\n",
    "print(w2)\n",
    "w2 = np.array(w2 / sum(w2))  ##归一化\n",
    "print(w2)\n",
    "##训练模型G2\n",
    "model2 = DecisionTreeClassifier(max_depth=1)\n",
    "model2.fit(X, Y, sample_weight=w2)\n",
    "print(model2.predict(X))\n",
    "# print(model2.predict(X)!=Y)\n",
    "# print(w2[model2.predict(X)!=Y])\n",
    "###误差率e2\n",
    "e2 = sum(w2[model2.predict(X) != Y])\n",
    "print(e2)\n",
    "###求G2的权重α2\n",
    "a2 = 0.5 * np.log((1 - e2) / e2)\n",
    "print(a2)\n",
    "# f = a1*G1+a2*G2\n",
    "y_hat = np.sign(a1 * model1.predict(X) + a2 * model2.predict(X))\n",
    "print(Y.tolist())\n",
    "print(y_hat)"
   ]
  },
  {
   "cell_type": "code",
   "execution_count": 6,
   "id": "555a6c6f",
   "metadata": {},
   "outputs": [
    {
     "name": "stdout",
     "output_type": "stream",
     "text": [
      "0    0.037302\n",
      "1    0.037302\n",
      "2    0.037302\n",
      "3    0.136775\n",
      "4    0.136775\n",
      "5    0.136775\n",
      "6    0.087039\n",
      "7    0.087039\n",
      "8    0.087039\n",
      "9    0.037302\n",
      "Name: 1, dtype: float64\n",
      "[0.04545455 0.04545455 0.04545455 0.16666667 0.16666667 0.16666667\n",
      " 0.10606061 0.10606061 0.10606061 0.04545455]\n",
      "0.18181818181818185\n",
      "0.752038698388137\n",
      "[-1 -1 -1 -1 -1 -1  1  1  1  1]\n",
      "[1, 1, 1, -1, -1, -1, 1, 1, 1, -1]\n",
      "[ 1.  1.  1. -1. -1. -1.  1.  1.  1. -1.]\n"
     ]
    }
   ],
   "source": [
    "###第三个弱学习器 G3\n",
    "###更新样本权重值\n",
    "# w3 = w1 * np.exp(-a1 * Y * model1.predict(X))* np.exp(-a2 * Y * model2.predict(X))\n",
    "# print(w3)\n",
    "w3 = w2 * np.exp(-a2 * Y * model2.predict(X))\n",
    "print(w3)\n",
    "w3 = np.array(w3 / sum(w3))  ##归一化\n",
    "print(w3)\n",
    "###训练模型G3\n",
    "model3 = DecisionTreeClassifier(max_depth=1)\n",
    "model3.fit(X, Y, sample_weight=w3)\n",
    "\n",
    "###误差率e3\n",
    "e3 = sum(w3[model3.predict(X) != Y])\n",
    "print(e3)\n",
    "###求G3的权重α3\n",
    "a3 = 0.5 * np.log((1 - e3) / e3)\n",
    "print(a3)\n",
    "# f = a1*G1+a2*G2+a3*G3\n",
    "\n",
    "##最终分类器的线性组合f3\n",
    "# f3 =a1*model1+a2*model2+a3*model3\n",
    "## 最终的分类器G\n",
    "# G = sign(f3)\n",
    "##预测\n",
    "print(model3.predict(X))\n",
    "\n",
    "y_hat = np.sign(a1 * model1.predict(X) + a2 * model2.predict(X) + a3 * model3.predict(X))\n",
    "print(Y.tolist())\n",
    "print(y_hat)"
   ]
  },
  {
   "cell_type": "code",
   "execution_count": null,
   "id": "f512aadd",
   "metadata": {},
   "outputs": [],
   "source": []
  }
 ],
 "metadata": {
  "kernelspec": {
   "display_name": "py37",
   "language": "python",
   "name": "py37"
  },
  "language_info": {
   "codemirror_mode": {
    "name": "ipython",
    "version": 3
   },
   "file_extension": ".py",
   "mimetype": "text/x-python",
   "name": "python",
   "nbconvert_exporter": "python",
   "pygments_lexer": "ipython3",
   "version": "3.7.13"
  }
 },
 "nbformat": 4,
 "nbformat_minor": 5
}
