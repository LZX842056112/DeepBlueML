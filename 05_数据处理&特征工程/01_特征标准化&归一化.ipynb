{
 "cells": [
  {
   "cell_type": "markdown",
   "id": "aaef98ab",
   "metadata": {},
   "source": [
    "# 加载数据"
   ]
  },
  {
   "cell_type": "code",
   "execution_count": 2,
   "id": "0c97a991",
   "metadata": {},
   "outputs": [],
   "source": [
    "#导入内置的鸢尾花数据\n",
    "from sklearn.datasets import load_iris\n",
    "\n",
    "iris = load_iris()\n",
    "#定义数据、标签\n",
    "X = iris.data\n",
    "y = iris.target"
   ]
  },
  {
   "cell_type": "markdown",
   "id": "5a73067a",
   "metadata": {},
   "source": [
    "# 划分训练集&测试集"
   ]
  },
  {
   "cell_type": "code",
   "execution_count": 3,
   "id": "525d98ae",
   "metadata": {},
   "outputs": [],
   "source": [
    "from sklearn.model_selection import train_test_split\n",
    "\n",
    "X_train, X_test, y_train, y_test = train_test_split(X,\n",
    "                                                    y,\n",
    "                                                    random_state=12,\n",
    "                                                    stratify=y,\n",
    "                                                    test_size=0.3)"
   ]
  },
  {
   "cell_type": "code",
   "execution_count": 19,
   "id": "6add601b",
   "metadata": {},
   "outputs": [
    {
     "name": "stdout",
     "output_type": "stream",
     "text": [
      "(105, 4)\n"
     ]
    }
   ],
   "source": [
    "print(X_train.shape)"
   ]
  },
  {
   "cell_type": "markdown",
   "id": "dc086f6c",
   "metadata": {},
   "source": [
    "# 归一化"
   ]
  },
  {
   "cell_type": "code",
   "execution_count": 1,
   "id": "1a7e7ca3",
   "metadata": {},
   "outputs": [],
   "source": [
    "from sklearn.preprocessing import MinMaxScaler  # 区间缩放法（归一化）"
   ]
  },
  {
   "cell_type": "code",
   "execution_count": 4,
   "id": "a1ebd321",
   "metadata": {},
   "outputs": [
    {
     "data": {
      "text/plain": [
       "MinMaxScaler()"
      ]
     },
     "execution_count": 4,
     "metadata": {},
     "output_type": "execute_result"
    }
   ],
   "source": [
    "scaler = MinMaxScaler(feature_range=(0,1))\n",
    "scaler.fit(X_train)  # 对训练集进行fit"
   ]
  },
  {
   "cell_type": "code",
   "execution_count": 5,
   "id": "ba66098c",
   "metadata": {},
   "outputs": [
    {
     "name": "stdout",
     "output_type": "stream",
     "text": [
      "[7.9 4.4 6.9 2.5]\n",
      "[4.4 2.2 1.2 0.1]\n",
      "[3.5 2.2 5.7 2.4]\n"
     ]
    }
   ],
   "source": [
    "# 原始特征属性的最大值\n",
    "print(scaler.data_max_)\n",
    "# 原始特征属性的最小值\n",
    "print(scaler.data_min_)\n",
    "# 原始特征属性的取值范围大小(最大值-最小值)\n",
    "print(scaler.data_range_)"
   ]
  },
  {
   "cell_type": "code",
   "execution_count": 12,
   "id": "f57020fa",
   "metadata": {},
   "outputs": [
    {
     "name": "stdout",
     "output_type": "stream",
     "text": [
      "[[0.62857143 0.36363636 0.56140351 0.54166667]\n",
      " [0.71428571 0.45454545 0.78947368 0.91666667]\n",
      " [0.         0.31818182 0.03508772 0.04166667]\n",
      " [0.65714286 0.36363636 0.66666667 0.66666667]\n",
      " [0.45714286 0.22727273 0.68421053 0.625     ]]\n",
      "[0. 0. 0. 0.]\n",
      "[1. 1. 1. 1.]\n"
     ]
    }
   ],
   "source": [
    "X_train_scaler = scaler.transform(X_train) # 转换训练集  fit_transform：fit和transform \n",
    "print(X_train_scaler[:5])\n",
    "print(X_train_scaler.min(axis=0))\n",
    "print(X_train_scaler.max(axis=0))"
   ]
  },
  {
   "cell_type": "code",
   "execution_count": 14,
   "id": "27e7e424",
   "metadata": {},
   "outputs": [
    {
     "name": "stdout",
     "output_type": "stream",
     "text": [
      "[[ 0.77142857  0.36363636  0.8245614   0.83333333]\n",
      " [-0.02857143  0.36363636 -0.01754386  0.        ]\n",
      " [ 0.94285714  0.27272727  0.96491228  0.79166667]\n",
      " [ 0.42857143  0.45454545  0.63157895  0.70833333]\n",
      " [ 0.82857143  0.31818182  0.89473684  0.70833333]]\n",
      "[-0.02857143 -0.09090909 -0.03508772  0.        ]\n",
      "[0.94285714 0.77272727 0.96491228 1.        ]\n"
     ]
    }
   ],
   "source": [
    "X_test_scaler = scaler.transform(X_test)\n",
    "print(X_test_scaler[:5])\n",
    "print(X_test_scaler.min(axis=0))\n",
    "print(X_test_scaler.max(axis=0))"
   ]
  },
  {
   "cell_type": "markdown",
   "id": "5d804323",
   "metadata": {},
   "source": [
    "# 标准化"
   ]
  },
  {
   "cell_type": "code",
   "execution_count": 16,
   "id": "cc2dd291",
   "metadata": {},
   "outputs": [],
   "source": [
    "from sklearn.preprocessing import StandardScaler"
   ]
  },
  {
   "cell_type": "code",
   "execution_count": 17,
   "id": "a614cab3",
   "metadata": {},
   "outputs": [
    {
     "data": {
      "text/plain": [
       "StandardScaler()"
      ]
     },
     "execution_count": 17,
     "metadata": {},
     "output_type": "execute_result"
    }
   ],
   "source": [
    "scaler = StandardScaler()\n",
    "scaler.fit(X_train)  # 对训练集进行fit"
   ]
  },
  {
   "cell_type": "code",
   "execution_count": 18,
   "id": "8c033193",
   "metadata": {},
   "outputs": [
    {
     "name": "stdout",
     "output_type": "stream",
     "text": [
      "[5.8247619  3.07238095 3.73238095 1.19142857]\n",
      "105\n",
      "[0.7705015  0.45596475 1.71777792 0.74732721]\n"
     ]
    }
   ],
   "source": [
    "# 计算每个特征属性的均值\n",
    "print(scaler.mean_)\n",
    "# n_samples\n",
    "print(scaler.n_samples_seen_)\n",
    "# 输出每个特征属性的方差\n",
    "print(scaler.scale_)"
   ]
  },
  {
   "cell_type": "code",
   "execution_count": 25,
   "id": "b52cb69e",
   "metadata": {},
   "outputs": [
    {
     "name": "stdout",
     "output_type": "stream",
     "text": [
      "[[ 1.00614742 -0.15874243  0.38865271  0.27908984]\n",
      " [ 1.39550422  0.27988797  1.14544437  1.48338159]\n",
      " [-1.84913579 -0.37805763 -1.35778957 -1.32663251]\n",
      " [ 1.13593302 -0.15874243  0.73794117  0.68052042]\n",
      " [ 0.22743381 -0.81668802  0.79615591  0.54671023]]\n",
      "[8.45355532e-16 3.59500789e-16 6.77368214e-18 1.32169408e-16]\n",
      "[1. 1. 1. 1.]\n"
     ]
    }
   ],
   "source": [
    "# 对训练集做一个数据转换\n",
    "X_train_scaler = scaler.transform(X_train)\n",
    "print(X_train_scaler[:5])\n",
    "print(X_train_scaler.mean(axis=0))\n",
    "print(X_train_scaler.var(axis=0))"
   ]
  },
  {
   "cell_type": "code",
   "execution_count": 26,
   "id": "e904566d",
   "metadata": {},
   "outputs": [
    {
     "name": "stdout",
     "output_type": "stream",
     "text": [
      "[[ 1.65507542 -0.15874243  1.26187385  1.2157612 ]\n",
      " [-1.9789214  -0.15874243 -1.5324338  -1.4604427 ]\n",
      " [ 2.43378902 -0.59737283  1.72759179  1.08195101]\n",
      " [ 0.09764821  0.27988797  0.62151168  0.81433062]\n",
      " [ 1.91464662 -0.37805763  1.49473282  0.81433062]]\n",
      "[ 0.08034347 -0.11000572  0.04971354  0.03525792]\n",
      "[1.48649095 0.68383936 1.16177772 1.11035033]\n"
     ]
    }
   ],
   "source": [
    "# 对测试集做一个数据转换\n",
    "X_test_scaler = scaler.transform(X_test)\n",
    "print(X_test_scaler[:5])\n",
    "print(X_test_scaler.mean(axis=0))\n",
    "print(X_test_scaler.var(axis=0))"
   ]
  },
  {
   "cell_type": "code",
   "execution_count": null,
   "id": "381b5616",
   "metadata": {},
   "outputs": [],
   "source": []
  }
 ],
 "metadata": {
  "kernelspec": {
   "display_name": "py37",
   "language": "python",
   "name": "py37"
  },
  "language_info": {
   "codemirror_mode": {
    "name": "ipython",
    "version": 3
   },
   "file_extension": ".py",
   "mimetype": "text/x-python",
   "name": "python",
   "nbconvert_exporter": "python",
   "pygments_lexer": "ipython3",
   "version": "3.7.13"
  }
 },
 "nbformat": 4,
 "nbformat_minor": 5
}
