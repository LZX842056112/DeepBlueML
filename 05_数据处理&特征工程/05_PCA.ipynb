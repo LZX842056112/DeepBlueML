{
 "cells": [
  {
   "cell_type": "markdown",
   "id": "9dab90da",
   "metadata": {},
   "source": [
    "# PCA降维"
   ]
  },
  {
   "cell_type": "code",
   "execution_count": 3,
   "id": "5043675a",
   "metadata": {},
   "outputs": [
    {
     "name": "stdout",
     "output_type": "stream",
     "text": [
      "[-0.525  1.725  3.325  1.125  1.825 12.775]\n",
      "[[ 0.02038178 -0.01698103 -0.01350052 -0.0149724   0.03184796 -0.99893718]\n",
      " [ 0.9024592   0.25030511 -0.31422084 -0.15092666 -0.03185873  0.01965141]]\n",
      "[[-10.11606313   6.492326  ]\n",
      " [ 10.80754053   5.73455069]\n",
      " [-10.34733219  -6.08709685]\n",
      " [  9.65585479  -6.13977984]]\n"
     ]
    }
   ],
   "source": [
    "import numpy as np\n",
    "from sklearn.decomposition import PCA,IncrementalPCA\n",
    "X = np.array([\n",
    "    [ 5.1,  3.5,  1.4,  0.2, 1, 23],\n",
    "    [ 4.9,  3. ,  1.4,  0.2, 2.3, 2.1],\n",
    "    [ -6.2,  0.4,  5.4,  2.3, 2, 23],\n",
    "    [ -5.9,  0. ,  5.1,  1.8, 2, 3]\n",
    "], dtype=np.float64)\n",
    "# n_components: 给定降低到多少维度，但是要求该值必须小于等于样本数目/特征数目，如果给定的值大于，那么会选择样本数目/特征数目中最小的那个作为最终的特征数目\n",
    "# whiten：是否做一个白化的操作，在PCA的基础上，对于特征属性是否做一个标准化\n",
    "pca = PCA(n_components=0.9,whiten=False)\n",
    "pca.fit(X)\n",
    "print(pca.mean_)\n",
    "print(pca.components_) # 特征向量\n",
    "print(pca.transform(X))"
   ]
  },
  {
   "cell_type": "code",
   "execution_count": null,
   "id": "d69848b8",
   "metadata": {},
   "outputs": [],
   "source": []
  }
 ],
 "metadata": {
  "kernelspec": {
   "display_name": "py37",
   "language": "python",
   "name": "py37"
  },
  "language_info": {
   "codemirror_mode": {
    "name": "ipython",
    "version": 3
   },
   "file_extension": ".py",
   "mimetype": "text/x-python",
   "name": "python",
   "nbconvert_exporter": "python",
   "pygments_lexer": "ipython3",
   "version": "3.7.13"
  }
 },
 "nbformat": 4,
 "nbformat_minor": 5
}
