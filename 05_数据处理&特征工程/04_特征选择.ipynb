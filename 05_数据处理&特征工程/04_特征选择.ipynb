{
 "cells": [
  {
   "cell_type": "markdown",
   "id": "0ec386d4",
   "metadata": {},
   "source": [
    "# 特征选择"
   ]
  },
  {
   "cell_type": "code",
   "execution_count": 1,
   "id": "6be0b333",
   "metadata": {},
   "outputs": [],
   "source": [
    "import numpy as np\n",
    "import warnings\n",
    "\n",
    "from sklearn.feature_selection import VarianceThreshold,SelectKBest\n",
    "from sklearn.feature_selection import f_regression\n",
    "from sklearn.feature_selection import chi2\n",
    "from sklearn.feature_selection import RFE\n",
    "from sklearn.feature_selection import SelectFromModel\n",
    "from sklearn.linear_model import LogisticRegression"
   ]
  },
  {
   "cell_type": "code",
   "execution_count": 2,
   "id": "56cd1674",
   "metadata": {},
   "outputs": [],
   "source": [
    "X = np.array([\n",
    "    [0, 2, 0, 3],\n",
    "    [0, 1, 4, 3],\n",
    "    [0.1, 1, 1, 3],\n",
    "    [1, 2, 3, 1],\n",
    "    [2, 3, 4, 3]\n",
    "], dtype=np.float32)\n",
    "Y = np.array([1,2,1,2,1])"
   ]
  },
  {
   "cell_type": "markdown",
   "id": "9245a972",
   "metadata": {},
   "source": [
    "## 方差选择法"
   ]
  },
  {
   "cell_type": "code",
   "execution_count": 3,
   "id": "b5a9bac9",
   "metadata": {},
   "outputs": [
    {
     "name": "stdout",
     "output_type": "stream",
     "text": [
      "VarianceThreshold(threshold=0.7)\n",
      "各个特征属性的方差为:\n",
      "[0.6176 0.56   2.64   0.64  ]\n",
      "-----------------\n",
      "[[0.]\n",
      " [4.]\n",
      " [1.]\n",
      " [3.]\n",
      " [4.]]\n"
     ]
    }
   ],
   "source": [
    "# 基于方差选择最优的特征属性\n",
    "variance = VarianceThreshold(threshold=0.7)\n",
    "print(variance)\n",
    "variance.fit(X)\n",
    "print(\"各个特征属性的方差为:\")\n",
    "print(variance.variances_)\n",
    "print('-----------------')\n",
    "print(variance.transform(X))"
   ]
  },
  {
   "cell_type": "markdown",
   "id": "e347e8f5",
   "metadata": {},
   "source": [
    "## 相关系数法"
   ]
  },
  {
   "cell_type": "code",
   "execution_count": 4,
   "id": "0490a81f",
   "metadata": {},
   "outputs": [
    {
     "name": "stdout",
     "output_type": "stream",
     "text": [
      "SelectKBest(k=2, score_func=<function f_regression at 0x000001B751A8CA68>)\n",
      "------------\n",
      "[0.04736842 0.36       1.32       1.8       ]\n",
      "------------\n",
      "[[0. 3.]\n",
      " [4. 3.]\n",
      " [1. 3.]\n",
      " [3. 1.]\n",
      " [4. 3.]]\n"
     ]
    }
   ],
   "source": [
    "sk1 = SelectKBest(f_regression, k=2)\n",
    "sk1.fit(X,Y)\n",
    "print(sk1)\n",
    "print('------------')\n",
    "print(sk1.scores_)\n",
    "print('------------')\n",
    "print(sk1.transform(X))"
   ]
  },
  {
   "cell_type": "markdown",
   "id": "8308f8f9",
   "metadata": {},
   "source": [
    "## 卡方检验"
   ]
  },
  {
   "cell_type": "code",
   "execution_count": 5,
   "id": "2bc3dea2",
   "metadata": {},
   "outputs": [
    {
     "name": "stdout",
     "output_type": "stream",
     "text": [
      "SelectKBest(k=2, score_func=<function chi2 at 0x000001B751A8C948>)\n",
      "[0.07741936 0.16666667 1.68055556 0.46153846]\n",
      "[[0. 3.]\n",
      " [4. 3.]\n",
      " [1. 3.]\n",
      " [3. 1.]\n",
      " [4. 3.]]\n"
     ]
    }
   ],
   "source": [
    "# 使用chi2的时候要求特征属性的取值为非负数\n",
    "sk2 = SelectKBest(chi2, k=2)\n",
    "sk2.fit(X, Y)\n",
    "print(sk2)\n",
    "print(sk2.scores_)\n",
    "print(sk2.transform(X))"
   ]
  },
  {
   "cell_type": "markdown",
   "id": "53c1e550",
   "metadata": {},
   "source": [
    "## Wrapper-递归特征消除法"
   ]
  },
  {
   "cell_type": "code",
   "execution_count": 6,
   "id": "7aa7c7cf",
   "metadata": {},
   "outputs": [
    {
     "name": "stdout",
     "output_type": "stream",
     "text": [
      "[False  True  True  True]\n",
      "3\n",
      "[2 1 1 1]\n",
      "[[2. 0. 3.]\n",
      " [1. 4. 3.]\n",
      " [1. 1. 3.]\n",
      " [2. 3. 1.]\n",
      " [3. 4. 3.]]\n"
     ]
    }
   ],
   "source": [
    "# 基于特征消去法做的特征选择\n",
    "estimator = LogisticRegression()\n",
    "selector = RFE(estimator,step=2,n_features_to_select=3)\n",
    "selector = selector.fit(X, Y)\n",
    "print(selector.support_)\n",
    "print(selector.n_features_)\n",
    "print(selector.ranking_)\n",
    "print(selector.transform(X))"
   ]
  },
  {
   "cell_type": "markdown",
   "id": "5bfc8cbe",
   "metadata": {},
   "source": [
    "## Embedded【嵌入法】-基于惩罚项的特征选择法"
   ]
  },
  {
   "cell_type": "code",
   "execution_count": 7,
   "id": "b88d62c3",
   "metadata": {},
   "outputs": [
    {
     "name": "stdout",
     "output_type": "stream",
     "text": [
      "[[ 5.1  1.4]\n",
      " [ 4.9  1.4]\n",
      " [-6.2  5.4]\n",
      " [-5.9  5.1]]\n",
      "系数:\n",
      "[[-0.28319012 -0.07821437  0.09858841  0.04716025]]\n"
     ]
    }
   ],
   "source": [
    "X2 = np.array([\n",
    "    [ 5.1,  3.5,  1.4,  0.2],\n",
    "    [ 4.9,  3. ,  1.4,  0.2],\n",
    "    [ -6.2,  0.4,  5.4,  2.3],\n",
    "    [ -5.9,  0. ,  5.1,  1.8]\n",
    "], dtype=np.float64)\n",
    "Y2 = np.array([0, 0, 2, 2])\n",
    "estimator = LogisticRegression(penalty='l2', C=0.1)\n",
    "sfm = SelectFromModel(estimator,threshold=0.09)\n",
    "sfm.fit(X2, Y2)\n",
    "print(sfm.transform(X2))\n",
    "print(\"系数:\")\n",
    "print(sfm.estimator_.coef_)"
   ]
  },
  {
   "cell_type": "code",
   "execution_count": null,
   "id": "d5c3d914",
   "metadata": {},
   "outputs": [],
   "source": []
  }
 ],
 "metadata": {
  "kernelspec": {
   "display_name": "py37",
   "language": "python",
   "name": "py37"
  },
  "language_info": {
   "codemirror_mode": {
    "name": "ipython",
    "version": 3
   },
   "file_extension": ".py",
   "mimetype": "text/x-python",
   "name": "python",
   "nbconvert_exporter": "python",
   "pygments_lexer": "ipython3",
   "version": "3.7.13"
  }
 },
 "nbformat": 4,
 "nbformat_minor": 5
}
