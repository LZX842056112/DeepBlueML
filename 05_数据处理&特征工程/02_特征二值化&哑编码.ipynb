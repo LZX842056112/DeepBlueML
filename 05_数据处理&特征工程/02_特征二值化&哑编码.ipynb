{
 "cells": [
  {
   "cell_type": "markdown",
   "id": "25c9ad3b",
   "metadata": {},
   "source": [
    "# 加载数据"
   ]
  },
  {
   "cell_type": "code",
   "execution_count": 2,
   "id": "aa6a31e6",
   "metadata": {},
   "outputs": [],
   "source": [
    "#导入内置的鸢尾花数据\n",
    "from sklearn.datasets import load_iris\n",
    "\n",
    "iris = load_iris()\n",
    "#定义数据、标签\n",
    "X = iris.data\n",
    "y = iris.target"
   ]
  },
  {
   "cell_type": "markdown",
   "id": "dd599821",
   "metadata": {},
   "source": [
    "# 划分训练集&测试集"
   ]
  },
  {
   "cell_type": "code",
   "execution_count": 3,
   "id": "754f4b81",
   "metadata": {},
   "outputs": [
    {
     "name": "stdout",
     "output_type": "stream",
     "text": [
      "(105, 4)\n"
     ]
    }
   ],
   "source": [
    "from sklearn.model_selection import train_test_split\n",
    "\n",
    "X_train, X_test, y_train, y_test = train_test_split(X,\n",
    "                                                    y,\n",
    "                                                    random_state=12,\n",
    "                                                    stratify=y,\n",
    "                                                    test_size=0.3)\n",
    "print(X_train.shape)"
   ]
  },
  {
   "cell_type": "code",
   "execution_count": 10,
   "id": "2a11850b",
   "metadata": {},
   "outputs": [
    {
     "name": "stdout",
     "output_type": "stream",
     "text": [
      "[[6.6 3.  4.4 1.4]\n",
      " [6.9 3.2 5.7 2.3]\n",
      " [4.4 2.9 1.4 0.2]\n",
      " [6.7 3.  5.  1.7]\n",
      " [6.  2.7 5.1 1.6]]\n"
     ]
    }
   ],
   "source": [
    "print(X_train[:5])"
   ]
  },
  {
   "cell_type": "markdown",
   "id": "57f6ac09",
   "metadata": {},
   "source": [
    "# 特征二值化"
   ]
  },
  {
   "cell_type": "code",
   "execution_count": 4,
   "id": "26c2636f",
   "metadata": {},
   "outputs": [],
   "source": [
    "from sklearn.preprocessing import Binarizer"
   ]
  },
  {
   "cell_type": "code",
   "execution_count": 5,
   "id": "374ef5bf",
   "metadata": {},
   "outputs": [],
   "source": [
    "binarizer = Binarizer(threshold=3)"
   ]
  },
  {
   "cell_type": "code",
   "execution_count": 6,
   "id": "aaeabc3c",
   "metadata": {},
   "outputs": [
    {
     "data": {
      "text/plain": [
       "Binarizer(threshold=3)"
      ]
     },
     "execution_count": 6,
     "metadata": {},
     "output_type": "execute_result"
    }
   ],
   "source": [
    "binarizer.fit(X_train)"
   ]
  },
  {
   "cell_type": "code",
   "execution_count": 8,
   "id": "3949eb60",
   "metadata": {
    "collapsed": true
   },
   "outputs": [
    {
     "name": "stdout",
     "output_type": "stream",
     "text": [
      "[[1. 0. 1. 0.]\n",
      " [1. 1. 1. 0.]\n",
      " [1. 0. 0. 0.]\n",
      " [1. 0. 1. 0.]\n",
      " [1. 0. 1. 0.]\n",
      " [1. 0. 0. 0.]\n",
      " [1. 0. 0. 0.]\n",
      " [1. 0. 1. 0.]\n",
      " [1. 1. 1. 0.]\n",
      " [1. 0. 1. 0.]\n",
      " [1. 0. 1. 0.]\n",
      " [1. 0. 1. 0.]\n",
      " [1. 1. 1. 0.]\n",
      " [1. 0. 0. 0.]\n",
      " [1. 1. 0. 0.]\n",
      " [1. 1. 0. 0.]\n",
      " [1. 1. 1. 0.]\n",
      " [1. 0. 1. 0.]\n",
      " [1. 1. 1. 0.]\n",
      " [1. 0. 1. 0.]\n",
      " [1. 0. 1. 0.]\n",
      " [1. 0. 1. 0.]\n",
      " [1. 1. 0. 0.]\n",
      " [1. 1. 0. 0.]\n",
      " [1. 0. 1. 0.]\n",
      " [1. 1. 0. 0.]\n",
      " [1. 1. 0. 0.]\n",
      " [1. 1. 1. 0.]\n",
      " [1. 0. 1. 0.]\n",
      " [1. 1. 0. 0.]\n",
      " [1. 0. 1. 0.]\n",
      " [1. 0. 0. 0.]\n",
      " [1. 1. 1. 0.]\n",
      " [1. 0. 1. 0.]\n",
      " [1. 1. 0. 0.]\n",
      " [1. 0. 1. 0.]\n",
      " [1. 1. 0. 0.]\n",
      " [1. 0. 1. 0.]\n",
      " [1. 1. 0. 0.]\n",
      " [1. 0. 1. 0.]\n",
      " [1. 1. 0. 0.]\n",
      " [1. 1. 0. 0.]\n",
      " [1. 0. 1. 0.]\n",
      " [1. 0. 1. 0.]\n",
      " [1. 1. 1. 0.]\n",
      " [1. 1. 0. 0.]\n",
      " [1. 1. 0. 0.]\n",
      " [1. 0. 1. 0.]\n",
      " [1. 1. 1. 0.]\n",
      " [1. 1. 1. 0.]\n",
      " [1. 1. 0. 0.]\n",
      " [1. 0. 1. 0.]\n",
      " [1. 1. 0. 0.]\n",
      " [1. 1. 0. 0.]\n",
      " [1. 0. 1. 0.]\n",
      " [1. 0. 1. 0.]\n",
      " [1. 1. 0. 0.]\n",
      " [1. 0. 1. 0.]\n",
      " [1. 0. 1. 0.]\n",
      " [1. 0. 1. 0.]\n",
      " [1. 1. 1. 0.]\n",
      " [1. 1. 1. 0.]\n",
      " [1. 0. 1. 0.]\n",
      " [1. 1. 1. 0.]\n",
      " [1. 0. 1. 0.]\n",
      " [1. 1. 1. 0.]\n",
      " [1. 1. 1. 0.]\n",
      " [1. 0. 1. 0.]\n",
      " [1. 1. 0. 0.]\n",
      " [1. 0. 1. 0.]\n",
      " [1. 1. 0. 0.]\n",
      " [1. 0. 1. 0.]\n",
      " [1. 0. 1. 0.]\n",
      " [1. 1. 0. 0.]\n",
      " [1. 1. 1. 0.]\n",
      " [1. 0. 1. 0.]\n",
      " [1. 0. 1. 0.]\n",
      " [1. 1. 1. 0.]\n",
      " [1. 1. 0. 0.]\n",
      " [1. 1. 0. 0.]\n",
      " [1. 0. 1. 0.]\n",
      " [1. 0. 1. 0.]\n",
      " [1. 1. 1. 0.]\n",
      " [1. 0. 1. 0.]\n",
      " [1. 1. 0. 0.]\n",
      " [1. 0. 1. 0.]\n",
      " [1. 0. 1. 0.]\n",
      " [1. 1. 0. 0.]\n",
      " [1. 0. 1. 0.]\n",
      " [1. 0. 1. 0.]\n",
      " [1. 0. 1. 0.]\n",
      " [1. 1. 0. 0.]\n",
      " [1. 1. 0. 0.]\n",
      " [1. 1. 0. 0.]\n",
      " [1. 0. 1. 0.]\n",
      " [1. 0. 1. 0.]\n",
      " [1. 0. 1. 0.]\n",
      " [1. 0. 1. 0.]\n",
      " [1. 1. 0. 0.]\n",
      " [1. 0. 1. 0.]\n",
      " [1. 0. 1. 0.]\n",
      " [1. 1. 0. 0.]\n",
      " [1. 1. 0. 0.]\n",
      " [1. 1. 1. 0.]\n",
      " [1. 0. 1. 0.]]\n"
     ]
    }
   ],
   "source": [
    "X_train_bin = binarizer.transform(X_train)\n",
    "print(X_train_bin)"
   ]
  },
  {
   "cell_type": "code",
   "execution_count": 9,
   "id": "4c836f11",
   "metadata": {
    "collapsed": true
   },
   "outputs": [
    {
     "name": "stdout",
     "output_type": "stream",
     "text": [
      "[[1. 0. 1. 0.]\n",
      " [1. 0. 0. 0.]\n",
      " [1. 0. 1. 0.]\n",
      " [1. 1. 1. 0.]\n",
      " [1. 0. 1. 0.]\n",
      " [1. 1. 0. 0.]\n",
      " [1. 1. 0. 0.]\n",
      " [1. 0. 1. 0.]\n",
      " [1. 1. 0. 0.]\n",
      " [1. 0. 1. 0.]\n",
      " [1. 1. 0. 0.]\n",
      " [1. 1. 0. 0.]\n",
      " [1. 1. 0. 0.]\n",
      " [1. 0. 0. 0.]\n",
      " [1. 1. 1. 0.]\n",
      " [1. 0. 1. 0.]\n",
      " [1. 0. 1. 0.]\n",
      " [1. 0. 1. 0.]\n",
      " [1. 0. 1. 0.]\n",
      " [1. 0. 1. 0.]\n",
      " [1. 0. 1. 0.]\n",
      " [1. 1. 1. 0.]\n",
      " [1. 0. 1. 0.]\n",
      " [1. 0. 1. 0.]\n",
      " [1. 0. 0. 0.]\n",
      " [1. 0. 1. 0.]\n",
      " [1. 0. 1. 0.]\n",
      " [1. 1. 0. 0.]\n",
      " [1. 1. 0. 0.]\n",
      " [1. 0. 1. 0.]\n",
      " [1. 0. 1. 0.]\n",
      " [1. 0. 1. 0.]\n",
      " [1. 0. 1. 0.]\n",
      " [1. 0. 1. 0.]\n",
      " [1. 1. 1. 0.]\n",
      " [1. 1. 0. 0.]\n",
      " [1. 1. 0. 0.]\n",
      " [1. 0. 0. 0.]\n",
      " [1. 0. 1. 0.]\n",
      " [1. 0. 1. 0.]\n",
      " [1. 1. 1. 0.]\n",
      " [1. 1. 0. 0.]\n",
      " [1. 1. 1. 0.]\n",
      " [1. 0. 1. 0.]\n",
      " [1. 0. 1. 0.]]\n"
     ]
    }
   ],
   "source": [
    "X_test_bin = binarizer.transform(X_test)\n",
    "print(X_test_bin)"
   ]
  },
  {
   "cell_type": "code",
   "execution_count": 11,
   "id": "b83cdc75",
   "metadata": {},
   "outputs": [],
   "source": [
    "# 设置每一列特征的阈值\n",
    "binarizer = Binarizer(threshold=[3,2,3,1])"
   ]
  },
  {
   "cell_type": "code",
   "execution_count": 12,
   "id": "43e2d732",
   "metadata": {},
   "outputs": [
    {
     "data": {
      "text/plain": [
       "Binarizer(threshold=[3, 2, 3, 1])"
      ]
     },
     "execution_count": 12,
     "metadata": {},
     "output_type": "execute_result"
    }
   ],
   "source": [
    "binarizer.fit(X_train)"
   ]
  },
  {
   "cell_type": "code",
   "execution_count": 13,
   "id": "ee14aaca",
   "metadata": {
    "collapsed": true
   },
   "outputs": [
    {
     "name": "stdout",
     "output_type": "stream",
     "text": [
      "[[1. 1. 1. 1.]\n",
      " [1. 1. 1. 1.]\n",
      " [1. 1. 0. 0.]\n",
      " [1. 1. 1. 1.]\n",
      " [1. 1. 1. 1.]\n",
      " [1. 1. 0. 0.]\n",
      " [1. 1. 0. 0.]\n",
      " [1. 1. 1. 1.]\n",
      " [1. 1. 1. 1.]\n",
      " [1. 1. 1. 1.]\n",
      " [1. 1. 1. 1.]\n",
      " [1. 1. 1. 1.]\n",
      " [1. 1. 1. 1.]\n",
      " [1. 1. 0. 1.]\n",
      " [1. 1. 0. 0.]\n",
      " [1. 1. 0. 0.]\n",
      " [1. 1. 1. 1.]\n",
      " [1. 1. 1. 1.]\n",
      " [1. 1. 1. 1.]\n",
      " [1. 1. 1. 1.]\n",
      " [1. 1. 1. 1.]\n",
      " [1. 1. 1. 1.]\n",
      " [1. 1. 0. 0.]\n",
      " [1. 1. 0. 0.]\n",
      " [1. 1. 1. 0.]\n",
      " [1. 1. 0. 0.]\n",
      " [1. 1. 0. 0.]\n",
      " [1. 1. 1. 1.]\n",
      " [1. 1. 1. 1.]\n",
      " [1. 1. 0. 0.]\n",
      " [1. 1. 1. 1.]\n",
      " [1. 1. 0. 0.]\n",
      " [1. 1. 1. 1.]\n",
      " [1. 1. 1. 1.]\n",
      " [1. 1. 0. 0.]\n",
      " [1. 1. 1. 1.]\n",
      " [1. 1. 0. 0.]\n",
      " [1. 1. 1. 1.]\n",
      " [1. 1. 0. 0.]\n",
      " [1. 1. 1. 1.]\n",
      " [1. 1. 0. 0.]\n",
      " [1. 1. 0. 0.]\n",
      " [1. 1. 1. 1.]\n",
      " [1. 1. 1. 0.]\n",
      " [1. 1. 1. 1.]\n",
      " [1. 1. 0. 0.]\n",
      " [1. 1. 0. 0.]\n",
      " [1. 1. 1. 1.]\n",
      " [1. 1. 1. 1.]\n",
      " [1. 1. 1. 1.]\n",
      " [1. 1. 0. 0.]\n",
      " [1. 1. 1. 1.]\n",
      " [1. 1. 0. 0.]\n",
      " [1. 1. 0. 0.]\n",
      " [1. 1. 1. 1.]\n",
      " [1. 1. 1. 1.]\n",
      " [1. 1. 0. 0.]\n",
      " [1. 1. 1. 1.]\n",
      " [1. 1. 1. 1.]\n",
      " [1. 1. 1. 1.]\n",
      " [1. 1. 1. 1.]\n",
      " [1. 1. 1. 1.]\n",
      " [1. 1. 1. 1.]\n",
      " [1. 1. 1. 1.]\n",
      " [1. 1. 1. 1.]\n",
      " [1. 1. 1. 1.]\n",
      " [1. 1. 1. 1.]\n",
      " [1. 1. 1. 1.]\n",
      " [1. 1. 0. 0.]\n",
      " [1. 1. 1. 1.]\n",
      " [1. 1. 0. 0.]\n",
      " [1. 1. 1. 1.]\n",
      " [1. 1. 1. 1.]\n",
      " [1. 1. 0. 0.]\n",
      " [1. 1. 1. 1.]\n",
      " [1. 1. 1. 1.]\n",
      " [1. 1. 1. 1.]\n",
      " [1. 1. 1. 1.]\n",
      " [1. 1. 0. 0.]\n",
      " [1. 1. 0. 0.]\n",
      " [1. 1. 1. 1.]\n",
      " [1. 1. 1. 1.]\n",
      " [1. 1. 1. 1.]\n",
      " [1. 1. 1. 1.]\n",
      " [1. 1. 0. 0.]\n",
      " [1. 1. 1. 1.]\n",
      " [1. 1. 1. 1.]\n",
      " [1. 1. 0. 0.]\n",
      " [1. 1. 1. 1.]\n",
      " [1. 1. 1. 1.]\n",
      " [1. 1. 1. 0.]\n",
      " [1. 1. 0. 0.]\n",
      " [1. 1. 0. 0.]\n",
      " [1. 1. 0. 0.]\n",
      " [1. 1. 1. 1.]\n",
      " [1. 1. 1. 1.]\n",
      " [1. 1. 1. 1.]\n",
      " [1. 1. 1. 1.]\n",
      " [1. 1. 0. 0.]\n",
      " [1. 1. 1. 0.]\n",
      " [1. 1. 1. 1.]\n",
      " [1. 1. 0. 0.]\n",
      " [1. 1. 0. 0.]\n",
      " [1. 1. 1. 1.]\n",
      " [1. 1. 1. 0.]]\n"
     ]
    }
   ],
   "source": [
    "X_train_bin = binarizer.transform(X_train)\n",
    "print(X_train_bin)"
   ]
  },
  {
   "cell_type": "code",
   "execution_count": 14,
   "id": "8c3c53b6",
   "metadata": {
    "collapsed": true
   },
   "outputs": [
    {
     "name": "stdout",
     "output_type": "stream",
     "text": [
      "[[1. 1. 1. 1.]\n",
      " [1. 1. 0. 0.]\n",
      " [1. 1. 1. 1.]\n",
      " [1. 1. 1. 1.]\n",
      " [1. 1. 1. 1.]\n",
      " [1. 1. 0. 0.]\n",
      " [1. 1. 0. 0.]\n",
      " [1. 1. 1. 1.]\n",
      " [1. 1. 0. 0.]\n",
      " [1. 1. 1. 1.]\n",
      " [1. 1. 0. 0.]\n",
      " [1. 1. 0. 0.]\n",
      " [1. 1. 0. 0.]\n",
      " [1. 1. 0. 0.]\n",
      " [1. 1. 1. 1.]\n",
      " [1. 1. 1. 1.]\n",
      " [1. 0. 1. 0.]\n",
      " [1. 1. 1. 1.]\n",
      " [1. 1. 1. 1.]\n",
      " [1. 1. 1. 1.]\n",
      " [1. 1. 1. 1.]\n",
      " [1. 1. 1. 1.]\n",
      " [1. 1. 1. 1.]\n",
      " [1. 1. 1. 1.]\n",
      " [1. 1. 0. 0.]\n",
      " [1. 1. 1. 1.]\n",
      " [1. 1. 1. 1.]\n",
      " [1. 1. 0. 0.]\n",
      " [1. 1. 0. 0.]\n",
      " [1. 1. 1. 1.]\n",
      " [1. 1. 1. 1.]\n",
      " [1. 1. 1. 1.]\n",
      " [1. 1. 1. 1.]\n",
      " [1. 1. 1. 1.]\n",
      " [1. 1. 1. 1.]\n",
      " [1. 1. 0. 0.]\n",
      " [1. 1. 0. 0.]\n",
      " [1. 1. 0. 0.]\n",
      " [1. 1. 1. 1.]\n",
      " [1. 1. 1. 1.]\n",
      " [1. 1. 1. 1.]\n",
      " [1. 1. 0. 0.]\n",
      " [1. 1. 1. 1.]\n",
      " [1. 1. 1. 0.]\n",
      " [1. 1. 1. 1.]]\n"
     ]
    }
   ],
   "source": [
    "X_test_bin = binarizer.transform(X_test)\n",
    "print(X_test_bin)"
   ]
  },
  {
   "cell_type": "markdown",
   "id": "961b44aa",
   "metadata": {},
   "source": [
    "# 分箱"
   ]
  },
  {
   "cell_type": "code",
   "execution_count": 29,
   "id": "9098464e",
   "metadata": {},
   "outputs": [],
   "source": [
    "from sklearn.preprocessing import KBinsDiscretizer"
   ]
  },
  {
   "cell_type": "markdown",
   "id": "276387c0",
   "metadata": {},
   "source": [
    "- 参数：\n",
    "-- n_bins：\n",
    "        int or array-like, shape (n_features,) (default=5) \n",
    "        产生的箱数。如果n_bins <2，则引发ValueError。\n",
    "-- encode:\n",
    "        {‘onehot’, ‘onehot-dense’, ‘ordinal’}, (default=’onehot’)\n",
    "        用于编码转换结果的方法。\n",
    "        onehot\n",
    "        使用一键编码对转换后的结果进行编码，然后返回一个稀疏矩阵。忽略的要素总是堆叠在右侧。\n",
    "        onehot-dense\n",
    "        用一个热编码对转换后的结果进行编码，并返回一个密集数组。忽略的要素总是堆叠在右侧。\n",
    "        ordinal\n",
    "        返回编码为整数值的bin标识符。\n",
    "-- strategy:\n",
    "        {‘uniform’, ‘quantile’, ‘kmeans’}, (default=’quantile’)\n",
    "        用于定义箱子宽度的策略。\n",
    "        uniform\n",
    "        每个功能中的所有箱子具有相同的宽度。\n",
    "        quantile\n",
    "        每个功能中的所有存储箱都具有相同的点数。\n",
    "        kmeans\n",
    "        每个bin中的值都具有一维k均值聚类的最接近中心。\n"
   ]
  },
  {
   "cell_type": "code",
   "execution_count": 30,
   "id": "90b76c9c",
   "metadata": {},
   "outputs": [],
   "source": [
    "est = KBinsDiscretizer(n_bins=3, encode='ordinal', strategy='uniform')"
   ]
  },
  {
   "cell_type": "code",
   "execution_count": 31,
   "id": "9b6e9f5d",
   "metadata": {},
   "outputs": [],
   "source": [
    "X_train_kb = est.fit_transform(X_train)"
   ]
  },
  {
   "cell_type": "code",
   "execution_count": 32,
   "id": "9a01a3f9",
   "metadata": {
    "collapsed": true
   },
   "outputs": [
    {
     "name": "stdout",
     "output_type": "stream",
     "text": [
      "[[1. 1. 1. 1.]\n",
      " [2. 1. 2. 2.]\n",
      " [0. 0. 0. 0.]\n",
      " [1. 1. 2. 2.]\n",
      " [1. 0. 2. 1.]\n",
      " [0. 0. 0. 0.]\n",
      " [0. 1. 0. 0.]\n",
      " [1. 0. 1. 1.]\n",
      " [2. 1. 2. 2.]\n",
      " [1. 0. 2. 2.]\n",
      " [1. 1. 1. 1.]\n",
      " [1. 0. 1. 2.]\n",
      " [1. 1. 1. 1.]\n",
      " [0. 0. 0. 1.]\n",
      " [0. 1. 0. 0.]\n",
      " [0. 2. 0. 0.]\n",
      " [2. 2. 2. 2.]\n",
      " [1. 1. 1. 1.]\n",
      " [1. 1. 2. 2.]\n",
      " [1. 0. 2. 2.]\n",
      " [1. 0. 2. 2.]\n",
      " [1. 0. 1. 1.]\n",
      " [0. 2. 0. 0.]\n",
      " [0. 1. 0. 0.]\n",
      " [0. 0. 1. 1.]\n",
      " [0. 2. 0. 0.]\n",
      " [0. 2. 0. 0.]\n",
      " [2. 1. 2. 2.]\n",
      " [1. 1. 2. 2.]\n",
      " [0. 1. 0. 0.]\n",
      " [1. 0. 2. 2.]\n",
      " [0. 1. 0. 0.]\n",
      " [2. 1. 1. 1.]\n",
      " [1. 0. 2. 1.]\n",
      " [0. 1. 0. 0.]\n",
      " [2. 0. 2. 2.]\n",
      " [0. 1. 0. 0.]\n",
      " [1. 0. 2. 1.]\n",
      " [0. 1. 0. 0.]\n",
      " [1. 0. 1. 2.]\n",
      " [0. 2. 0. 0.]\n",
      " [1. 2. 0. 0.]\n",
      " [1. 0. 1. 1.]\n",
      " [1. 0. 1. 1.]\n",
      " [1. 1. 2. 2.]\n",
      " [0. 1. 0. 0.]\n",
      " [0. 1. 0. 0.]\n",
      " [1. 0. 1. 1.]\n",
      " [1. 1. 2. 2.]\n",
      " [1. 1. 2. 2.]\n",
      " [0. 1. 0. 0.]\n",
      " [1. 0. 1. 1.]\n",
      " [0. 1. 0. 0.]\n",
      " [1. 2. 0. 0.]\n",
      " [1. 0. 1. 1.]\n",
      " [0. 0. 1. 1.]\n",
      " [0. 2. 0. 0.]\n",
      " [1. 0. 1. 1.]\n",
      " [1. 0. 1. 1.]\n",
      " [1. 0. 1. 1.]\n",
      " [1. 1. 1. 1.]\n",
      " [1. 1. 2. 2.]\n",
      " [2. 0. 1. 1.]\n",
      " [1. 1. 1. 1.]\n",
      " [1. 0. 2. 2.]\n",
      " [1. 1. 1. 1.]\n",
      " [2. 2. 2. 2.]\n",
      " [1. 0. 2. 2.]\n",
      " [0. 1. 0. 0.]\n",
      " [1. 1. 2. 2.]\n",
      " [0. 1. 0. 0.]\n",
      " [1. 1. 2. 2.]\n",
      " [0. 0. 1. 1.]\n",
      " [0. 1. 0. 0.]\n",
      " [2. 1. 2. 2.]\n",
      " [1. 1. 1. 2.]\n",
      " [0. 0. 1. 1.]\n",
      " [1. 1. 2. 2.]\n",
      " [0. 1. 0. 0.]\n",
      " [0. 1. 0. 0.]\n",
      " [1. 0. 1. 1.]\n",
      " [1. 0. 1. 1.]\n",
      " [2. 1. 2. 2.]\n",
      " [1. 0. 2. 2.]\n",
      " [0. 2. 0. 0.]\n",
      " [2. 1. 2. 1.]\n",
      " [0. 0. 1. 1.]\n",
      " [0. 1. 0. 0.]\n",
      " [1. 0. 2. 1.]\n",
      " [1. 1. 1. 1.]\n",
      " [1. 0. 1. 1.]\n",
      " [0. 1. 0. 0.]\n",
      " [0. 1. 0. 0.]\n",
      " [1. 2. 0. 0.]\n",
      " [0. 1. 1. 1.]\n",
      " [0. 0. 1. 2.]\n",
      " [1. 0. 2. 2.]\n",
      " [1. 0. 1. 2.]\n",
      " [0. 2. 0. 0.]\n",
      " [1. 0. 1. 1.]\n",
      " [1. 0. 1. 1.]\n",
      " [0. 1. 0. 0.]\n",
      " [0. 1. 0. 0.]\n",
      " [1. 1. 2. 2.]\n",
      " [0. 0. 1. 1.]]\n"
     ]
    }
   ],
   "source": [
    "print(X_train_kb)"
   ]
  },
  {
   "cell_type": "code",
   "execution_count": 33,
   "id": "c263e693",
   "metadata": {
    "collapsed": true
   },
   "outputs": [
    {
     "name": "stdout",
     "output_type": "stream",
     "text": [
      "[[2. 1. 2. 2.]\n",
      " [0. 1. 0. 0.]\n",
      " [2. 0. 2. 2.]\n",
      " [1. 1. 1. 2.]\n",
      " [2. 0. 2. 2.]\n",
      " [0. 1. 0. 0.]\n",
      " [0. 1. 0. 0.]\n",
      " [1. 0. 1. 1.]\n",
      " [0. 1. 0. 0.]\n",
      " [2. 1. 2. 2.]\n",
      " [0. 1. 0. 0.]\n",
      " [0. 2. 0. 0.]\n",
      " [0. 2. 0. 0.]\n",
      " [0. 1. 0. 0.]\n",
      " [1. 1. 1. 1.]\n",
      " [1. 0. 2. 2.]\n",
      " [0. 0. 1. 1.]\n",
      " [1. 0. 1. 1.]\n",
      " [1. 0. 1. 1.]\n",
      " [1. 0. 2. 2.]\n",
      " [2. 1. 2. 2.]\n",
      " [2. 1. 2. 2.]\n",
      " [1. 1. 2. 2.]\n",
      " [2. 1. 2. 2.]\n",
      " [0. 1. 0. 0.]\n",
      " [0. 0. 1. 1.]\n",
      " [1. 0. 1. 1.]\n",
      " [0. 1. 0. 0.]\n",
      " [0. 1. 0. 0.]\n",
      " [1. 1. 1. 1.]\n",
      " [1. 0. 1. 1.]\n",
      " [1. 0. 1. 1.]\n",
      " [1. 1. 1. 1.]\n",
      " [1. 1. 2. 2.]\n",
      " [1. 1. 2. 2.]\n",
      " [0. 1. 0. 0.]\n",
      " [0. 1. 0. 0.]\n",
      " [0. 1. 0. 0.]\n",
      " [1. 1. 1. 2.]\n",
      " [1. 0. 1. 1.]\n",
      " [1. 1. 2. 2.]\n",
      " [0. 1. 0. 0.]\n",
      " [2. 1. 1. 1.]\n",
      " [0. 0. 1. 1.]\n",
      " [2. 0. 2. 2.]]\n"
     ]
    }
   ],
   "source": [
    "X_test_kb = est.transform(X_test)\n",
    "print(X_test_kb)"
   ]
  },
  {
   "cell_type": "code",
   "execution_count": 35,
   "id": "27e1dccd",
   "metadata": {},
   "outputs": [],
   "source": [
    "# 每个特征不同分箱数目\n",
    "est = KBinsDiscretizer(n_bins=[3,2,4,3], encode='ordinal', strategy='uniform')"
   ]
  },
  {
   "cell_type": "code",
   "execution_count": 36,
   "id": "f273b896",
   "metadata": {
    "collapsed": true
   },
   "outputs": [
    {
     "name": "stdout",
     "output_type": "stream",
     "text": [
      "[[1. 0. 2. 1.]\n",
      " [2. 0. 3. 2.]\n",
      " [0. 0. 0. 0.]\n",
      " [1. 0. 2. 2.]\n",
      " [1. 0. 2. 1.]\n",
      " [0. 0. 0. 0.]\n",
      " [0. 0. 0. 0.]\n",
      " [1. 0. 2. 1.]\n",
      " [2. 0. 3. 2.]\n",
      " [1. 0. 2. 2.]\n",
      " [1. 0. 2. 1.]\n",
      " [1. 0. 2. 2.]\n",
      " [1. 0. 2. 1.]\n",
      " [0. 0. 1. 1.]\n",
      " [0. 1. 0. 0.]\n",
      " [0. 1. 0. 0.]\n",
      " [2. 1. 3. 2.]\n",
      " [1. 0. 2. 1.]\n",
      " [1. 1. 3. 2.]\n",
      " [1. 0. 2. 2.]\n",
      " [1. 0. 2. 2.]\n",
      " [1. 0. 2. 1.]\n",
      " [0. 1. 0. 0.]\n",
      " [0. 0. 0. 0.]\n",
      " [0. 0. 1. 1.]\n",
      " [0. 1. 0. 0.]\n",
      " [0. 1. 0. 0.]\n",
      " [2. 0. 2. 2.]\n",
      " [1. 0. 2. 2.]\n",
      " [0. 1. 0. 0.]\n",
      " [1. 0. 2. 2.]\n",
      " [0. 0. 0. 0.]\n",
      " [2. 0. 2. 1.]\n",
      " [1. 0. 2. 1.]\n",
      " [0. 0. 0. 0.]\n",
      " [2. 0. 3. 2.]\n",
      " [0. 1. 0. 0.]\n",
      " [1. 0. 3. 1.]\n",
      " [0. 1. 0. 0.]\n",
      " [1. 0. 2. 2.]\n",
      " [0. 1. 0. 0.]\n",
      " [1. 1. 0. 0.]\n",
      " [1. 0. 2. 1.]\n",
      " [1. 0. 1. 1.]\n",
      " [1. 0. 3. 2.]\n",
      " [0. 1. 0. 0.]\n",
      " [0. 1. 0. 0.]\n",
      " [1. 0. 2. 1.]\n",
      " [1. 0. 2. 2.]\n",
      " [1. 0. 3. 2.]\n",
      " [0. 1. 0. 0.]\n",
      " [1. 0. 1. 1.]\n",
      " [0. 1. 0. 0.]\n",
      " [1. 1. 0. 0.]\n",
      " [1. 0. 2. 1.]\n",
      " [0. 0. 2. 1.]\n",
      " [0. 1. 0. 0.]\n",
      " [1. 0. 2. 1.]\n",
      " [1. 0. 1. 1.]\n",
      " [1. 0. 2. 1.]\n",
      " [1. 0. 2. 1.]\n",
      " [1. 1. 3. 2.]\n",
      " [2. 0. 2. 1.]\n",
      " [1. 0. 2. 1.]\n",
      " [1. 0. 3. 2.]\n",
      " [1. 1. 2. 1.]\n",
      " [2. 1. 3. 2.]\n",
      " [1. 0. 2. 2.]\n",
      " [0. 0. 0. 0.]\n",
      " [1. 0. 3. 2.]\n",
      " [0. 1. 0. 0.]\n",
      " [1. 0. 2. 2.]\n",
      " [0. 0. 1. 1.]\n",
      " [0. 0. 0. 0.]\n",
      " [2. 0. 3. 2.]\n",
      " [1. 0. 2. 2.]\n",
      " [0. 0. 1. 1.]\n",
      " [1. 1. 3. 2.]\n",
      " [0. 1. 0. 0.]\n",
      " [0. 0. 0. 0.]\n",
      " [1. 0. 2. 1.]\n",
      " [1. 0. 1. 1.]\n",
      " [2. 0. 2. 2.]\n",
      " [1. 0. 3. 2.]\n",
      " [0. 1. 0. 0.]\n",
      " [2. 0. 3. 1.]\n",
      " [0. 0. 1. 1.]\n",
      " [0. 1. 0. 0.]\n",
      " [1. 0. 2. 1.]\n",
      " [1. 0. 2. 1.]\n",
      " [1. 0. 1. 1.]\n",
      " [0. 1. 0. 0.]\n",
      " [0. 1. 0. 0.]\n",
      " [1. 1. 0. 0.]\n",
      " [0. 0. 2. 1.]\n",
      " [0. 0. 2. 2.]\n",
      " [1. 0. 3. 2.]\n",
      " [1. 0. 2. 2.]\n",
      " [0. 1. 0. 0.]\n",
      " [1. 0. 2. 1.]\n",
      " [1. 0. 2. 1.]\n",
      " [0. 1. 0. 0.]\n",
      " [0. 0. 0. 0.]\n",
      " [1. 1. 2. 2.]\n",
      " [0. 0. 1. 1.]]\n"
     ]
    }
   ],
   "source": [
    "X_train_kb = est.fit_transform(X_train)\n",
    "print(X_train_kb)"
   ]
  },
  {
   "cell_type": "code",
   "execution_count": 37,
   "id": "420077a7",
   "metadata": {
    "collapsed": true
   },
   "outputs": [
    {
     "name": "stdout",
     "output_type": "stream",
     "text": [
      "[[2. 0. 3. 2.]\n",
      " [0. 0. 0. 0.]\n",
      " [2. 0. 3. 2.]\n",
      " [1. 0. 2. 2.]\n",
      " [2. 0. 3. 2.]\n",
      " [0. 0. 0. 0.]\n",
      " [0. 1. 0. 0.]\n",
      " [1. 0. 2. 1.]\n",
      " [0. 0. 0. 0.]\n",
      " [2. 0. 3. 2.]\n",
      " [0. 1. 0. 0.]\n",
      " [0. 1. 0. 0.]\n",
      " [0. 1. 0. 0.]\n",
      " [0. 0. 0. 0.]\n",
      " [1. 1. 2. 1.]\n",
      " [1. 0. 3. 2.]\n",
      " [0. 0. 1. 1.]\n",
      " [1. 0. 2. 1.]\n",
      " [1. 0. 2. 1.]\n",
      " [1. 0. 2. 2.]\n",
      " [2. 0. 3. 2.]\n",
      " [2. 1. 3. 2.]\n",
      " [1. 0. 3. 2.]\n",
      " [2. 0. 3. 2.]\n",
      " [0. 0. 0. 0.]\n",
      " [0. 0. 1. 1.]\n",
      " [1. 0. 1. 1.]\n",
      " [0. 1. 0. 0.]\n",
      " [0. 0. 0. 0.]\n",
      " [1. 0. 2. 1.]\n",
      " [1. 0. 2. 1.]\n",
      " [1. 0. 1. 1.]\n",
      " [1. 0. 2. 1.]\n",
      " [1. 0. 2. 2.]\n",
      " [1. 0. 2. 2.]\n",
      " [0. 1. 0. 0.]\n",
      " [0. 1. 0. 0.]\n",
      " [0. 0. 0. 0.]\n",
      " [1. 0. 2. 2.]\n",
      " [1. 0. 2. 1.]\n",
      " [1. 1. 3. 2.]\n",
      " [0. 1. 0. 0.]\n",
      " [2. 0. 2. 1.]\n",
      " [0. 0. 1. 1.]\n",
      " [2. 0. 3. 2.]]\n"
     ]
    }
   ],
   "source": [
    "X_test_kb = est.transform(X_test)\n",
    "print(X_test_kb)"
   ]
  },
  {
   "cell_type": "code",
   "execution_count": null,
   "id": "004e5d41",
   "metadata": {},
   "outputs": [],
   "source": []
  },
  {
   "cell_type": "markdown",
   "id": "41535d6e",
   "metadata": {},
   "source": [
    "# 哑编码（One-Hot）"
   ]
  },
  {
   "cell_type": "code",
   "execution_count": 15,
   "id": "79dcc631",
   "metadata": {},
   "outputs": [],
   "source": [
    "from sklearn.preprocessing import OneHotEncoder"
   ]
  },
  {
   "cell_type": "code",
   "execution_count": 17,
   "id": "a15a3cff",
   "metadata": {},
   "outputs": [
    {
     "data": {
      "text/plain": [
       "OneHotEncoder(handle_unknown='ignore')"
      ]
     },
     "execution_count": 17,
     "metadata": {},
     "output_type": "execute_result"
    }
   ],
   "source": [
    "enc = OneHotEncoder(handle_unknown='ignore')\n",
    "X = [['Male', 1], \n",
    "     ['Female', 3], \n",
    "     ['Female', 2]]\n",
    "enc.fit(X)"
   ]
  },
  {
   "cell_type": "code",
   "execution_count": 18,
   "id": "bc6c5945",
   "metadata": {},
   "outputs": [
    {
     "name": "stdout",
     "output_type": "stream",
     "text": [
      "  (0, 1)\t1.0\n",
      "  (0, 2)\t1.0\n",
      "  (1, 0)\t1.0\n",
      "  (1, 4)\t1.0\n",
      "  (2, 0)\t1.0\n",
      "  (2, 3)\t1.0\n"
     ]
    }
   ],
   "source": [
    "print(enc.transform(X))"
   ]
  },
  {
   "cell_type": "code",
   "execution_count": 19,
   "id": "8946f7d0",
   "metadata": {},
   "outputs": [
    {
     "data": {
      "text/plain": [
       "array([[0., 1., 1., 0., 0.],\n",
       "       [1., 0., 0., 0., 1.],\n",
       "       [1., 0., 0., 1., 0.]])"
      ]
     },
     "execution_count": 19,
     "metadata": {},
     "output_type": "execute_result"
    }
   ],
   "source": [
    "enc.transform(X).toarray()"
   ]
  },
  {
   "cell_type": "code",
   "execution_count": 20,
   "id": "3fba7d66",
   "metadata": {},
   "outputs": [
    {
     "data": {
      "text/plain": [
       "[array(['Female', 'Male'], dtype=object), array([1, 2, 3], dtype=object)]"
      ]
     },
     "execution_count": 20,
     "metadata": {},
     "output_type": "execute_result"
    }
   ],
   "source": [
    "enc.categories_"
   ]
  },
  {
   "cell_type": "code",
   "execution_count": 21,
   "id": "b3cd30c6",
   "metadata": {},
   "outputs": [
    {
     "data": {
      "text/plain": [
       "array([[1., 0., 1., 0., 0.],\n",
       "       [0., 1., 0., 0., 0.]])"
      ]
     },
     "execution_count": 21,
     "metadata": {},
     "output_type": "execute_result"
    }
   ],
   "source": [
    "enc.transform([['Female',1], ['Male',4]]).toarray()  # 4不在训练数据里面"
   ]
  },
  {
   "cell_type": "code",
   "execution_count": 22,
   "id": "1943f0c9",
   "metadata": {},
   "outputs": [
    {
     "data": {
      "text/plain": [
       "array([['Male', 1],\n",
       "       ['Male', None]], dtype=object)"
      ]
     },
     "execution_count": 22,
     "metadata": {},
     "output_type": "execute_result"
    }
   ],
   "source": [
    "enc.inverse_transform([[0, 1, 1, 0, 0], [0, 1, 0, 0, 0]]) # 将转换后的特征向量反向恢复"
   ]
  },
  {
   "cell_type": "code",
   "execution_count": 23,
   "id": "40051a57",
   "metadata": {},
   "outputs": [
    {
     "data": {
      "text/plain": [
       "array(['gender_Female', 'gender_Male', 'group_1', 'group_2', 'group_3'],\n",
       "      dtype=object)"
      ]
     },
     "execution_count": 23,
     "metadata": {},
     "output_type": "execute_result"
    }
   ],
   "source": [
    "enc.get_feature_names_out(['gender', 'group']) "
   ]
  },
  {
   "cell_type": "code",
   "execution_count": 24,
   "id": "a6636eed",
   "metadata": {},
   "outputs": [],
   "source": [
    "# drop参数的作用\n",
    "drop_enc = OneHotEncoder(drop='first',handle_unknown='ignore').fit(X)"
   ]
  },
  {
   "cell_type": "code",
   "execution_count": 25,
   "id": "2bcc6f36",
   "metadata": {},
   "outputs": [
    {
     "data": {
      "text/plain": [
       "[array(['Female', 'Male'], dtype=object), array([1, 2, 3], dtype=object)]"
      ]
     },
     "execution_count": 25,
     "metadata": {},
     "output_type": "execute_result"
    }
   ],
   "source": [
    "drop_enc.categories_"
   ]
  },
  {
   "cell_type": "code",
   "execution_count": 26,
   "id": "7d04e2ee",
   "metadata": {},
   "outputs": [
    {
     "name": "stderr",
     "output_type": "stream",
     "text": [
      "C:\\Users\\lq\\.conda\\envs\\py37\\lib\\site-packages\\sklearn\\preprocessing\\_encoders.py:174: UserWarning: Found unknown categories in columns [1] during transform. These unknown categories will be encoded as all zeros\n",
      "  UserWarning,\n"
     ]
    },
    {
     "data": {
      "text/plain": [
       "array([[0., 0., 0.],\n",
       "       [1., 0., 0.]])"
      ]
     },
     "execution_count": 26,
     "metadata": {},
     "output_type": "execute_result"
    }
   ],
   "source": [
    "drop_enc.transform([['Female', 1], ['Male',4]]).toarray()"
   ]
  },
  {
   "cell_type": "code",
   "execution_count": 27,
   "id": "9d56fd75",
   "metadata": {},
   "outputs": [
    {
     "data": {
      "text/plain": [
       "array([[0., 1., 0., 0.],\n",
       "       [1., 0., 1., 0.]])"
      ]
     },
     "execution_count": 27,
     "metadata": {},
     "output_type": "execute_result"
    }
   ],
   "source": [
    "drop_binary_enc = OneHotEncoder(drop='if_binary',handle_unknown='ignore').fit(X)\n",
    "drop_binary_enc.transform([['Female', 1], ['Male', 2]]).toarray()"
   ]
  },
  {
   "cell_type": "markdown",
   "id": "fd55b71d",
   "metadata": {},
   "source": [
    "# 使用pandas的API进行哑编码转换"
   ]
  },
  {
   "cell_type": "code",
   "execution_count": 28,
   "id": "7919a393",
   "metadata": {},
   "outputs": [
    {
     "name": "stdout",
     "output_type": "stream",
     "text": [
      "   c2  c3  c1_a  c1_b  c1_c\n",
      "0   1   2     1     0     0\n",
      "1   1   1     0     1     0\n",
      "2   2   1     1     0     0\n",
      "3   1   2     0     0     1\n",
      "4   1   2     0     0     1\n"
     ]
    }
   ],
   "source": [
    "import pandas as pd\n",
    "\n",
    "a = pd.DataFrame([\n",
    "    ['a', 1, 2],\n",
    "    ['b', 1, 1],\n",
    "    ['a', 2, 1],\n",
    "    ['c', 1, 2],\n",
    "    ['c', 1, 2]\n",
    "], columns=['c1', 'c2', 'c3'])\n",
    "a = pd.get_dummies(a)\n",
    "print(a)"
   ]
  },
  {
   "cell_type": "markdown",
   "id": "9784b1a8",
   "metadata": {},
   "source": [
    "# 思考：有什么区别？？？？"
   ]
  },
  {
   "cell_type": "code",
   "execution_count": null,
   "id": "592cca4b",
   "metadata": {},
   "outputs": [],
   "source": []
  }
 ],
 "metadata": {
  "kernelspec": {
   "display_name": "py37",
   "language": "python",
   "name": "py37"
  },
  "language_info": {
   "codemirror_mode": {
    "name": "ipython",
    "version": 3
   },
   "file_extension": ".py",
   "mimetype": "text/x-python",
   "name": "python",
   "nbconvert_exporter": "python",
   "pygments_lexer": "ipython3",
   "version": "3.7.13"
  }
 },
 "nbformat": 4,
 "nbformat_minor": 5
}
