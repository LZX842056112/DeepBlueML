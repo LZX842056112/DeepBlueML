{
 "cells": [
  {
   "cell_type": "code",
   "execution_count": 1,
   "metadata": {},
   "outputs": [
    {
     "name": "stderr",
     "output_type": "stream",
     "text": [
      "C:\\Users\\lq\\AppData\\Roaming\\Python\\Python36\\site-packages\\sklearn\\ensemble\\weight_boosting.py:29: DeprecationWarning: numpy.core.umath_tests is an internal NumPy module and should not be imported. It will be removed in a future NumPy release.\n",
      "  from numpy.core.umath_tests import inner1d\n"
     ]
    }
   ],
   "source": [
    "import numpy as np\n",
    "import pandas as pd\n",
    "\n",
    "from sklearn.model_selection import train_test_split,GridSearchCV\n",
    "from sklearn.ensemble import RandomForestClassifier\n",
    "from xgboost import XGBRegressor \n",
    "from sklearn.decomposition import PCA\n",
    "from sklearn.pipeline import Pipeline\n",
    "from sklearn.metrics import mean_squared_error\n",
    "import joblib\n",
    "\n",
    "import warnings\n",
    "warnings.filterwarnings('ignore')"
   ]
  },
  {
   "cell_type": "code",
   "execution_count": 2,
   "metadata": {
    "collapsed": true
   },
   "outputs": [],
   "source": [
    "### 一般我们机器学习的流程\n",
    "\n",
    "# 一、加载数据\n",
    "#processs_datas/train_process_datas_x.csv\n",
    "datas_x = pd.read_csv('./processs_datas/train_process_datas_x.csv')\n",
    "# print(datas_x.head())\n",
    "# print(datas_x.info(verbose=True,null_counts=True))\n",
    "# processs_datas/train_datas_Y.csv\n",
    "datas_y = pd.read_csv('./processs_datas/train_datas_Y.csv')\n",
    "# print(datas_y.head())\n",
    "# print(datas_y.info())\n",
    "# print(datas_y['happiness'].value_counts())\n",
    "\n",
    "### 标签里面存在异常值 -8\n",
    "# ## 一般情况下对于标签存在异常的数据需要删除，注意对应的X也要删除\n",
    "# ## 先合并X,Y,再删除\n",
    "# datas = pd.concat([datas_x,datas_y],axis=1)\n",
    "# # print(datas.head())\n",
    "# # print(datas.info(verbose=True,null_counts=True))\n",
    "# datas.replace(-8,np.nan,inplace=True)\n",
    "# datas.dropna(axis=0,how='any',inplace=True)\n",
    "# # print(datas.shape)\n",
    "# # print(datas['happiness'].value_counts(dropna=True))\n",
    "\n",
    "## 这里我们可以考虑将-8替换成3（特殊情况特殊对待）\n",
    "datas_y.replace(-8,3,inplace=True)\n",
    "# print(datas_y.shape)\n",
    "# print(datas_y['happiness'].value_counts())"
   ]
  },
  {
   "cell_type": "code",
   "execution_count": 3,
   "metadata": {
    "collapsed": true
   },
   "outputs": [],
   "source": [
    "# 二、数据清洗与预处理  （这里在dataprocess里面完成了）\n",
    "# 删除ID字段\n",
    "datas_x.drop(['id'],axis=1,inplace=True)\n",
    "\n",
    "# 三、获取数据的特征属性X和目标属性Y\n",
    "\n",
    "# 四、数据分割\n",
    "x_train,x_test,y_train,y_test = train_test_split(datas_x,datas_y,test_size=0.2,random_state=11)\n",
    "# print(x_train.shape)\n",
    "# print(x_test.shape)"
   ]
  },
  {
   "cell_type": "code",
   "execution_count": 4,
   "metadata": {},
   "outputs": [
    {
     "data": {
      "text/plain": [
       "'\\nn_estimators=10, 决策树的棵数\\ncriterion=\"gini\", \\nmax_depth=None,  决策树的深度\\nmin_samples_split=2,\\nmin_samples_leaf=1,\\nmin_weight_fraction_leaf=0.,\\nmax_features=\"auto\",\\nmax_leaf_nodes=None,\\nmin_impurity_decrease=0.,\\nmin_impurity_split=None,\\nbootstrap=True,\\noob_score=False,\\nn_jobs=1,\\nrandom_state=None,\\nverbose=0,\\nwarm_start=False,\\nclass_weight=None 权重\\n'"
      ]
     },
     "execution_count": 4,
     "metadata": {},
     "output_type": "execute_result"
    }
   ],
   "source": [
    "# 五、特征工程  这里我们做个PCA降维 ## 使用管道流\n",
    "# 六、模型构建\n",
    "##我们这里使用网格交叉验证,随机森林分类（也可以使用回归：评估指标是mse）\n",
    "'''\n",
    "n_estimators=10, 决策树的棵数\n",
    "criterion=\"gini\", \n",
    "max_depth=None,  决策树的深度\n",
    "min_samples_split=2,\n",
    "min_samples_leaf=1,\n",
    "min_weight_fraction_leaf=0.,\n",
    "max_features=\"auto\",\n",
    "max_leaf_nodes=None,\n",
    "min_impurity_decrease=0.,\n",
    "min_impurity_split=None,\n",
    "bootstrap=True,\n",
    "oob_score=False,\n",
    "n_jobs=1,\n",
    "random_state=None,\n",
    "verbose=0,\n",
    "warm_start=False,\n",
    "class_weight=None 权重\n",
    "'''\n",
    "pipe = Pipeline([('pca',PCA()),\n",
    "                 ('RF',RandomForestClassifier())])\n",
    "\n",
    "params = {\n",
    "    'pca__n_components':[0.6,0.7,0.8,0.9],\n",
    "    'RF__n_estimators':[100,200,500],\n",
    "    'RF__max_depth':[3,5,7,9],\n",
    "    'RF__class_weight':['balanced','balanced_subsample',None]\n",
    "}\n",
    "model = GridSearchCV(estimator=pipe,param_grid=params,cv=5)\n",
    "model.fit(datas_x,datas_y)\n",
    "print('最优模型超参数：{}'.format(model.best_params_))\n",
    "print('最优模型的评分：{}'.format(model.best_score_))\n",
    "## 保存一下最优的参数和评分\n",
    "with open('./model/pca_rf_params.txt','w',encoding='utf-8') as writer:\n",
    "    writer.write('最优模型参数：{}'.format(model.best_params_)+'\\n'+'最优模型的评分：{}'.format(model.best_score_))"
   ]
  },
  {
   "cell_type": "code",
   "execution_count": 5,
   "metadata": {},
   "outputs": [
    {
     "data": {
      "text/plain": [
       "Pipeline(memory=None,\n",
       "     steps=[('pca', PCA(copy=True, iterated_power='auto', n_components=0.6, random_state=None,\n",
       "  svd_solver='auto', tol=0.0, whiten=False)), ('RF', RandomForestClassifier(bootstrap=True, class_weight=None, criterion='gini',\n",
       "            max_depth=3, max_features='auto', max_leaf_nodes=None,\n",
       "            mi...n_jobs=1,\n",
       "            oob_score=False, random_state=None, verbose=0,\n",
       "            warm_start=False))])"
      ]
     },
     "execution_count": 5,
     "metadata": {},
     "output_type": "execute_result"
    }
   ],
   "source": [
    "model = Pipeline([('pca',PCA(n_components=0.6)),\n",
    "                 ('RF',RandomForestClassifier(n_estimators=100,max_depth=3))])\n",
    "\n",
    "# 七、模型训练\n",
    "model.fit(x_train,y_train)"
   ]
  },
  {
   "cell_type": "code",
   "execution_count": null,
   "metadata": {
    "collapsed": true
   },
   "outputs": [],
   "source": []
  },
  {
   "cell_type": "code",
   "execution_count": 6,
   "metadata": {
    "collapsed": true
   },
   "outputs": [],
   "source": [
    "# model = Pipeline([('pca',PCA(n_components=0.9)),\n",
    "#                  ('xgb',XGBRegressor(n_estimators=100,max_depth=3))])\n",
    "# # model = XGBRegressor(n_estimators=100,max_depth=5)\n",
    "# # 七、模型训练\n",
    "# model.fit(x_train,y_train)"
   ]
  },
  {
   "cell_type": "code",
   "execution_count": null,
   "metadata": {
    "collapsed": true
   },
   "outputs": [],
   "source": []
  },
  {
   "cell_type": "code",
   "execution_count": 7,
   "metadata": {},
   "outputs": [
    {
     "name": "stdout",
     "output_type": "stream",
     "text": [
      "训练集准确率: 0.6025\n",
      "测试集准确率: 0.60125\n",
      "训练集MSE： 0.68890625\n",
      "测试集MSE： 0.685\n"
     ]
    }
   ],
   "source": [
    "# 八、模型评估\n",
    "print('训练集准确率:',model.score(x_train,y_train))\n",
    "print('测试集准确率:',model.score(x_test,y_test))\n",
    "y_train_hat = model.predict(x_train)\n",
    "y_test_hat = model.predict(x_test)\n",
    "print('训练集MSE：',mean_squared_error(y_train,y_train_hat))\n",
    "print('测试集MSE：',mean_squared_error(y_test,y_test_hat))"
   ]
  },
  {
   "cell_type": "code",
   "execution_count": 8,
   "metadata": {},
   "outputs": [
    {
     "name": "stdout",
     "output_type": "stream",
     "text": [
      "0.60225\n",
      "0.688125\n"
     ]
    },
    {
     "data": {
      "text/plain": [
       "['./model/pca_xgb.pkl']"
      ]
     },
     "execution_count": 8,
     "metadata": {},
     "output_type": "execute_result"
    }
   ],
   "source": [
    "# 九、模型持久化\n",
    "## 实际上对于最终我们保存的模型来说，我们可以把所有数据进行训练，再保存模型\n",
    "\n",
    "model.fit(datas_x,datas_y)\n",
    "print(model.score(datas_x,datas_y))\n",
    "datas_y_hat = model.predict(datas_x)\n",
    "print(mean_squared_error(datas_y,datas_y_hat))\n",
    "\n",
    "save_dir_path = './model'\n",
    "import os\n",
    "if os.path.exists(save_dir_path):\n",
    "    pass\n",
    "else:\n",
    "    os.makedirs(save_dir_path)\n",
    "\n",
    "joblib.dump(model,save_dir_path+'/pca_rf.pkl')\n",
    "# joblib.dump(model,save_dir_path+'/pca_xgb.pkl')\n"
   ]
  },
  {
   "cell_type": "markdown",
   "metadata": {},
   "source": [
    "## todo:使用其他的模型训练,也可以考虑使用回归的模型（建议LightGBM）"
   ]
  },
  {
   "cell_type": "code",
   "execution_count": null,
   "metadata": {
    "collapsed": true
   },
   "outputs": [],
   "source": []
  }
 ],
 "metadata": {
  "kernelspec": {
   "display_name": "Python 3",
   "language": "python",
   "name": "python3"
  },
  "language_info": {
   "codemirror_mode": {
    "name": "ipython",
    "version": 3
   },
   "file_extension": ".py",
   "mimetype": "text/x-python",
   "name": "python",
   "nbconvert_exporter": "python",
   "pygments_lexer": "ipython3",
   "version": "3.6.3"
  }
 },
 "nbformat": 4,
 "nbformat_minor": 2
}
