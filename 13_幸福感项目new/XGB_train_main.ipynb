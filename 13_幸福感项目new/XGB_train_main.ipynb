{
 "cells": [
  {
   "cell_type": "code",
   "execution_count": 17,
   "metadata": {
    "collapsed": true
   },
   "outputs": [],
   "source": [
    "import numpy as np\n",
    "import pandas as pd\n",
    "\n",
    "from sklearn.model_selection import train_test_split,GridSearchCV\n",
    "\n",
    "from xgboost import XGBRegressor \n",
    "from sklearn.decomposition import PCA\n",
    "from sklearn.pipeline import Pipeline\n",
    "from sklearn.metrics import mean_squared_error\n",
    "# from sklearn.externals import joblib\n",
    "import joblib\n",
    "\n",
    "import warnings\n",
    "warnings.filterwarnings('ignore')"
   ]
  },
  {
   "cell_type": "code",
   "execution_count": 18,
   "metadata": {
    "collapsed": true
   },
   "outputs": [],
   "source": [
    "### 一般我们机器学习的流程\n",
    "\n",
    "# 一、加载数据\n",
    "#processs_datas/train_process_datas_x.csv\n",
    "datas_x = pd.read_csv('./processs_datas/train_process_datas_x.csv')\n",
    "# print(datas_x.head())\n",
    "# print(datas_x.info(verbose=True,null_counts=True))\n",
    "# processs_datas/train_datas_Y.csv\n",
    "datas_y = pd.read_csv('./processs_datas/train_datas_Y.csv')\n",
    "# print(datas_y.head())\n",
    "# print(datas_y.info())\n",
    "# print(datas_y['happiness'].value_counts())\n",
    "\n",
    "### 标签里面存在异常值 -8\n",
    "# ## 一般情况下对于标签存在异常的数据需要删除，注意对应的X也要删除\n",
    "# ## 先合并X,Y,再删除\n",
    "# datas = pd.concat([datas_x,datas_y],axis=1)\n",
    "# # print(datas.head())\n",
    "# # print(datas.info(verbose=True,null_counts=True))\n",
    "# datas.replace(-8,np.nan,inplace=True)\n",
    "# datas.dropna(axis=0,how='any',inplace=True)\n",
    "# # print(datas.shape)\n",
    "# # print(datas['happiness'].value_counts(dropna=True))\n",
    "\n",
    "## 这里我们可以考虑将-8替换成3（特殊情况特殊对待）\n",
    "datas_y.replace(-8,3,inplace=True)\n",
    "# print(datas_y.shape)\n",
    "# print(datas_y['happiness'].value_counts())"
   ]
  },
  {
   "cell_type": "code",
   "execution_count": 19,
   "metadata": {
    "collapsed": true
   },
   "outputs": [],
   "source": [
    "# 二、数据清洗与预处理  （这里在dataprocess里面完成了）\n",
    "# 删除ID字段\n",
    "datas_x.drop(['id'],axis=1,inplace=True)\n",
    "\n",
    "# 三、获取数据的特征属性X和目标属性Y\n",
    "\n",
    "# 四、数据分割\n",
    "x_train,x_test,y_train,y_test = train_test_split(datas_x,datas_y,test_size=0.2,random_state=11)\n",
    "# print(x_train.shape)\n",
    "# print(x_test.shape)"
   ]
  },
  {
   "cell_type": "code",
   "execution_count": 20,
   "metadata": {},
   "outputs": [
    {
     "name": "stdout",
     "output_type": "stream",
     "text": [
      "(6400, 138)\n",
      "(1600, 138)\n"
     ]
    }
   ],
   "source": [
    "print(x_train.shape)\n",
    "print(x_test.shape)"
   ]
  },
  {
   "cell_type": "code",
   "execution_count": 21,
   "metadata": {},
   "outputs": [
    {
     "data": {
      "text/plain": [
       "XGBRegressor(base_score=0.5, booster='gbtree', colsample_bylevel=1,\n",
       "       colsample_bynode=1, colsample_bytree=1, gamma=10.0, gpu_id=-1,\n",
       "       importance_type='gain', interaction_constraints='',\n",
       "       learning_rate=0.300000012, max_delta_step=0, max_depth=5,\n",
       "       min_child_weight=1, missing=nan, monotone_constraints='()',\n",
       "       n_estimators=100, n_jobs=12, num_parallel_tree=1,\n",
       "       objective='reg:squarederror', random_state=0, reg_alpha=0,\n",
       "       reg_lambda=1, scale_pos_weight=1, subsample=1, tree_method='exact',\n",
       "       validate_parameters=1, verbosity=None)"
      ]
     },
     "execution_count": 21,
     "metadata": {},
     "output_type": "execute_result"
    }
   ],
   "source": [
    "# 五、特征工程  \n",
    "# 六、模型构建\n",
    "model = XGBRegressor(n_estimators=100,max_depth=5,gamma=10.0)\n",
    "# 七、模型训练\n",
    "model.fit(x_train,y_train)"
   ]
  },
  {
   "cell_type": "code",
   "execution_count": 22,
   "metadata": {},
   "outputs": [
    {
     "data": {
      "text/plain": [
       "array([0.        , 0.00571481, 0.01219193, 0.00485876, 0.        ,\n",
       "       0.        , 0.00676607, 0.        , 0.02818899, 0.        ,\n",
       "       0.        , 0.        , 0.        , 0.        , 0.        ,\n",
       "       0.        , 0.        , 0.        , 0.        , 0.        ,\n",
       "       0.        , 0.        , 0.01551197, 0.        , 0.02503277,\n",
       "       0.01438187, 0.07094149, 0.        , 0.        , 0.        ,\n",
       "       0.        , 0.01400221, 0.01865187, 0.        , 0.        ,\n",
       "       0.02021011, 0.        , 0.01931997, 0.        , 0.        ,\n",
       "       0.        , 0.        , 0.01223092, 0.02575209, 0.        ,\n",
       "       0.        , 0.        , 0.        , 0.02043409, 0.        ,\n",
       "       0.        , 0.        , 0.01813575, 0.03875272, 0.08670937,\n",
       "       0.        , 0.02117576, 0.        , 0.        , 0.01480069,\n",
       "       0.        , 0.        , 0.        , 0.        , 0.        ,\n",
       "       0.        , 0.        , 0.        , 0.01650549, 0.09459621,\n",
       "       0.01421185, 0.01257589, 0.        , 0.        , 0.        ,\n",
       "       0.        , 0.        , 0.        , 0.        , 0.        ,\n",
       "       0.        , 0.00712608, 0.01053353, 0.        , 0.0146637 ,\n",
       "       0.        , 0.        , 0.        , 0.        , 0.        ,\n",
       "       0.        , 0.        , 0.01648265, 0.        , 0.        ,\n",
       "       0.        , 0.        , 0.        , 0.04678018, 0.01949153,\n",
       "       0.02664304, 0.01565883, 0.        , 0.        , 0.01564517,\n",
       "       0.        , 0.        , 0.01869602, 0.        , 0.        ,\n",
       "       0.01380779, 0.        , 0.        , 0.        , 0.        ,\n",
       "       0.        , 0.01381342, 0.        , 0.01135079, 0.01420715,\n",
       "       0.        , 0.0138618 , 0.01440296, 0.02224628, 0.01615352,\n",
       "       0.01417475, 0.        , 0.        , 0.        , 0.01434999,\n",
       "       0.        , 0.        , 0.01377727, 0.        , 0.        ,\n",
       "       0.01447986, 0.        , 0.        ], dtype=float32)"
      ]
     },
     "execution_count": 22,
     "metadata": {},
     "output_type": "execute_result"
    }
   ],
   "source": [
    "model.feature_importances_"
   ]
  },
  {
   "cell_type": "code",
   "execution_count": 23,
   "metadata": {},
   "outputs": [
    {
     "name": "stdout",
     "output_type": "stream",
     "text": [
      "训练集R2: 0.35403764525861703\n",
      "测试集R2: 0.2820671104722916\n",
      "训练集MSE： 0.4335864442842868\n",
      "测试集MSE： 0.4786997024148377\n"
     ]
    }
   ],
   "source": [
    "# 八、模型评估\n",
    "print('训练集R2:',model.score(x_train,y_train))\n",
    "print('测试集R2:',model.score(x_test,y_test))\n",
    "y_train_hat = model.predict(x_train)\n",
    "y_test_hat = model.predict(x_test)\n",
    "print('训练集MSE：',mean_squared_error(y_train,y_train_hat))\n",
    "print('测试集MSE：',mean_squared_error(y_test,y_test_hat))"
   ]
  },
  {
   "cell_type": "code",
   "execution_count": 24,
   "metadata": {},
   "outputs": [
    {
     "name": "stdout",
     "output_type": "stream",
     "text": [
      "0.35289350943068154\n",
      "0.4337788472395472\n"
     ]
    },
    {
     "data": {
      "text/plain": [
       "['./model/xgb.pkl']"
      ]
     },
     "execution_count": 24,
     "metadata": {},
     "output_type": "execute_result"
    }
   ],
   "source": [
    "# 九、模型持久化\n",
    "## 实际上对于最终我们保存的模型来说，我们可以把所有数据进行训练，再保存模型\n",
    "\n",
    "model.fit(datas_x,datas_y)\n",
    "print(model.score(datas_x,datas_y))\n",
    "datas_y_hat = model.predict(datas_x)\n",
    "print(mean_squared_error(datas_y,datas_y_hat))\n",
    "\n",
    "save_dir_path = './model'\n",
    "import os\n",
    "if os.path.exists(save_dir_path):\n",
    "    pass\n",
    "else:\n",
    "    os.makedirs(save_dir_path)\n",
    "\n",
    "joblib.dump(model,save_dir_path+'/xgb.pkl')"
   ]
  },
  {
   "cell_type": "code",
   "execution_count": null,
   "metadata": {
    "collapsed": true
   },
   "outputs": [],
   "source": []
  },
  {
   "cell_type": "code",
   "execution_count": null,
   "metadata": {
    "collapsed": true
   },
   "outputs": [],
   "source": []
  }
 ],
 "metadata": {
  "kernelspec": {
   "display_name": "Python 3",
   "language": "python",
   "name": "python3"
  },
  "language_info": {
   "codemirror_mode": {
    "name": "ipython",
    "version": 3
   },
   "file_extension": ".py",
   "mimetype": "text/x-python",
   "name": "python",
   "nbconvert_exporter": "python",
   "pygments_lexer": "ipython3",
   "version": "3.6.3"
  }
 },
 "nbformat": 4,
 "nbformat_minor": 2
}
