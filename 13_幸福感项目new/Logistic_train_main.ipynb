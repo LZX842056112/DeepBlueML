{
 "cells": [
  {
   "cell_type": "code",
   "execution_count": 8,
   "metadata": {
    "collapsed": true
   },
   "outputs": [],
   "source": [
    "import numpy as np\n",
    "import pandas as pd\n",
    "\n",
    "from sklearn.model_selection import train_test_split,GridSearchCV\n",
    "from sklearn.preprocessing import StandardScaler\n",
    "\n",
    "from sklearn.linear_model import LogisticRegressionCV\n",
    "from sklearn.decomposition import PCA\n",
    "from sklearn.pipeline import Pipeline\n",
    "from sklearn.metrics import mean_squared_error\n",
    "# from sklearn.externals import joblib\n",
    "import joblib\n",
    "\n",
    "import warnings\n",
    "warnings.filterwarnings('ignore')"
   ]
  },
  {
   "cell_type": "code",
   "execution_count": 9,
   "metadata": {
    "collapsed": true
   },
   "outputs": [],
   "source": [
    "#显示所有列\n",
    "pd.set_option('display.max_columns', None)\n",
    "#显示所有行\n",
    "pd.set_option('display.max_rows', None)\n",
    "\n",
    "### 设置不使用科学计数法  #为了直观的显示数字，不采用科学计数法\n",
    "np.set_printoptions(precision=3, suppress=True)\n",
    "pd.set_option('display.float_format', lambda x: '%.2f' % x)"
   ]
  },
  {
   "cell_type": "code",
   "execution_count": 10,
   "metadata": {},
   "outputs": [
    {
     "name": "stdout",
     "output_type": "stream",
     "text": [
      "   id  survey_type  province  city  county  gender  nationality  religion  \\\n",
      "0   1            1        12    32      59       1         1.00      1.00   \n",
      "1   2            2        18    52      85       1         1.00      1.00   \n",
      "2   3            2        29    83     126       2         1.00      0.00   \n",
      "3   4            2        10    28      51       2         1.00      1.00   \n",
      "4   5            1         7    18      36       2         1.00      1.00   \n",
      "\n",
      "   religion_freq   edu  edu_status   income  political  floor_area  \\\n",
      "0           1.00 11.00        4.00 20000.00       1.00       45.00   \n",
      "1           1.00 12.00        4.00 20000.00       1.00      110.00   \n",
      "2           3.00  4.00        4.00  2000.00       1.00      120.00   \n",
      "3           1.00  3.00        4.00  6420.00       1.00       78.00   \n",
      "4           1.00 12.00        1.00 32805.33       2.00       70.00   \n",
      "\n",
      "   property_0  property_1  property_2  property_3  property_4  property_5  \\\n",
      "0           0           1           0           0           0           0   \n",
      "1           0           0           0           0           1           0   \n",
      "2           0           1           1           0           0           0   \n",
      "3           0           0           0           1           0           0   \n",
      "4           0           0           0           0           1           0   \n",
      "\n",
      "   property_6  property_7  property_8  height_cm  weight_jin  health  \\\n",
      "0           0           0           0        176         155    3.00   \n",
      "1           0           0           0        170         110    5.00   \n",
      "2           0           0           0        160         122    4.00   \n",
      "3           0           0           0        163         170    4.00   \n",
      "4           0           0           0        165         110    5.00   \n",
      "\n",
      "   health_problem  depression  hukou  hukou_loc  media_1  media_2  media_3  \\\n",
      "0            2.00        5.00      5       2.00     4.00     2.00     5.00   \n",
      "1            4.00        3.00      1       1.00     2.00     2.00     1.00   \n",
      "2            4.00        5.00      1       1.00     2.00     2.00     2.00   \n",
      "3            4.00        4.00      1       2.00     2.00     1.00     1.00   \n",
      "4            5.00        3.00      2       3.00     1.00     3.00     4.00   \n",
      "\n",
      "   media_4  media_5  media_6  leisure_1  leisure_2  leisure_3  leisure_4  \\\n",
      "0     5.00     4.00     3.00       1.00       4.00       3.00       1.00   \n",
      "1     3.00     5.00     1.00       2.00       3.00       4.00       3.00   \n",
      "2     5.00     1.00     3.00       1.00       4.00       4.00       3.00   \n",
      "3     5.00     1.00     1.00       1.00       5.00       2.00       4.00   \n",
      "4     2.00     5.00     5.00       3.00       3.00       3.00       2.00   \n",
      "\n",
      "   leisure_5  leisure_6  leisure_7  leisure_8  leisure_9  leisure_10  \\\n",
      "0       2.00       3.00       4.00       1.00       4.00        5.00   \n",
      "1       5.00       4.00       3.00       2.00       3.00        4.00   \n",
      "2       5.00       4.00       4.00       2.00       3.00        5.00   \n",
      "3       5.00       4.00       5.00       1.00       1.00        5.00   \n",
      "4       4.00       4.00       3.00       5.00       2.00        5.00   \n",
      "\n",
      "   leisure_11  leisure_12  socialize  relax  learn  social_neighbor  \\\n",
      "0        4.00        1.00       2.00   4.00   3.00             3.00   \n",
      "1        5.00        1.00       2.00   4.00   3.00             6.00   \n",
      "2        5.00        5.00       3.00   4.00   2.00             2.00   \n",
      "3        5.00        5.00       2.00   4.00   4.00             1.00   \n",
      "4        5.00        1.00       4.00   3.00   4.00             7.00   \n",
      "\n",
      "   social_friend  socia_outing  equity  class  class_10_before  \\\n",
      "0           3.00          2.00    3.00   3.00             3.00   \n",
      "1           2.00          1.00    3.00   6.00             4.00   \n",
      "2           5.00          2.00    4.00   5.00             4.00   \n",
      "3           6.00          1.00    4.00   5.00             5.00   \n",
      "4           5.00          3.00    2.00   1.00             1.00   \n",
      "\n",
      "   class_10_after  class_14  work_exper  work_status  work_yr  work_type  \\\n",
      "0            3.00      1.00           1         3.00    30.00       1.00   \n",
      "1            8.00      5.00           1         3.00     2.00       1.00   \n",
      "2            6.00      3.00           2        -1.00    15.33      -1.00   \n",
      "3            7.00      2.00           4        -1.00    15.33      -1.00   \n",
      "4            1.00      4.00           6        -1.00    15.33      -1.00   \n",
      "\n",
      "   work_manage  insur_1  insur_2  insur_3  insur_4  family_income  family_m  \\\n",
      "0         2.00     1.00     1.00     1.00     2.00       60000.00      2.00   \n",
      "1         3.00     1.00     1.00     1.00     1.00       40000.00      3.00   \n",
      "2        -1.00     1.00     1.00     2.00     2.00        8000.00      3.00   \n",
      "3        -1.00     2.00     2.00     2.00     2.00       12000.00      3.00   \n",
      "4        -1.00     1.00     2.00     2.00     2.00       72466.44      4.00   \n",
      "\n",
      "   family_status  house  car  invest_0  invest_1  invest_2  invest_3  \\\n",
      "0           2.00   1.00 2.00         0         1         0         0   \n",
      "1           4.00   1.00 2.00         0         1         0         0   \n",
      "2           3.00   1.00 2.00         0         1         0         0   \n",
      "3           3.00   1.00 1.00         0         1         0         0   \n",
      "4           3.00   1.00 1.00         0         1         0         0   \n",
      "\n",
      "   invest_4  invest_5  invest_6  invest_7  invest_8  son  daughter  \\\n",
      "0         0         0         0         0         0 1.00      0.00   \n",
      "1         0         0         0         0         0 0.00      0.00   \n",
      "2         0         0         0         0         0 0.00      2.00   \n",
      "3         0         0         0         0         0 1.00      4.00   \n",
      "4         0         0         0         0         0 0.00      0.00   \n",
      "\n",
      "   minor_child  marital  s_edu  s_political  s_hukou  s_income  s_work_exper  \\\n",
      "0         0.00        3   6.00         1.00     5.00  40000.00          5.00   \n",
      "1        -1.00        1  -1.00        -1.00    -1.00  30662.25         -1.00   \n",
      "2         1.00        3   3.00         1.00     1.00   6000.00          3.00   \n",
      "3         0.00        7  -1.00        -1.00    -1.00  30662.25         -1.00   \n",
      "4        -1.00        1  -1.00        -1.00    -1.00  30662.25         -1.00   \n",
      "\n",
      "   s_work_status  s_work_type  f_edu  f_political  f_work_14  m_edu  \\\n",
      "0          -1.00        -1.00   4.00         4.00       1.00   4.00   \n",
      "1          -1.00        -1.00   3.00         1.00       2.00   3.00   \n",
      "2          -1.00        -1.00   1.00         1.00       2.00   1.00   \n",
      "3          -1.00        -1.00  14.00         1.00       2.00   1.00   \n",
      "4          -1.00        -1.00   6.00         1.00      10.00   4.00   \n",
      "\n",
      "   m_political  m_work_14  status_peer  status_3_before  view  inc_ability  \\\n",
      "0         1.00       1.00         3.00             2.00  4.00         3.00   \n",
      "1         1.00       2.00         1.00             1.00  4.00         2.00   \n",
      "2         1.00       2.00         2.00             1.00  4.00         2.00   \n",
      "3         1.00       2.00         2.00             1.00  3.00         2.00   \n",
      "4         1.00      15.00         3.00             2.00  3.00        -1.00   \n",
      "\n",
      "    inc_exp  trust_1  trust_2  trust_3  trust_4  trust_5  trust_6  trust_7  \\\n",
      "0  50000.00     4.00     2.00    -1.00    -1.00     5.00     3.00     2.00   \n",
      "1  50000.00     5.00     4.00     4.00     3.00     5.00     3.00     3.00   \n",
      "2  80000.00     3.00     3.00     3.00     3.00     4.00     3.00     3.00   \n",
      "3  10000.00     3.00     3.00     4.00     3.00     5.00     3.00     3.00   \n",
      "4 200000.00     4.00     3.00     3.00     3.00     5.00     5.00     3.00   \n",
      "\n",
      "   trust_8  trust_9  trust_10  trust_11  trust_12  trust_13  \\\n",
      "0     3.00     4.00      3.00     -1.00      4.00      1.00   \n",
      "1     3.00     2.00      3.00      3.00      3.00      2.00   \n",
      "2     3.00     3.00      3.00     -1.00      3.00      1.00   \n",
      "3     5.00     4.00      3.00      3.00      3.00      2.00   \n",
      "4     4.00     3.00      3.00      3.00      3.00      2.00   \n",
      "\n",
      "   neighbor_familiarity  public_service_1  public_service_2  public_service_3  \\\n",
      "0                  4.00             50.00             60.00             50.00   \n",
      "1                  3.00             90.00             70.00             70.00   \n",
      "2                  4.00             90.00             80.00             75.00   \n",
      "3                  3.00            100.00             90.00             70.00   \n",
      "4                  2.00             50.00             50.00             50.00   \n",
      "\n",
      "   public_service_4  public_service_5  public_service_6  public_service_7  \\\n",
      "0             50.00             30.00             30.00             50.00   \n",
      "1             80.00             85.00             70.00             90.00   \n",
      "2             79.00             80.00             90.00             90.00   \n",
      "3             80.00             80.00             90.00             90.00   \n",
      "4             50.00             50.00             50.00             50.00   \n",
      "\n",
      "   public_service_8  public_service_9  survey_year  survey_hour  \\\n",
      "0             50.00             50.00         2015           14   \n",
      "1             60.00             60.00         2015           15   \n",
      "2             90.00             75.00         2015           13   \n",
      "3             80.00             80.00         2015           17   \n",
      "4             50.00             50.00         2015            9   \n",
      "\n",
      "   survey_week_day  age  has_edu_yer  edu_age  s_age  f_age  m_age  \\\n",
      "0                1   56            0     0.00  57.00   0.00   0.00   \n",
      "1                1   23            1    21.00   0.00  43.00  42.00   \n",
      "2                1   48            0     0.00  47.00   0.00   0.00   \n",
      "3                5   72            1    16.00   0.00   0.00   0.00   \n",
      "4                0   21            1    20.00   0.00  45.00  43.00   \n",
      "\n",
      "   marital_1st_age  marital_now_age  if_exp_inc  \n",
      "0            25.00            25.00           0  \n",
      "1             0.00             0.00           0  \n",
      "2            23.00            23.00           0  \n",
      "3            17.00             0.00           0  \n",
      "4             0.00             0.00           0  \n",
      " 4    4818\n",
      " 5    1410\n",
      " 3    1159\n",
      " 2     497\n",
      " 1     104\n",
      "-8      12\n",
      "Name: happiness, dtype: int64\n",
      "4    4818\n",
      "5    1410\n",
      "3    1171\n",
      "2     497\n",
      "1     104\n",
      "Name: happiness, dtype: int64\n"
     ]
    }
   ],
   "source": [
    "### 一般我们机器学习的流程\n",
    "\n",
    "# 一、加载数据\n",
    "#processs_datas/train_process_datas_x.csv\n",
    "datas_x = pd.read_csv('./processs_datas/train_process_datas_x.csv')\n",
    "print(datas_x.head())\n",
    "# print(datas_x.info(verbose=True,null_counts=True))\n",
    "# processs_datas/train_datas_Y.csv\n",
    "datas_y = pd.read_csv('./processs_datas/train_datas_Y.csv')\n",
    "# print(datas_y.head())\n",
    "# print(datas_y.info())\n",
    "print(datas_y['happiness'].value_counts())\n",
    "\n",
    "### 标签里面存在异常值 -8\n",
    "# ## 一般情况下对于标签存在异常的数据需要删除，注意对应的X也要删除\n",
    "# ## 先合并X,Y,再删除\n",
    "# datas = pd.concat([datas_x,datas_y],axis=1)\n",
    "# # print(datas.head())\n",
    "# # print(datas.info(verbose=True,null_counts=True))\n",
    "# datas.replace(-8,np.nan,inplace=True)\n",
    "# datas.dropna(axis=0,how='any',inplace=True)\n",
    "# # print(datas.shape)\n",
    "# # print(datas['happiness'].value_counts(dropna=True))\n",
    "\n",
    "## 这里我们可以考虑将-8替换成3（特殊情况特殊对待）\n",
    "datas_y.replace(-8,3,inplace=True)\n",
    "# print(datas_y.shape)\n",
    "print(datas_y['happiness'].value_counts())"
   ]
  },
  {
   "cell_type": "code",
   "execution_count": 11,
   "metadata": {
    "collapsed": true
   },
   "outputs": [],
   "source": [
    "# 二、数据清洗与预处理  （这里在dataprocess里面完成了）\n",
    "# 删除ID字段,无效字段\n",
    "datas_x.drop(['id'],axis=1,inplace=True)\n",
    "\n",
    "# 三、获取数据的特征属性X和目标属性Y\n",
    "\n",
    "# 四、数据分割  \n",
    "x_train,x_test,y_train,y_test = train_test_split(datas_x,datas_y,test_size=0.2,random_state=11)\n",
    "# print(x_train.shape)\n",
    "# print(x_test.shape)"
   ]
  },
  {
   "cell_type": "code",
   "execution_count": 12,
   "metadata": {},
   "outputs": [
    {
     "data": {
      "text/plain": [
       "LogisticRegressionCV(Cs=array([ 0.00001,  0.00001, ...,  8.69749, 10.     ]),\n",
       "           class_weight=None, cv=None, dual=False, fit_intercept=True,\n",
       "           intercept_scaling=1.0, max_iter=100, multi_class='multinomial',\n",
       "           n_jobs=1, penalty='l2', random_state=None, refit=True,\n",
       "           scoring=None, solver='lbfgs', tol=0.0001, verbose=0)"
      ]
     },
     "execution_count": 12,
     "metadata": {},
     "output_type": "execute_result"
    }
   ],
   "source": [
    "# 五、特征工程  标准化，归一化，降维，特征选择， onehot（一般放在数据处理的时候就去做掉）\n",
    "# # 做一个标准化\n",
    "ss = StandardScaler()\n",
    "### fit_transform   transform\n",
    "x_train = ss.fit_transform(x_train)\n",
    "x_test = ss.transform(x_test)\n",
    "# 六、模型构建\n",
    "model = LogisticRegressionCV(fit_intercept=True, Cs=np.logspace(-5, 1, 100), \n",
    "                          multi_class='multinomial', penalty='l2', solver='lbfgs')\n",
    "# 七、模型训练\n",
    "model.fit(x_train,y_train)"
   ]
  },
  {
   "cell_type": "code",
   "execution_count": 13,
   "metadata": {},
   "outputs": [
    {
     "name": "stdout",
     "output_type": "stream",
     "text": [
      "训练集准确率: 0.6265625\n",
      "测试集准确率: 0.60125\n",
      "训练集MSE： 0.57953125\n",
      "测试集MSE： 0.608125\n"
     ]
    }
   ],
   "source": [
    "# 八、模型评估\n",
    "print('训练集准确率:',model.score(x_train,y_train))\n",
    "print('测试集准确率:',model.score(x_test,y_test))\n",
    "y_train_hat = model.predict(x_train)\n",
    "y_test_hat = model.predict(x_test)\n",
    "print('训练集MSE：',mean_squared_error(y_train,y_train_hat))\n",
    "print('测试集MSE：',mean_squared_error(y_test,y_test_hat))"
   ]
  },
  {
   "cell_type": "code",
   "execution_count": 14,
   "metadata": {},
   "outputs": [
    {
     "name": "stdout",
     "output_type": "stream",
     "text": [
      "0.622125\n",
      "0.582375\n"
     ]
    },
    {
     "data": {
      "text/plain": [
       "['./model/logistics.pkl']"
      ]
     },
     "execution_count": 14,
     "metadata": {},
     "output_type": "execute_result"
    }
   ],
   "source": [
    "# 九、模型持久化\n",
    "## 我们模型持久化的时候，特征工程也要持久化    如果是管道流，保存管道就可以了\n",
    "## 实际上对于最终我们保存的模型来说，我们可以把所有数据进行训练，再保存模型\n",
    "datas_x = ss.fit_transform(datas_x)\n",
    "\n",
    "### 找到最优化的那组超参数的构建的模型对象，用这个模型训练所有的数据\n",
    "model = LogisticRegressionCV(fit_intercept=True, Cs=np.logspace(-5, 1, 100), \n",
    "                          multi_class='multinomial', penalty='l2', solver='lbfgs')\n",
    "model.fit(datas_x,datas_y)\n",
    "print(model.score(datas_x,datas_y))\n",
    "datas_y_hat = model.predict(datas_x)\n",
    "print(mean_squared_error(datas_y,datas_y_hat))\n",
    "\n",
    "save_dir_path = './model'\n",
    "import os\n",
    "if os.path.exists(save_dir_path):\n",
    "    pass\n",
    "else:\n",
    "    os.makedirs(save_dir_path)\n",
    "    \n",
    "joblib.dump(ss,save_dir_path+'/ss.pkl')\n",
    "joblib.dump(model,save_dir_path+'/logistics.pkl')"
   ]
  },
  {
   "cell_type": "code",
   "execution_count": null,
   "metadata": {
    "collapsed": true
   },
   "outputs": [],
   "source": []
  },
  {
   "cell_type": "code",
   "execution_count": null,
   "metadata": {
    "collapsed": true
   },
   "outputs": [],
   "source": []
  },
  {
   "cell_type": "code",
   "execution_count": null,
   "metadata": {
    "collapsed": true
   },
   "outputs": [],
   "source": []
  },
  {
   "cell_type": "code",
   "execution_count": null,
   "metadata": {
    "collapsed": true
   },
   "outputs": [],
   "source": []
  }
 ],
 "metadata": {
  "kernelspec": {
   "display_name": "Python 3",
   "language": "python",
   "name": "python3"
  },
  "language_info": {
   "codemirror_mode": {
    "name": "ipython",
    "version": 3
   },
   "file_extension": ".py",
   "mimetype": "text/x-python",
   "name": "python",
   "nbconvert_exporter": "python",
   "pygments_lexer": "ipython3",
   "version": "3.6.3"
  }
 },
 "nbformat": 4,
 "nbformat_minor": 2
}
