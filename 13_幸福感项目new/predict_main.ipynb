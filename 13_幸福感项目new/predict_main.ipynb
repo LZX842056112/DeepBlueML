{
 "cells": [
  {
   "cell_type": "code",
   "execution_count": 1,
   "metadata": {
    "collapsed": true
   },
   "outputs": [],
   "source": [
    "import numpy as np\n",
    "import pandas as pd\n",
    "\n",
    "import joblib"
   ]
  },
  {
   "cell_type": "code",
   "execution_count": 2,
   "metadata": {
    "collapsed": true
   },
   "outputs": [],
   "source": [
    "##一、加载待预测数据,如果需要清洗就要清洗\n",
    "# processs_datas/test_process_datas.csv\n",
    "data_test = pd.read_csv('./processs_datas/test_process_datas.csv')\n",
    "data_id = data_test['id']\n",
    "data_test.drop(['id'],axis=1,inplace=True)"
   ]
  },
  {
   "cell_type": "code",
   "execution_count": 3,
   "metadata": {},
   "outputs": [
    {
     "name": "stdout",
     "output_type": "stream",
     "text": [
      "     id  happiness\n",
      "0  8001          4\n",
      "1  8002          4\n",
      "2  8003          4\n",
      "3  8004          4\n",
      "4  8005          4\n",
      "4    2741\n",
      "3     121\n",
      "5      60\n",
      "2      45\n",
      "1       1\n",
      "Name: happiness, dtype: int64\n"
     ]
    }
   ],
   "source": [
    "##二、加载训练好的模型\n",
    "ss = joblib.load('./model/ss.pkl')\n",
    "softmax = joblib.load('./model/logistics.pkl')\n",
    "\n",
    "##三、预测\n",
    "data_test = ss.transform(data_test)\n",
    "test_y_hat = softmax.predict(data_test)\n",
    "\n",
    "submit = pd.concat([pd.DataFrame(data_id,columns=['id']),pd.DataFrame(test_y_hat,columns=['happiness'])],axis=1)\n",
    "print(submit.head())\n",
    "predict_dir_path = './predict'\n",
    "import os\n",
    "if os.path.exists(predict_dir_path):\n",
    "    pass\n",
    "else:\n",
    "    os.makedirs(predict_dir_path)\n",
    "submit.to_csv('./predict/softmax_submit.csv',index=False)\n",
    "print(submit['happiness'].value_counts())"
   ]
  },
  {
   "cell_type": "code",
   "execution_count": null,
   "metadata": {
    "collapsed": true
   },
   "outputs": [],
   "source": []
  },
  {
   "cell_type": "code",
   "execution_count": null,
   "metadata": {
    "collapsed": true
   },
   "outputs": [],
   "source": []
  },
  {
   "cell_type": "code",
   "execution_count": 4,
   "metadata": {},
   "outputs": [
    {
     "name": "stdout",
     "output_type": "stream",
     "text": [
      "     id  happiness\n",
      "0  8001  -0.899128\n",
      "1  8002   0.043812\n",
      "2  8003   0.457397\n",
      "3  8004  -0.047477\n",
      "4  8005  -0.926778\n",
      "-0.918136    3\n",
      "-0.141337    2\n",
      "-0.172654    2\n",
      "-0.816189    2\n",
      "-0.292561    2\n",
      "            ..\n",
      "-0.430996    1\n",
      "-0.990898    1\n",
      "-0.651895    1\n",
      " 0.173505    1\n",
      "-0.074219    1\n",
      "Name: happiness, Length: 2942, dtype: int64\n"
     ]
    }
   ],
   "source": [
    "##二、加载训练好的模型\n",
    "rf = joblib.load('./model/xgb.pkl')\n",
    "\n",
    "##三、预测\n",
    "test_y_hat = rf.predict(data_test)\n",
    "\n",
    "submit = pd.concat([pd.DataFrame(data_id,columns=['id']),pd.DataFrame(test_y_hat,columns=['happiness'])],axis=1)\n",
    "print(submit.head())\n",
    "predict_dir_path = './predict'\n",
    "import os\n",
    "if os.path.exists(predict_dir_path):\n",
    "    pass\n",
    "else:\n",
    "    os.makedirs(predict_dir_path)\n",
    "submit.to_csv('./predict/xgb_submit.csv',index=False)\n",
    "print(submit['happiness'].value_counts())"
   ]
  },
  {
   "cell_type": "code",
   "execution_count": 5,
   "metadata": {
    "collapsed": true
   },
   "outputs": [],
   "source": [
    "# ##二、加载训练好的模型\n",
    "# lgb = joblib.load('./model/lgb_happiness.pkl')\n",
    "\n",
    "# ##三、预测\n",
    "# test_y_hat = lgb.predict(data_test)\n",
    "\n",
    "# submit = pd.concat([pd.DataFrame(data_id,columns=['id']),pd.DataFrame(test_y_hat,columns=['happiness'])],axis=1)\n",
    "# print(submit.head())\n",
    "# predict_dir_path = './predict'\n",
    "# import os\n",
    "# if os.path.exists(predict_dir_path):\n",
    "#     pass\n",
    "# else:\n",
    "#     os.makedirs(predict_dir_path)\n",
    "# submit.to_csv('./predict/lgb_submit.csv',index=False)\n",
    "# print(submit['happiness'].value_counts())"
   ]
  },
  {
   "cell_type": "code",
   "execution_count": 6,
   "metadata": {
    "collapsed": true
   },
   "outputs": [],
   "source": [
    "# 模型融合 /stacking /线性组合【评估指标越好的给一个更高的权重】\n"
   ]
  },
  {
   "cell_type": "code",
   "execution_count": null,
   "metadata": {
    "collapsed": true
   },
   "outputs": [],
   "source": []
  }
 ],
 "metadata": {
  "kernelspec": {
   "display_name": "Python 3",
   "language": "python",
   "name": "python3"
  },
  "language_info": {
   "codemirror_mode": {
    "name": "ipython",
    "version": 3
   },
   "file_extension": ".py",
   "mimetype": "text/x-python",
   "name": "python",
   "nbconvert_exporter": "python",
   "pygments_lexer": "ipython3",
   "version": "3.6.3"
  }
 },
 "nbformat": 4,
 "nbformat_minor": 2
}
