{
 "cells": [
  {
   "cell_type": "code",
   "metadata": {
    "collapsed": true,
    "pycharm": {
     "name": "#%%\n"
    },
    "ExecuteTime": {
     "end_time": "2025-10-29T05:11:43.279818Z",
     "start_time": "2025-10-29T05:11:42.959090Z"
    }
   },
   "source": [
    "import numpy as np\n",
    "import matplotlib as mpl\n",
    "import matplotlib.pyplot as plt\n",
    "import math\n",
    "from mpl_toolkits.mplot3d import Axes3D"
   ],
   "outputs": [],
   "execution_count": 1
  },
  {
   "cell_type": "code",
   "metadata": {
    "collapsed": true,
    "pycharm": {
     "name": "#%%\n"
    },
    "ExecuteTime": {
     "end_time": "2025-10-29T05:11:43.310305Z",
     "start_time": "2025-10-29T05:11:43.281989Z"
    }
   },
   "source": [
    "# 设置在jupyter中matplotlib的显示情况（表示不是嵌入显示）\n",
    "%matplotlib tk"
   ],
   "outputs": [],
   "execution_count": 2
  },
  {
   "cell_type": "code",
   "metadata": {
    "collapsed": true,
    "pycharm": {
     "name": "#%%\n"
    },
    "ExecuteTime": {
     "end_time": "2025-10-29T05:11:43.325838Z",
     "start_time": "2025-10-29T05:11:43.310305Z"
    }
   },
   "source": [
    "# 解决中文显示问题\n",
    "mpl.rcParams['font.sans-serif'] = [u'SimHei']\n",
    "mpl.rcParams['axes.unicode_minus'] = False"
   ],
   "outputs": [],
   "execution_count": 3
  },
  {
   "cell_type": "code",
   "metadata": {
    "pycharm": {
     "name": "#%%\n"
    },
    "ExecuteTime": {
     "end_time": "2025-10-29T05:11:43.342148Z",
     "start_time": "2025-10-29T05:11:43.326994Z"
    }
   },
   "source": [
    "# 一维原始图像\n",
    "def f1(x):\n",
    "    return 0.5 * (x - 0.25) ** 2\n",
    "\n",
    "\n",
    "# 导函数\n",
    "def h1(x):\n",
    "    return 0.5 * 2 * (x - 0.25)\n",
    "\n",
    "\n",
    "# 使用梯度下降法求解\n",
    "GD_X = []\n",
    "GD_Y = []\n",
    "x = 4  # 初始化的x\n",
    "alpha = 0.1  #步长越小，可能需要的迭代次数就要愈多\n",
    "f_change = f1(x)\n",
    "f_current = f_change\n",
    "GD_X.append(x)\n",
    "GD_Y.append(f_current)\n",
    "iter_num = 0\n",
    "while f_change > 1e-10 and iter_num < 50:  # 停止迭代的条件 差值小于1e-10或者迭代次数大于等于50次\n",
    "    iter_num += 1\n",
    "    x = x - alpha * h1(x)\n",
    "    tmp = f1(x)\n",
    "    f_change = np.abs(f_current - tmp)\n",
    "    f_current = tmp\n",
    "    GD_X.append(x)\n",
    "    GD_Y.append(f_current)\n",
    "print(u\"最终结果为:(%.5f, %.5f)\" % (x, f_current))\n",
    "print(u\"迭代过程中X的取值，迭代次数:%d\" % iter_num)\n",
    "print(GD_X)"
   ],
   "outputs": [
    {
     "name": "stdout",
     "output_type": "stream",
     "text": [
      "最终结果为:(0.26933, 0.00019)\n",
      "迭代过程中X的取值，迭代次数:50\n",
      "[4, 3.625, 3.2875, 2.98375, 2.710375, 2.4643375, 2.24290375, 2.043613375, 1.8642520375, 1.70282683375, 1.557544150375, 1.4267897353375, 1.30911076180375, 1.203199685623375, 1.1078797170610375, 1.0220917453549339, 0.9448825708194405, 0.8753943137374964, 0.8128548823637468, 0.7565693941273721, 0.7059124547146349, 0.6603212092431714, 0.6192890883188542, 0.5823601794869688, 0.5491241615382719, 0.5192117453844447, 0.49229057084600025, 0.4680615137614002, 0.4462553623852602, 0.42662982614673417, 0.40896684353206075, 0.3930701591788547, 0.3787631432609692, 0.3658868289348723, 0.35429814604138504, 0.34386833143724654, 0.3344814982935219, 0.3260333484641697, 0.31843001361775275, 0.31158701225597746, 0.3054283110303797, 0.2998854799273417, 0.29489693193460753, 0.29040723874114677, 0.2863665148670321, 0.28272986338032885, 0.27945687704229594, 0.27651118933806634, 0.2738600704042597, 0.27147406336383373, 0.26932665702745034]\n"
     ]
    }
   ],
   "execution_count": 4
  },
  {
   "metadata": {
    "ExecuteTime": {
     "end_time": "2025-10-29T05:11:43.482277Z",
     "start_time": "2025-10-29T05:11:43.343309Z"
    }
   },
   "cell_type": "code",
   "source": [
    "# 构建数据\n",
    "X = np.arange(-4, 4.5, 0.05)\n",
    "Y = np.array(list(map(lambda t: f1(t), X)))\n",
    "\n",
    "# 画图\n",
    "plt.figure(facecolor='w')\n",
    "plt.plot(X, Y, 'r-', linewidth=2)\n",
    "plt.plot(GD_X, GD_Y, 'bo--', linewidth=2)\n",
    "plt.title(\n",
    "    u'函数$y=0.5 * (θ - 0.25)^2$; \\n学习率:%.3f; 最终解:(%.3f, %.3f);迭代次数:%d' % (alpha, x, f_current, iter_num))\n",
    "plt.show()"
   ],
   "outputs": [],
   "execution_count": 5
  },
  {
   "cell_type": "code",
   "metadata": {
    "pycharm": {
     "name": "#%%\n"
    },
    "ExecuteTime": {
     "end_time": "2025-10-29T05:11:43.497998Z",
     "start_time": "2025-10-29T05:11:43.483456Z"
    }
   },
   "source": [
    "# 二维原始图像\n",
    "def f2(x, y):\n",
    "    return 0.6 * (x + y) ** 2 - x * y\n",
    "\n",
    "\n",
    "# 导函数\n",
    "def hx2(x, y):\n",
    "    return 0.6 * 2 * (x + y) - y\n",
    "\n",
    "\n",
    "def hy2(x, y):\n",
    "    return 0.6 * 2 * (x + y) - x\n",
    "\n",
    "\n",
    "# 使用梯度下降法求解\n",
    "GD_X1 = []\n",
    "GD_X2 = []\n",
    "GD_Y = []\n",
    "\n",
    "x1 = 4\n",
    "x2 = 4\n",
    "alpha = 0.5\n",
    "f_change = f2(x1, x2)\n",
    "f_current = f_change\n",
    "GD_X1.append(x1)\n",
    "GD_X2.append(x2)\n",
    "GD_Y.append(f_current)\n",
    "\n",
    "iter_num = 0\n",
    "while f_change > 1e-10 and iter_num < 100:\n",
    "    iter_num += 1\n",
    "    prex1 = x1\n",
    "    prex2 = x2\n",
    "    x1 = x1 - alpha * hx2(prex1, prex2)\n",
    "    x2 = x2 - alpha * hy2(prex1, prex2)\n",
    "\n",
    "    tmp = f2(x1, x2)\n",
    "    f_change = np.abs(f_current - tmp)\n",
    "\n",
    "    f_current = tmp\n",
    "    GD_X1.append(x1)\n",
    "    GD_X2.append(x2)\n",
    "    GD_Y.append(f_current)\n",
    "print(u\"最终结果为:(%.5f, %.5f, %.5f)\" % (x1, x2, f_current))\n",
    "print(u\"迭代过程中X的取值，迭代次数:%d\" % iter_num)\n",
    "print(GD_X1)"
   ],
   "outputs": [
    {
     "name": "stdout",
     "output_type": "stream",
     "text": [
      "最终结果为:(0.00000, 0.00000, 0.00000)\n",
      "迭代过程中X的取值，迭代次数:12\n",
      "[4, 1.2000000000000002, 0.3600000000000001, 0.10800000000000004, 0.03240000000000001, 0.009720000000000006, 0.002916000000000002, 0.0008748000000000007, 0.0002624400000000003, 7.873200000000009e-05, 2.3619600000000034e-05, 7.0858800000000115e-06, 2.125764000000004e-06]\n"
     ]
    }
   ],
   "execution_count": 6
  },
  {
   "metadata": {
    "ExecuteTime": {
     "end_time": "2025-10-29T05:11:43.592860Z",
     "start_time": "2025-10-29T05:11:43.499007Z"
    }
   },
   "cell_type": "code",
   "source": [
    "# 构建数据\n",
    "X1 = np.arange(-4, 4.5, 0.2)\n",
    "X2 = np.arange(-4, 4.5, 0.2)\n",
    "X1, X2 = np.meshgrid(X1, X2)\n",
    "Y = np.array(list(map(lambda t: f2(t[0], t[1]), zip(X1.flatten(), X2.flatten()))))\n",
    "Y.shape = X1.shape\n",
    "\n",
    "# 画图\n",
    "fig = plt.figure(facecolor='w')\n",
    "ax = Axes3D(fig)\n",
    "ax.plot_surface(X1, X2, Y, rstride=1, cstride=1, cmap=plt.cm.jet)\n",
    "ax.plot(GD_X1, GD_X2, GD_Y, 'ro--')\n",
    "\n",
    "ax.set_title(u'函数$y=0.6 * (θ1 + θ2)^2 - θ1 * θ2$;\\n学习率:%.3f; 最终解:(%.3f, %.3f, %.3f);迭代次数:%d' % (\n",
    "    alpha, x1, x2, f_current, iter_num))\n",
    "plt.show()"
   ],
   "outputs": [],
   "execution_count": 7
  },
  {
   "cell_type": "code",
   "metadata": {
    "pycharm": {
     "name": "#%%\n"
    },
    "ExecuteTime": {
     "end_time": "2025-10-29T05:11:43.687011Z",
     "start_time": "2025-10-29T05:11:43.592860Z"
    }
   },
   "source": [
    "# 二维原始图像\n",
    "def f2(x, y):\n",
    "    return 0.15 * (x + 0.5) ** 2 + 0.25 * (y - 0.25) ** 2 + 0.35 * (1.5 * x - 0.2 * y + 0.35) ** 2\n",
    "\n",
    "\n",
    "## 偏函数\n",
    "def hx2(x, y):\n",
    "    return 0.15 * 2 * (x + 0.5) + 0.25 * 2 * (1.5 * x - 0.2 * y + 0.35) * 1.5\n",
    "\n",
    "\n",
    "def hy2(x, y):\n",
    "    return 0.25 * 2 * (y - 0.25) - 0.25 * 2 * (1.5 * x - 0.2 * y + 0.35) * 0.2\n",
    "\n",
    "\n",
    "# 使用梯度下降法求解\n",
    "GD_X1 = []\n",
    "GD_X2 = []\n",
    "GD_Y = []\n",
    "x1 = 4\n",
    "x2 = 4\n",
    "alpha = 0.01\n",
    "f_change = f2(x1, x2)\n",
    "f_current = f_change\n",
    "GD_X1.append(x1)\n",
    "GD_X2.append(x2)\n",
    "GD_Y.append(f_current)\n",
    "iter_num = 0\n",
    "while f_change > 1e-10 and iter_num < 100:\n",
    "    iter_num += 1\n",
    "    prex1 = x1\n",
    "    prex2 = x2\n",
    "    x1 = x1 - alpha * hx2(prex1, prex2)\n",
    "    x2 = x2 - alpha * hy2(prex1, prex2)\n",
    "\n",
    "    tmp = f2(x1, x2)\n",
    "    f_change = np.abs(f_current - tmp)\n",
    "    f_current = tmp\n",
    "    GD_X1.append(x1)\n",
    "    GD_X2.append(x2)\n",
    "    GD_Y.append(f_current)\n",
    "print(u\"最终结果为:(%.5f, %.5f, %.5f)\" % (x1, x2, f_current))\n",
    "print(u\"迭代过程中X的取值，迭代次数:%d\" % iter_num)\n",
    "print(GD_X1)\n",
    "\n",
    "# 构建数据\n",
    "X1 = np.arange(-4, 4.5, 0.2)\n",
    "X2 = np.arange(-4, 4.5, 0.2)\n",
    "X1, X2 = np.meshgrid(X1, X2)\n",
    "Y = np.array(list(map(lambda t: f2(t[0], t[1]), zip(X1.flatten(), X2.flatten()))))\n",
    "Y.shape = X1.shape\n",
    "\n",
    "# 画图\n",
    "fig = plt.figure(facecolor='w')\n",
    "ax = Axes3D(fig)\n",
    "ax.plot_surface(X1, X2, Y, rstride=1, cstride=1, cmap=plt.cm.jet)\n",
    "ax.plot(GD_X1, GD_X2, GD_Y, 'ko--')\n",
    "ax.set_xlabel('x')\n",
    "ax.set_ylabel('y')\n",
    "ax.set_zlabel('z')\n",
    "\n",
    "ax.set_title(u'函数;\\n学习率:%.3f; 最终解:(%.3f, %.3f, %.3f);迭代次数:%d' % (alpha, x1, x2, f_current, iter_num))\n",
    "plt.show()"
   ],
   "outputs": [
    {
     "name": "stdout",
     "output_type": "stream",
     "text": [
      "最终结果为:(0.98928, 2.74027, 2.46176)\n",
      "迭代过程中X的取值，迭代次数:100\n",
      "[4, 3.944875, 3.8905157312500003, 3.8369112610084377, 3.784050814157783, 3.7319237709242703, 3.680519664630652, 3.629828179481504, 3.579839148380603, 3.530542550779919, 3.481928510559757, 3.433987293939604, 3.386709307419229, 3.3400850957496058, 3.2941053399332185, 3.2487608552533302, 3.2040425893317916, 3.159941620214977, 3.116449154487441, 3.073556525412893, 3.0312551911020953, 2.9895367327072915, 2.948392852642786, 2.90781537283129, 2.8677962329756657, 2.828327488855695, 2.7894013106495184, 2.7510099812793776, 2.713145894781316, 2.675801554698487, 2.6389695724977287, 2.60264266600907, 2.566813657887832, 2.531475474098999, 2.49662114242354, 2.462243790986354, 2.4283366468055387, 2.3948930343626578, 2.361906374193718, 2.329370181500545, 2.297278064782269, 2.265623724486622, 2.2344009516807706, 2.2036036267413888, 2.1732257180636996, 2.1432612807892104, 2.113704455551867, 2.0845494672423652, 2.055790623790352, 2.0274223149642587, 1.9994390111885139, 1.971835262377877, 1.9446056967886531, 1.9177450198865378, 1.8912480132308545, 1.8651095333749452, 1.8393245107824827, 1.8138879487594706, 1.7887949224017063, 1.7640405775574823, 1.739620129805304, 1.7155288634464079, 1.6917621305118657, 1.668315349784062, 1.6451840058323366, 1.6223636480625903, 1.5998498897806466, 1.5776384072691734, 1.5557249388779675, 1.5341052841274083, 1.5127753028248891, 1.4917309141940394, 1.4709680960165517, 1.4504828837864312, 1.430271369876488, 1.410329702716893, 1.3906540859856267, 1.3712407778106432, 1.3520860899835851, 1.3331863871848775, 1.3145380862200393, 1.296137655267048, 1.2779816131345976, 1.2600665285310924, 1.2423890193442215, 1.2249457519309606, 1.2077334404178475, 1.1907488460113882, 1.1739887763184407, 1.157450084676435, 1.141129669493288, 1.125024473596869, 1.1091314835938824, 1.0934477292380258, 1.0779702828072943, 1.062696258490295, 1.0476228117814417, 1.032747138884903, 1.0180664761271754, 1.0035780993781567, 0.9892793234805967]\n"
     ]
    }
   ],
   "execution_count": 8
  },
  {
   "cell_type": "code",
   "metadata": {
    "collapsed": true,
    "pycharm": {
     "name": "#%%\n"
    },
    "ExecuteTime": {
     "end_time": "2025-10-29T05:11:43.702983Z",
     "start_time": "2025-10-29T05:11:43.688011Z"
    }
   },
   "source": [],
   "outputs": [],
   "execution_count": 8
  }
 ],
 "metadata": {
  "kernelspec": {
   "display_name": "Python 3",
   "language": "python",
   "name": "python3"
  },
  "language_info": {
   "codemirror_mode": {
    "name": "ipython",
    "version": 3
   },
   "file_extension": ".py",
   "mimetype": "text/x-python",
   "name": "python",
   "nbconvert_exporter": "python",
   "pygments_lexer": "ipython3",
   "version": "3.6.3"
  }
 },
 "nbformat": 4,
 "nbformat_minor": 2
}
