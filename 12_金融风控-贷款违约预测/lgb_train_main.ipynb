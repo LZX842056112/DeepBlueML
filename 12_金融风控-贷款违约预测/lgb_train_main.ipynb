{
 "cells": [
  {
   "cell_type": "code",
   "execution_count": 1,
   "metadata": {},
   "outputs": [],
   "source": [
    "import pandas as pd\n",
    "import lightgbm as lgb\n",
    "import matplotlib.pyplot as plt\n",
    "\n",
    "# https://blog.csdn.net/Leon_winter/article/details/86604553\n",
    "# https://blog.csdn.net/qq_34116958/article/details/100039590\n",
    "# pip install bayesian-optimization\n",
    "from bayes_opt import BayesianOptimization \n",
    "from sklearn.model_selection import cross_val_score\n",
    "from sklearn.metrics import roc_auc_score,auc,roc_curve,accuracy_score\n",
    "from sklearn.model_selection import train_test_split\n",
    "\n",
    "import warnings  #去除警告包\n",
    "warnings.filterwarnings('ignore')#去除警告"
   ]
  },
  {
   "cell_type": "markdown",
   "metadata": {},
   "source": [
    "## 贝叶斯优化调参\n",
    "#### pip install bayesian-optimization\n",
    "#### 贝叶斯调参的主要思想是：\n",
    "给定优化的目标函数(广义的函数，只需指定输入和输出即可，无需知道内部结构以及数学性质)，通过不断地添加样本点来更新目标函数的后验分布(高斯过程,直到后验分布基本贴合于真实分布）。简单的说，就是考虑了上一次参数的信息，从而更好的调整当前的参数。\n",
    "#### 贝叶斯调参的步骤如下：\n",
    "- 定义优化函数(rf_cv）\n",
    "- 建立模型\n",
    "- 定义待优化的参数\n",
    "- 得到优化结果，并返回要优化的分数指标"
   ]
  },
  {
   "cell_type": "code",
   "execution_count": 2,
   "metadata": {},
   "outputs": [],
   "source": [
    "# 加载训练数据\n",
    "X = pd.read_csv(\"./processs_datas/train_process_datas_x.csv\")\n",
    "Y = pd.read_csv(\"./processs_datas/train_datas_Y.csv\")"
   ]
  },
  {
   "cell_type": "code",
   "execution_count": 3,
   "metadata": {},
   "outputs": [
    {
     "name": "stdout",
     "output_type": "stream",
     "text": [
      "(800000, 44)\n",
      "   id  loanAmnt  term  interestRate  installment  grade  subGrade  \\\n",
      "0   0   35000.0     5         19.52       917.97      5        22   \n",
      "1   1   18000.0     5         18.49       461.90      4        17   \n",
      "2   2   12000.0     5         16.99       298.17      4        18   \n",
      "3   3   11000.0     3          7.26       340.96      1         4   \n",
      "4   4    3000.0     3         12.99       101.07      3        12   \n",
      "\n",
      "   employmentTitle  employmentLength  homeOwnership  ...    n5    n6    n7  \\\n",
      "0            320.0                 3              2  ...   9.0   8.0   4.0   \n",
      "1         219843.0                 6              0  ...   5.0   4.0   6.0   \n",
      "2          31698.0                 9              0  ...   0.0  21.0   4.0   \n",
      "3          46854.0                11              1  ...  16.0   4.0   7.0   \n",
      "4             54.0                 0              1  ...   4.0   9.0  10.0   \n",
      "\n",
      "     n8   n9   n10  n11  n12  n13  n14  \n",
      "0  12.0  2.0   7.0  0.0  0.0  0.0  2.0  \n",
      "1  10.0  4.0  13.0  0.0  0.0  0.0  1.0  \n",
      "2   5.0  3.0  11.0  0.0  0.0  0.0  4.0  \n",
      "3  21.0  6.0   9.0  0.0  0.0  0.0  1.0  \n",
      "4  15.0  7.0  12.0  0.0  0.0  0.0  4.0  \n",
      "\n",
      "[5 rows x 44 columns]\n"
     ]
    }
   ],
   "source": [
    "print(X.shape)\n",
    "print(X.head())"
   ]
  },
  {
   "cell_type": "code",
   "execution_count": 4,
   "metadata": {},
   "outputs": [
    {
     "name": "stdout",
     "output_type": "stream",
     "text": [
      "<class 'pandas.core.frame.DataFrame'>\n",
      "RangeIndex: 800000 entries, 0 to 799999\n",
      "Data columns (total 44 columns):\n",
      " #   Column              Non-Null Count   Dtype  \n",
      "---  ------              --------------   -----  \n",
      " 0   id                  800000 non-null  int64  \n",
      " 1   loanAmnt            800000 non-null  float64\n",
      " 2   term                800000 non-null  int64  \n",
      " 3   interestRate        800000 non-null  float64\n",
      " 4   installment         800000 non-null  float64\n",
      " 5   grade               800000 non-null  int64  \n",
      " 6   subGrade            800000 non-null  int64  \n",
      " 7   employmentTitle     800000 non-null  float64\n",
      " 8   employmentLength    800000 non-null  int64  \n",
      " 9   homeOwnership       800000 non-null  int64  \n",
      " 10  annualIncome        800000 non-null  float64\n",
      " 11  verificationStatus  800000 non-null  int64  \n",
      " 12  purpose             800000 non-null  int64  \n",
      " 13  postCode            800000 non-null  float64\n",
      " 14  regionCode          800000 non-null  int64  \n",
      " 15  dti                 800000 non-null  float64\n",
      " 16  delinquency_2years  800000 non-null  float64\n",
      " 17  ficoRangeLow        800000 non-null  float64\n",
      " 18  ficoRangeHigh       800000 non-null  float64\n",
      " 19  openAcc             800000 non-null  float64\n",
      " 20  pubRec              800000 non-null  float64\n",
      " 21  pubRecBankruptcies  800000 non-null  float64\n",
      " 22  revolBal            800000 non-null  float64\n",
      " 23  revolUtil           800000 non-null  float64\n",
      " 24  totalAcc            800000 non-null  float64\n",
      " 25  initialListStatus   800000 non-null  int64  \n",
      " 26  applicationType     800000 non-null  int64  \n",
      " 27  title               800000 non-null  float64\n",
      " 28  policyCode          800000 non-null  float64\n",
      " 29  n0                  800000 non-null  float64\n",
      " 30  n1                  800000 non-null  float64\n",
      " 31  n2                  800000 non-null  float64\n",
      " 32  n3                  800000 non-null  float64\n",
      " 33  n4                  800000 non-null  float64\n",
      " 34  n5                  800000 non-null  float64\n",
      " 35  n6                  800000 non-null  float64\n",
      " 36  n7                  800000 non-null  float64\n",
      " 37  n8                  800000 non-null  float64\n",
      " 38  n9                  800000 non-null  float64\n",
      " 39  n10                 800000 non-null  float64\n",
      " 40  n11                 800000 non-null  float64\n",
      " 41  n12                 800000 non-null  float64\n",
      " 42  n13                 800000 non-null  float64\n",
      " 43  n14                 800000 non-null  float64\n",
      "dtypes: float64(33), int64(11)\n",
      "memory usage: 268.6 MB\n",
      "None\n"
     ]
    }
   ],
   "source": [
    "print(X.info())"
   ]
  },
  {
   "cell_type": "code",
   "execution_count": 5,
   "metadata": {},
   "outputs": [
    {
     "name": "stdout",
     "output_type": "stream",
     "text": [
      "0    640390\n",
      "1    159610\n",
      "Name: isDefault, dtype: int64\n"
     ]
    }
   ],
   "source": [
    "print(Y[\"isDefault\"].value_counts())"
   ]
  },
  {
   "cell_type": "code",
   "execution_count": 6,
   "metadata": {},
   "outputs": [
    {
     "name": "stdout",
     "output_type": "stream",
     "text": [
      "(800000,)\n"
     ]
    }
   ],
   "source": [
    "print(Y[\"isDefault\"].shape)"
   ]
  },
  {
   "cell_type": "code",
   "execution_count": 7,
   "metadata": {},
   "outputs": [
    {
     "name": "stdout",
     "output_type": "stream",
     "text": [
      "(640000, 43)\n",
      "(160000, 43)\n"
     ]
    }
   ],
   "source": [
    "# 二、数据清洗与预处理  （这里在dataprocess里面完成了）\n",
    "# 删除ID字段\n",
    "X.drop(['id'],axis=1,inplace=True)\n",
    "\n",
    "# 三、获取数据的特征属性X和目标属性Y\n",
    "\n",
    "# 四、数据分割\n",
    "x_train,x_test,y_train,y_test = train_test_split(X,Y[\"isDefault\"],test_size=0.2,random_state=11)\n",
    "print(x_train.shape)\n",
    "print(x_test.shape)"
   ]
  },
  {
   "cell_type": "markdown",
   "metadata": {},
   "source": [
    "# 特征工程和特征选择\n",
    "- 分桶\n",
    "- 连续特征离散化\n",
    "- 正态分布--3σ\n",
    "- 异常数据检查\n",
    "- 特征过滤--方差过滤、相关性检测\n",
    "- 。。。。\n"
   ]
  },
  {
   "cell_type": "code",
   "execution_count": 8,
   "metadata": {},
   "outputs": [],
   "source": [
    "#数据采样 n组  0：1 接近1：1，2：1\n"
   ]
  },
  {
   "cell_type": "markdown",
   "metadata": {},
   "source": [
    "## 贝叶斯优化"
   ]
  },
  {
   "cell_type": "code",
   "execution_count": 9,
   "metadata": {},
   "outputs": [],
   "source": [
    "\"\"\"定义优化函数\"\"\"\n",
    "# lightgbm中文文档  https://lightgbm.apachecn.org/#/docs/6  \n",
    "def rf_cv_lgb(num_leaves, max_depth, bagging_fraction, feature_fraction, bagging_freq, min_data_in_leaf, \n",
    "              min_child_weight, min_split_gain, reg_lambda, reg_alpha):\n",
    "    # 建立模型\n",
    "    model_lgb = lgb.LGBMClassifier(boosting_type='gbdt', \n",
    "                                   objective='binary', \n",
    "                                   metric='auc',\n",
    "                                   learning_rate=0.1, \n",
    "                                   n_estimators=500,\n",
    "                                   num_leaves=int(num_leaves), \n",
    "                                   max_depth=int(max_depth), \n",
    "                                   bagging_fraction=round(bagging_fraction, 2), \n",
    "                                   feature_fraction=round(feature_fraction, 2),\n",
    "                                   bagging_freq=int(bagging_freq), \n",
    "                                   min_data_in_leaf=int(min_data_in_leaf),\n",
    "                                   min_child_weight=min_child_weight, \n",
    "                                   min_split_gain=min_split_gain,\n",
    "                                   reg_lambda=reg_lambda, \n",
    "                                   reg_alpha=reg_alpha,\n",
    "                                   n_jobs= 8\n",
    "                                  )\n",
    "    \n",
    "    val = cross_val_score(model_lgb, x_train, y_train, cv=5, scoring='roc_auc').mean()\n",
    "#     val_01 =     \n",
    "    return val"
   ]
  },
  {
   "cell_type": "code",
   "execution_count": 10,
   "metadata": {},
   "outputs": [],
   "source": [
    "\"\"\"定义优化参数\"\"\"\n",
    "bayes_lgb = BayesianOptimization(\n",
    "    rf_cv_lgb, \n",
    "    {  \n",
    "        'num_leaves':(10, 200),\n",
    "        'max_depth':(3, 20),\n",
    "        'bagging_fraction':(0.5, 1.0),\n",
    "        'feature_fraction':(0.5, 1.0),\n",
    "        'bagging_freq':(0, 100),\n",
    "        'min_data_in_leaf':(10,100),\n",
    "        'min_child_weight':(0, 1.0),\n",
    "        'min_split_gain':(0.0, 1.0),\n",
    "        'reg_alpha':(0.0, 10),\n",
    "        'reg_lambda':(0.0, 10),\n",
    "    }\n",
    ")"
   ]
  },
  {
   "cell_type": "code",
   "execution_count": null,
   "metadata": {
    "scrolled": false
   },
   "outputs": [
    {
     "name": "stdout",
     "output_type": "stream",
     "text": [
      "|   iter    |  target   | baggin... | baggin... | featur... | max_depth | min_ch... | min_da... | min_sp... | num_le... | reg_alpha | reg_la... |\n",
      "-------------------------------------------------------------------------------------------------------------------------------------------------\n",
      "[LightGBM] [Warning] feature_fraction is set=0.76, colsample_bytree=1.0 will be ignored. Current value: feature_fraction=0.76\n",
      "[LightGBM] [Warning] min_data_in_leaf is set=75, min_child_samples=20 will be ignored. Current value: min_data_in_leaf=75\n",
      "[LightGBM] [Warning] bagging_fraction is set=0.7, subsample=1.0 will be ignored. Current value: bagging_fraction=0.7\n",
      "[LightGBM] [Warning] bagging_freq is set=80, subsample_freq=0 will be ignored. Current value: bagging_freq=80\n",
      "[LightGBM] [Warning] feature_fraction is set=0.76, colsample_bytree=1.0 will be ignored. Current value: feature_fraction=0.76\n",
      "[LightGBM] [Warning] min_data_in_leaf is set=75, min_child_samples=20 will be ignored. Current value: min_data_in_leaf=75\n",
      "[LightGBM] [Warning] bagging_fraction is set=0.7, subsample=1.0 will be ignored. Current value: bagging_fraction=0.7\n",
      "[LightGBM] [Warning] bagging_freq is set=80, subsample_freq=0 will be ignored. Current value: bagging_freq=80\n",
      "[LightGBM] [Warning] feature_fraction is set=0.76, colsample_bytree=1.0 will be ignored. Current value: feature_fraction=0.76\n",
      "[LightGBM] [Warning] min_data_in_leaf is set=75, min_child_samples=20 will be ignored. Current value: min_data_in_leaf=75\n",
      "[LightGBM] [Warning] bagging_fraction is set=0.7, subsample=1.0 will be ignored. Current value: bagging_fraction=0.7\n",
      "[LightGBM] [Warning] bagging_freq is set=80, subsample_freq=0 will be ignored. Current value: bagging_freq=80\n",
      "[LightGBM] [Warning] feature_fraction is set=0.76, colsample_bytree=1.0 will be ignored. Current value: feature_fraction=0.76\n",
      "[LightGBM] [Warning] min_data_in_leaf is set=75, min_child_samples=20 will be ignored. Current value: min_data_in_leaf=75\n",
      "[LightGBM] [Warning] bagging_fraction is set=0.7, subsample=1.0 will be ignored. Current value: bagging_fraction=0.7\n",
      "[LightGBM] [Warning] bagging_freq is set=80, subsample_freq=0 will be ignored. Current value: bagging_freq=80\n",
      "[LightGBM] [Warning] feature_fraction is set=0.76, colsample_bytree=1.0 will be ignored. Current value: feature_fraction=0.76\n",
      "[LightGBM] [Warning] min_data_in_leaf is set=75, min_child_samples=20 will be ignored. Current value: min_data_in_leaf=75\n",
      "[LightGBM] [Warning] bagging_fraction is set=0.7, subsample=1.0 will be ignored. Current value: bagging_fraction=0.7\n",
      "[LightGBM] [Warning] bagging_freq is set=80, subsample_freq=0 will be ignored. Current value: bagging_freq=80\n",
      "| \u001b[0m 1       \u001b[0m | \u001b[0m 0.7215  \u001b[0m | \u001b[0m 0.7005  \u001b[0m | \u001b[0m 80.28   \u001b[0m | \u001b[0m 0.7565  \u001b[0m | \u001b[0m 10.93   \u001b[0m | \u001b[0m 0.03086 \u001b[0m | \u001b[0m 75.0    \u001b[0m | \u001b[0m 0.4139  \u001b[0m | \u001b[0m 161.5   \u001b[0m | \u001b[0m 0.6608  \u001b[0m | \u001b[0m 3.272   \u001b[0m |\n",
      "[LightGBM] [Warning] feature_fraction is set=0.9, colsample_bytree=1.0 will be ignored. Current value: feature_fraction=0.9\n",
      "[LightGBM] [Warning] min_data_in_leaf is set=85, min_child_samples=20 will be ignored. Current value: min_data_in_leaf=85\n",
      "[LightGBM] [Warning] bagging_fraction is set=0.82, subsample=1.0 will be ignored. Current value: bagging_fraction=0.82\n",
      "[LightGBM] [Warning] bagging_freq is set=73, subsample_freq=0 will be ignored. Current value: bagging_freq=73\n",
      "[LightGBM] [Warning] feature_fraction is set=0.9, colsample_bytree=1.0 will be ignored. Current value: feature_fraction=0.9\n",
      "[LightGBM] [Warning] min_data_in_leaf is set=85, min_child_samples=20 will be ignored. Current value: min_data_in_leaf=85\n",
      "[LightGBM] [Warning] bagging_fraction is set=0.82, subsample=1.0 will be ignored. Current value: bagging_fraction=0.82\n",
      "[LightGBM] [Warning] bagging_freq is set=73, subsample_freq=0 will be ignored. Current value: bagging_freq=73\n",
      "[LightGBM] [Warning] feature_fraction is set=0.9, colsample_bytree=1.0 will be ignored. Current value: feature_fraction=0.9\n",
      "[LightGBM] [Warning] min_data_in_leaf is set=85, min_child_samples=20 will be ignored. Current value: min_data_in_leaf=85\n",
      "[LightGBM] [Warning] bagging_fraction is set=0.82, subsample=1.0 will be ignored. Current value: bagging_fraction=0.82\n",
      "[LightGBM] [Warning] bagging_freq is set=73, subsample_freq=0 will be ignored. Current value: bagging_freq=73\n",
      "[LightGBM] [Warning] feature_fraction is set=0.9, colsample_bytree=1.0 will be ignored. Current value: feature_fraction=0.9\n",
      "[LightGBM] [Warning] min_data_in_leaf is set=85, min_child_samples=20 will be ignored. Current value: min_data_in_leaf=85\n",
      "[LightGBM] [Warning] bagging_fraction is set=0.82, subsample=1.0 will be ignored. Current value: bagging_fraction=0.82\n",
      "[LightGBM] [Warning] bagging_freq is set=73, subsample_freq=0 will be ignored. Current value: bagging_freq=73\n",
      "[LightGBM] [Warning] feature_fraction is set=0.9, colsample_bytree=1.0 will be ignored. Current value: feature_fraction=0.9\n",
      "[LightGBM] [Warning] min_data_in_leaf is set=85, min_child_samples=20 will be ignored. Current value: min_data_in_leaf=85\n",
      "[LightGBM] [Warning] bagging_fraction is set=0.82, subsample=1.0 will be ignored. Current value: bagging_fraction=0.82\n",
      "[LightGBM] [Warning] bagging_freq is set=73, subsample_freq=0 will be ignored. Current value: bagging_freq=73\n",
      "| \u001b[95m 2       \u001b[0m | \u001b[95m 0.7284  \u001b[0m | \u001b[95m 0.8179  \u001b[0m | \u001b[95m 73.75   \u001b[0m | \u001b[95m 0.9022  \u001b[0m | \u001b[95m 3.555   \u001b[0m | \u001b[95m 0.5047  \u001b[0m | \u001b[95m 85.25   \u001b[0m | \u001b[95m 0.839   \u001b[0m | \u001b[95m 184.0   \u001b[0m | \u001b[95m 0.2806  \u001b[0m | \u001b[95m 2.14    \u001b[0m |\n",
      "[LightGBM] [Warning] feature_fraction is set=0.95, colsample_bytree=1.0 will be ignored. Current value: feature_fraction=0.95\n",
      "[LightGBM] [Warning] min_data_in_leaf is set=10, min_child_samples=20 will be ignored. Current value: min_data_in_leaf=10\n",
      "[LightGBM] [Warning] bagging_fraction is set=0.51, subsample=1.0 will be ignored. Current value: bagging_fraction=0.51\n",
      "[LightGBM] [Warning] bagging_freq is set=62, subsample_freq=0 will be ignored. Current value: bagging_freq=62\n",
      "[LightGBM] [Warning] feature_fraction is set=0.95, colsample_bytree=1.0 will be ignored. Current value: feature_fraction=0.95\n",
      "[LightGBM] [Warning] min_data_in_leaf is set=10, min_child_samples=20 will be ignored. Current value: min_data_in_leaf=10\n",
      "[LightGBM] [Warning] bagging_fraction is set=0.51, subsample=1.0 will be ignored. Current value: bagging_fraction=0.51\n",
      "[LightGBM] [Warning] bagging_freq is set=62, subsample_freq=0 will be ignored. Current value: bagging_freq=62\n",
      "[LightGBM] [Warning] feature_fraction is set=0.95, colsample_bytree=1.0 will be ignored. Current value: feature_fraction=0.95\n",
      "[LightGBM] [Warning] min_data_in_leaf is set=10, min_child_samples=20 will be ignored. Current value: min_data_in_leaf=10\n",
      "[LightGBM] [Warning] bagging_fraction is set=0.51, subsample=1.0 will be ignored. Current value: bagging_fraction=0.51\n",
      "[LightGBM] [Warning] bagging_freq is set=62, subsample_freq=0 will be ignored. Current value: bagging_freq=62\n",
      "[LightGBM] [Warning] feature_fraction is set=0.95, colsample_bytree=1.0 will be ignored. Current value: feature_fraction=0.95\n",
      "[LightGBM] [Warning] min_data_in_leaf is set=10, min_child_samples=20 will be ignored. Current value: min_data_in_leaf=10\n",
      "[LightGBM] [Warning] bagging_fraction is set=0.51, subsample=1.0 will be ignored. Current value: bagging_fraction=0.51\n",
      "[LightGBM] [Warning] bagging_freq is set=62, subsample_freq=0 will be ignored. Current value: bagging_freq=62\n",
      "[LightGBM] [Warning] feature_fraction is set=0.95, colsample_bytree=1.0 will be ignored. Current value: feature_fraction=0.95\n",
      "[LightGBM] [Warning] min_data_in_leaf is set=10, min_child_samples=20 will be ignored. Current value: min_data_in_leaf=10\n",
      "[LightGBM] [Warning] bagging_fraction is set=0.51, subsample=1.0 will be ignored. Current value: bagging_fraction=0.51\n",
      "[LightGBM] [Warning] bagging_freq is set=62, subsample_freq=0 will be ignored. Current value: bagging_freq=62\n",
      "| \u001b[0m 3       \u001b[0m | \u001b[0m 0.7263  \u001b[0m | \u001b[0m 0.5087  \u001b[0m | \u001b[0m 62.67   \u001b[0m | \u001b[0m 0.9545  \u001b[0m | \u001b[0m 13.89   \u001b[0m | \u001b[0m 0.1804  \u001b[0m | \u001b[0m 10.97   \u001b[0m | \u001b[0m 0.982   \u001b[0m | \u001b[0m 94.58   \u001b[0m | \u001b[0m 4.905   \u001b[0m | \u001b[0m 8.089   \u001b[0m |\n",
      "[LightGBM] [Warning] feature_fraction is set=0.91, colsample_bytree=1.0 will be ignored. Current value: feature_fraction=0.91\n",
      "[LightGBM] [Warning] min_data_in_leaf is set=83, min_child_samples=20 will be ignored. Current value: min_data_in_leaf=83\n",
      "[LightGBM] [Warning] bagging_fraction is set=0.63, subsample=1.0 will be ignored. Current value: bagging_fraction=0.63\n",
      "[LightGBM] [Warning] bagging_freq is set=84, subsample_freq=0 will be ignored. Current value: bagging_freq=84\n"
     ]
    },
    {
     "name": "stdout",
     "output_type": "stream",
     "text": [
      "[LightGBM] [Warning] feature_fraction is set=0.91, colsample_bytree=1.0 will be ignored. Current value: feature_fraction=0.91\n",
      "[LightGBM] [Warning] min_data_in_leaf is set=83, min_child_samples=20 will be ignored. Current value: min_data_in_leaf=83\n",
      "[LightGBM] [Warning] bagging_fraction is set=0.63, subsample=1.0 will be ignored. Current value: bagging_fraction=0.63\n",
      "[LightGBM] [Warning] bagging_freq is set=84, subsample_freq=0 will be ignored. Current value: bagging_freq=84\n",
      "[LightGBM] [Warning] feature_fraction is set=0.91, colsample_bytree=1.0 will be ignored. Current value: feature_fraction=0.91\n",
      "[LightGBM] [Warning] min_data_in_leaf is set=83, min_child_samples=20 will be ignored. Current value: min_data_in_leaf=83\n",
      "[LightGBM] [Warning] bagging_fraction is set=0.63, subsample=1.0 will be ignored. Current value: bagging_fraction=0.63\n",
      "[LightGBM] [Warning] bagging_freq is set=84, subsample_freq=0 will be ignored. Current value: bagging_freq=84\n",
      "[LightGBM] [Warning] feature_fraction is set=0.91, colsample_bytree=1.0 will be ignored. Current value: feature_fraction=0.91\n",
      "[LightGBM] [Warning] min_data_in_leaf is set=83, min_child_samples=20 will be ignored. Current value: min_data_in_leaf=83\n",
      "[LightGBM] [Warning] bagging_fraction is set=0.63, subsample=1.0 will be ignored. Current value: bagging_fraction=0.63\n",
      "[LightGBM] [Warning] bagging_freq is set=84, subsample_freq=0 will be ignored. Current value: bagging_freq=84\n",
      "[LightGBM] [Warning] feature_fraction is set=0.91, colsample_bytree=1.0 will be ignored. Current value: feature_fraction=0.91\n",
      "[LightGBM] [Warning] min_data_in_leaf is set=83, min_child_samples=20 will be ignored. Current value: min_data_in_leaf=83\n",
      "[LightGBM] [Warning] bagging_fraction is set=0.63, subsample=1.0 will be ignored. Current value: bagging_fraction=0.63\n",
      "[LightGBM] [Warning] bagging_freq is set=84, subsample_freq=0 will be ignored. Current value: bagging_freq=84\n",
      "| \u001b[0m 4       \u001b[0m | \u001b[0m 0.7257  \u001b[0m | \u001b[0m 0.6298  \u001b[0m | \u001b[0m 84.25   \u001b[0m | \u001b[0m 0.9059  \u001b[0m | \u001b[0m 19.01   \u001b[0m | \u001b[0m 0.3924  \u001b[0m | \u001b[0m 83.96   \u001b[0m | \u001b[0m 0.9702  \u001b[0m | \u001b[0m 173.9   \u001b[0m | \u001b[0m 3.434   \u001b[0m | \u001b[0m 9.854   \u001b[0m |\n",
      "[LightGBM] [Warning] feature_fraction is set=0.69, colsample_bytree=1.0 will be ignored. Current value: feature_fraction=0.69\n",
      "[LightGBM] [Warning] min_data_in_leaf is set=76, min_child_samples=20 will be ignored. Current value: min_data_in_leaf=76\n",
      "[LightGBM] [Warning] bagging_fraction is set=0.64, subsample=1.0 will be ignored. Current value: bagging_fraction=0.64\n",
      "[LightGBM] [Warning] bagging_freq is set=89, subsample_freq=0 will be ignored. Current value: bagging_freq=89\n",
      "[LightGBM] [Warning] feature_fraction is set=0.69, colsample_bytree=1.0 will be ignored. Current value: feature_fraction=0.69\n",
      "[LightGBM] [Warning] min_data_in_leaf is set=76, min_child_samples=20 will be ignored. Current value: min_data_in_leaf=76\n",
      "[LightGBM] [Warning] bagging_fraction is set=0.64, subsample=1.0 will be ignored. Current value: bagging_fraction=0.64\n",
      "[LightGBM] [Warning] bagging_freq is set=89, subsample_freq=0 will be ignored. Current value: bagging_freq=89\n",
      "[LightGBM] [Warning] feature_fraction is set=0.69, colsample_bytree=1.0 will be ignored. Current value: feature_fraction=0.69\n",
      "[LightGBM] [Warning] min_data_in_leaf is set=76, min_child_samples=20 will be ignored. Current value: min_data_in_leaf=76\n",
      "[LightGBM] [Warning] bagging_fraction is set=0.64, subsample=1.0 will be ignored. Current value: bagging_fraction=0.64\n",
      "[LightGBM] [Warning] bagging_freq is set=89, subsample_freq=0 will be ignored. Current value: bagging_freq=89\n",
      "[LightGBM] [Warning] feature_fraction is set=0.69, colsample_bytree=1.0 will be ignored. Current value: feature_fraction=0.69\n",
      "[LightGBM] [Warning] min_data_in_leaf is set=76, min_child_samples=20 will be ignored. Current value: min_data_in_leaf=76\n",
      "[LightGBM] [Warning] bagging_fraction is set=0.64, subsample=1.0 will be ignored. Current value: bagging_fraction=0.64\n",
      "[LightGBM] [Warning] bagging_freq is set=89, subsample_freq=0 will be ignored. Current value: bagging_freq=89\n",
      "[LightGBM] [Warning] feature_fraction is set=0.69, colsample_bytree=1.0 will be ignored. Current value: feature_fraction=0.69\n",
      "[LightGBM] [Warning] min_data_in_leaf is set=76, min_child_samples=20 will be ignored. Current value: min_data_in_leaf=76\n",
      "[LightGBM] [Warning] bagging_fraction is set=0.64, subsample=1.0 will be ignored. Current value: bagging_fraction=0.64\n",
      "[LightGBM] [Warning] bagging_freq is set=89, subsample_freq=0 will be ignored. Current value: bagging_freq=89\n",
      "| \u001b[0m 5       \u001b[0m | \u001b[0m 0.7261  \u001b[0m | \u001b[0m 0.6388  \u001b[0m | \u001b[0m 89.42   \u001b[0m | \u001b[0m 0.6891  \u001b[0m | \u001b[0m 8.597   \u001b[0m | \u001b[0m 0.08782 \u001b[0m | \u001b[0m 76.9    \u001b[0m | \u001b[0m 0.8044  \u001b[0m | \u001b[0m 28.39   \u001b[0m | \u001b[0m 0.1683  \u001b[0m | \u001b[0m 3.919   \u001b[0m |\n",
      "[LightGBM] [Warning] feature_fraction is set=0.86, colsample_bytree=1.0 will be ignored. Current value: feature_fraction=0.86\n",
      "[LightGBM] [Warning] min_data_in_leaf is set=78, min_child_samples=20 will be ignored. Current value: min_data_in_leaf=78\n",
      "[LightGBM] [Warning] bagging_fraction is set=0.84, subsample=1.0 will be ignored. Current value: bagging_fraction=0.84\n",
      "[LightGBM] [Warning] bagging_freq is set=92, subsample_freq=0 will be ignored. Current value: bagging_freq=92\n",
      "[LightGBM] [Warning] feature_fraction is set=0.86, colsample_bytree=1.0 will be ignored. Current value: feature_fraction=0.86\n",
      "[LightGBM] [Warning] min_data_in_leaf is set=78, min_child_samples=20 will be ignored. Current value: min_data_in_leaf=78\n",
      "[LightGBM] [Warning] bagging_fraction is set=0.84, subsample=1.0 will be ignored. Current value: bagging_fraction=0.84\n",
      "[LightGBM] [Warning] bagging_freq is set=92, subsample_freq=0 will be ignored. Current value: bagging_freq=92\n",
      "[LightGBM] [Warning] feature_fraction is set=0.86, colsample_bytree=1.0 will be ignored. Current value: feature_fraction=0.86\n",
      "[LightGBM] [Warning] min_data_in_leaf is set=78, min_child_samples=20 will be ignored. Current value: min_data_in_leaf=78\n",
      "[LightGBM] [Warning] bagging_fraction is set=0.84, subsample=1.0 will be ignored. Current value: bagging_fraction=0.84\n",
      "[LightGBM] [Warning] bagging_freq is set=92, subsample_freq=0 will be ignored. Current value: bagging_freq=92\n",
      "[LightGBM] [Warning] feature_fraction is set=0.86, colsample_bytree=1.0 will be ignored. Current value: feature_fraction=0.86\n",
      "[LightGBM] [Warning] min_data_in_leaf is set=78, min_child_samples=20 will be ignored. Current value: min_data_in_leaf=78\n",
      "[LightGBM] [Warning] bagging_fraction is set=0.84, subsample=1.0 will be ignored. Current value: bagging_fraction=0.84\n",
      "[LightGBM] [Warning] bagging_freq is set=92, subsample_freq=0 will be ignored. Current value: bagging_freq=92\n",
      "[LightGBM] [Warning] feature_fraction is set=0.86, colsample_bytree=1.0 will be ignored. Current value: feature_fraction=0.86\n",
      "[LightGBM] [Warning] min_data_in_leaf is set=78, min_child_samples=20 will be ignored. Current value: min_data_in_leaf=78\n",
      "[LightGBM] [Warning] bagging_fraction is set=0.84, subsample=1.0 will be ignored. Current value: bagging_fraction=0.84\n",
      "[LightGBM] [Warning] bagging_freq is set=92, subsample_freq=0 will be ignored. Current value: bagging_freq=92\n",
      "| \u001b[0m 6       \u001b[0m | \u001b[0m 0.7252  \u001b[0m | \u001b[0m 0.8391  \u001b[0m | \u001b[0m 92.28   \u001b[0m | \u001b[0m 0.8646  \u001b[0m | \u001b[0m 6.796   \u001b[0m | \u001b[0m 0.761   \u001b[0m | \u001b[0m 78.43   \u001b[0m | \u001b[0m 0.3208  \u001b[0m | \u001b[0m 26.81   \u001b[0m | \u001b[0m 2.146   \u001b[0m | \u001b[0m 2.993   \u001b[0m |\n",
      "[LightGBM] [Warning] feature_fraction is set=0.96, colsample_bytree=1.0 will be ignored. Current value: feature_fraction=0.96\n",
      "[LightGBM] [Warning] min_data_in_leaf is set=84, min_child_samples=20 will be ignored. Current value: min_data_in_leaf=84\n",
      "[LightGBM] [Warning] bagging_fraction is set=0.81, subsample=1.0 will be ignored. Current value: bagging_fraction=0.81\n",
      "[LightGBM] [Warning] bagging_freq is set=74, subsample_freq=0 will be ignored. Current value: bagging_freq=74\n",
      "[LightGBM] [Warning] feature_fraction is set=0.96, colsample_bytree=1.0 will be ignored. Current value: feature_fraction=0.96\n",
      "[LightGBM] [Warning] min_data_in_leaf is set=84, min_child_samples=20 will be ignored. Current value: min_data_in_leaf=84\n",
      "[LightGBM] [Warning] bagging_fraction is set=0.81, subsample=1.0 will be ignored. Current value: bagging_fraction=0.81\n",
      "[LightGBM] [Warning] bagging_freq is set=74, subsample_freq=0 will be ignored. Current value: bagging_freq=74\n"
     ]
    },
    {
     "name": "stdout",
     "output_type": "stream",
     "text": [
      "[LightGBM] [Warning] feature_fraction is set=0.96, colsample_bytree=1.0 will be ignored. Current value: feature_fraction=0.96\n",
      "[LightGBM] [Warning] min_data_in_leaf is set=84, min_child_samples=20 will be ignored. Current value: min_data_in_leaf=84\n",
      "[LightGBM] [Warning] bagging_fraction is set=0.81, subsample=1.0 will be ignored. Current value: bagging_fraction=0.81\n",
      "[LightGBM] [Warning] bagging_freq is set=74, subsample_freq=0 will be ignored. Current value: bagging_freq=74\n",
      "[LightGBM] [Warning] feature_fraction is set=0.96, colsample_bytree=1.0 will be ignored. Current value: feature_fraction=0.96\n",
      "[LightGBM] [Warning] min_data_in_leaf is set=84, min_child_samples=20 will be ignored. Current value: min_data_in_leaf=84\n",
      "[LightGBM] [Warning] bagging_fraction is set=0.81, subsample=1.0 will be ignored. Current value: bagging_fraction=0.81\n",
      "[LightGBM] [Warning] bagging_freq is set=74, subsample_freq=0 will be ignored. Current value: bagging_freq=74\n",
      "[LightGBM] [Warning] feature_fraction is set=0.96, colsample_bytree=1.0 will be ignored. Current value: feature_fraction=0.96\n",
      "[LightGBM] [Warning] min_data_in_leaf is set=84, min_child_samples=20 will be ignored. Current value: min_data_in_leaf=84\n",
      "[LightGBM] [Warning] bagging_fraction is set=0.81, subsample=1.0 will be ignored. Current value: bagging_fraction=0.81\n",
      "[LightGBM] [Warning] bagging_freq is set=74, subsample_freq=0 will be ignored. Current value: bagging_freq=74\n",
      "| \u001b[0m 7       \u001b[0m | \u001b[0m 0.7161  \u001b[0m | \u001b[0m 0.8125  \u001b[0m | \u001b[0m 74.06   \u001b[0m | \u001b[0m 0.9558  \u001b[0m | \u001b[0m 9.972   \u001b[0m | \u001b[0m 0.6136  \u001b[0m | \u001b[0m 84.82   \u001b[0m | \u001b[0m 0.1532  \u001b[0m | \u001b[0m 189.7   \u001b[0m | \u001b[0m 2.878   \u001b[0m | \u001b[0m 4.534   \u001b[0m |\n",
      "[LightGBM] [Warning] feature_fraction is set=0.53, colsample_bytree=1.0 will be ignored. Current value: feature_fraction=0.53\n",
      "[LightGBM] [Warning] min_data_in_leaf is set=76, min_child_samples=20 will be ignored. Current value: min_data_in_leaf=76\n",
      "[LightGBM] [Warning] bagging_fraction is set=0.88, subsample=1.0 will be ignored. Current value: bagging_fraction=0.88\n",
      "[LightGBM] [Warning] bagging_freq is set=93, subsample_freq=0 will be ignored. Current value: bagging_freq=93\n",
      "[LightGBM] [Warning] feature_fraction is set=0.53, colsample_bytree=1.0 will be ignored. Current value: feature_fraction=0.53\n",
      "[LightGBM] [Warning] min_data_in_leaf is set=76, min_child_samples=20 will be ignored. Current value: min_data_in_leaf=76\n",
      "[LightGBM] [Warning] bagging_fraction is set=0.88, subsample=1.0 will be ignored. Current value: bagging_fraction=0.88\n",
      "[LightGBM] [Warning] bagging_freq is set=93, subsample_freq=0 will be ignored. Current value: bagging_freq=93\n",
      "[LightGBM] [Warning] feature_fraction is set=0.53, colsample_bytree=1.0 will be ignored. Current value: feature_fraction=0.53\n",
      "[LightGBM] [Warning] min_data_in_leaf is set=76, min_child_samples=20 will be ignored. Current value: min_data_in_leaf=76\n",
      "[LightGBM] [Warning] bagging_fraction is set=0.88, subsample=1.0 will be ignored. Current value: bagging_fraction=0.88\n",
      "[LightGBM] [Warning] bagging_freq is set=93, subsample_freq=0 will be ignored. Current value: bagging_freq=93\n",
      "[LightGBM] [Warning] feature_fraction is set=0.53, colsample_bytree=1.0 will be ignored. Current value: feature_fraction=0.53\n",
      "[LightGBM] [Warning] min_data_in_leaf is set=76, min_child_samples=20 will be ignored. Current value: min_data_in_leaf=76\n",
      "[LightGBM] [Warning] bagging_fraction is set=0.88, subsample=1.0 will be ignored. Current value: bagging_fraction=0.88\n",
      "[LightGBM] [Warning] bagging_freq is set=93, subsample_freq=0 will be ignored. Current value: bagging_freq=93\n",
      "[LightGBM] [Warning] feature_fraction is set=0.53, colsample_bytree=1.0 will be ignored. Current value: feature_fraction=0.53\n",
      "[LightGBM] [Warning] min_data_in_leaf is set=76, min_child_samples=20 will be ignored. Current value: min_data_in_leaf=76\n",
      "[LightGBM] [Warning] bagging_fraction is set=0.88, subsample=1.0 will be ignored. Current value: bagging_fraction=0.88\n",
      "[LightGBM] [Warning] bagging_freq is set=93, subsample_freq=0 will be ignored. Current value: bagging_freq=93\n",
      "| \u001b[95m 8       \u001b[0m | \u001b[95m 0.7286  \u001b[0m | \u001b[95m 0.8809  \u001b[0m | \u001b[95m 93.13   \u001b[0m | \u001b[95m 0.5286  \u001b[0m | \u001b[95m 9.259   \u001b[0m | \u001b[95m 0.1355  \u001b[0m | \u001b[95m 76.9    \u001b[0m | \u001b[95m 0.8064  \u001b[0m | \u001b[95m 30.62   \u001b[0m | \u001b[95m 3.74    \u001b[0m | \u001b[95m 1.046   \u001b[0m |\n",
      "[LightGBM] [Warning] feature_fraction is set=0.92, colsample_bytree=1.0 will be ignored. Current value: feature_fraction=0.92\n",
      "[LightGBM] [Warning] min_data_in_leaf is set=83, min_child_samples=20 will be ignored. Current value: min_data_in_leaf=83\n",
      "[LightGBM] [Warning] bagging_fraction is set=0.5, subsample=1.0 will be ignored. Current value: bagging_fraction=0.5\n",
      "[LightGBM] [Warning] bagging_freq is set=77, subsample_freq=0 will be ignored. Current value: bagging_freq=77\n",
      "[LightGBM] [Warning] feature_fraction is set=0.92, colsample_bytree=1.0 will be ignored. Current value: feature_fraction=0.92\n",
      "[LightGBM] [Warning] min_data_in_leaf is set=83, min_child_samples=20 will be ignored. Current value: min_data_in_leaf=83\n",
      "[LightGBM] [Warning] bagging_fraction is set=0.5, subsample=1.0 will be ignored. Current value: bagging_fraction=0.5\n",
      "[LightGBM] [Warning] bagging_freq is set=77, subsample_freq=0 will be ignored. Current value: bagging_freq=77\n",
      "[LightGBM] [Warning] feature_fraction is set=0.92, colsample_bytree=1.0 will be ignored. Current value: feature_fraction=0.92\n",
      "[LightGBM] [Warning] min_data_in_leaf is set=83, min_child_samples=20 will be ignored. Current value: min_data_in_leaf=83\n",
      "[LightGBM] [Warning] bagging_fraction is set=0.5, subsample=1.0 will be ignored. Current value: bagging_fraction=0.5\n",
      "[LightGBM] [Warning] bagging_freq is set=77, subsample_freq=0 will be ignored. Current value: bagging_freq=77\n",
      "[LightGBM] [Warning] feature_fraction is set=0.92, colsample_bytree=1.0 will be ignored. Current value: feature_fraction=0.92\n",
      "[LightGBM] [Warning] min_data_in_leaf is set=83, min_child_samples=20 will be ignored. Current value: min_data_in_leaf=83\n",
      "[LightGBM] [Warning] bagging_fraction is set=0.5, subsample=1.0 will be ignored. Current value: bagging_fraction=0.5\n",
      "[LightGBM] [Warning] bagging_freq is set=77, subsample_freq=0 will be ignored. Current value: bagging_freq=77\n",
      "[LightGBM] [Warning] feature_fraction is set=0.92, colsample_bytree=1.0 will be ignored. Current value: feature_fraction=0.92\n",
      "[LightGBM] [Warning] min_data_in_leaf is set=83, min_child_samples=20 will be ignored. Current value: min_data_in_leaf=83\n",
      "[LightGBM] [Warning] bagging_fraction is set=0.5, subsample=1.0 will be ignored. Current value: bagging_fraction=0.5\n",
      "[LightGBM] [Warning] bagging_freq is set=77, subsample_freq=0 will be ignored. Current value: bagging_freq=77\n",
      "| \u001b[0m 9       \u001b[0m | \u001b[0m 0.7272  \u001b[0m | \u001b[0m 0.5005  \u001b[0m | \u001b[0m 77.9    \u001b[0m | \u001b[0m 0.917   \u001b[0m | \u001b[0m 3.965   \u001b[0m | \u001b[0m 0.7078  \u001b[0m | \u001b[0m 83.1    \u001b[0m | \u001b[0m 0.864   \u001b[0m | \u001b[0m 181.1   \u001b[0m | \u001b[0m 0.898   \u001b[0m | \u001b[0m 1.365   \u001b[0m |\n",
      "[LightGBM] [Warning] feature_fraction is set=0.94, colsample_bytree=1.0 will be ignored. Current value: feature_fraction=0.94\n",
      "[LightGBM] [Warning] min_data_in_leaf is set=74, min_child_samples=20 will be ignored. Current value: min_data_in_leaf=74\n",
      "[LightGBM] [Warning] bagging_fraction is set=0.93, subsample=1.0 will be ignored. Current value: bagging_fraction=0.93\n",
      "[LightGBM] [Warning] bagging_freq is set=91, subsample_freq=0 will be ignored. Current value: bagging_freq=91\n",
      "[LightGBM] [Warning] feature_fraction is set=0.94, colsample_bytree=1.0 will be ignored. Current value: feature_fraction=0.94\n",
      "[LightGBM] [Warning] min_data_in_leaf is set=74, min_child_samples=20 will be ignored. Current value: min_data_in_leaf=74\n",
      "[LightGBM] [Warning] bagging_fraction is set=0.93, subsample=1.0 will be ignored. Current value: bagging_fraction=0.93\n",
      "[LightGBM] [Warning] bagging_freq is set=91, subsample_freq=0 will be ignored. Current value: bagging_freq=91\n",
      "[LightGBM] [Warning] feature_fraction is set=0.94, colsample_bytree=1.0 will be ignored. Current value: feature_fraction=0.94\n",
      "[LightGBM] [Warning] min_data_in_leaf is set=74, min_child_samples=20 will be ignored. Current value: min_data_in_leaf=74\n",
      "[LightGBM] [Warning] bagging_fraction is set=0.93, subsample=1.0 will be ignored. Current value: bagging_fraction=0.93\n",
      "[LightGBM] [Warning] bagging_freq is set=91, subsample_freq=0 will be ignored. Current value: bagging_freq=91\n"
     ]
    },
    {
     "name": "stdout",
     "output_type": "stream",
     "text": [
      "[LightGBM] [Warning] feature_fraction is set=0.94, colsample_bytree=1.0 will be ignored. Current value: feature_fraction=0.94\n",
      "[LightGBM] [Warning] min_data_in_leaf is set=74, min_child_samples=20 will be ignored. Current value: min_data_in_leaf=74\n",
      "[LightGBM] [Warning] bagging_fraction is set=0.93, subsample=1.0 will be ignored. Current value: bagging_fraction=0.93\n",
      "[LightGBM] [Warning] bagging_freq is set=91, subsample_freq=0 will be ignored. Current value: bagging_freq=91\n",
      "[LightGBM] [Warning] feature_fraction is set=0.94, colsample_bytree=1.0 will be ignored. Current value: feature_fraction=0.94\n",
      "[LightGBM] [Warning] min_data_in_leaf is set=74, min_child_samples=20 will be ignored. Current value: min_data_in_leaf=74\n",
      "[LightGBM] [Warning] bagging_fraction is set=0.93, subsample=1.0 will be ignored. Current value: bagging_fraction=0.93\n",
      "[LightGBM] [Warning] bagging_freq is set=91, subsample_freq=0 will be ignored. Current value: bagging_freq=91\n",
      "| \u001b[0m 10      \u001b[0m | \u001b[0m 0.7285  \u001b[0m | \u001b[0m 0.9301  \u001b[0m | \u001b[0m 91.05   \u001b[0m | \u001b[0m 0.9422  \u001b[0m | \u001b[0m 10.31   \u001b[0m | \u001b[0m 0.3353  \u001b[0m | \u001b[0m 74.26   \u001b[0m | \u001b[0m 0.9825  \u001b[0m | \u001b[0m 28.14   \u001b[0m | \u001b[0m 8.371   \u001b[0m | \u001b[0m 1.395   \u001b[0m |\n",
      "[LightGBM] [Warning] feature_fraction is set=0.96, colsample_bytree=1.0 will be ignored. Current value: feature_fraction=0.96\n",
      "[LightGBM] [Warning] min_data_in_leaf is set=78, min_child_samples=20 will be ignored. Current value: min_data_in_leaf=78\n",
      "[LightGBM] [Warning] bagging_fraction is set=0.62, subsample=1.0 will be ignored. Current value: bagging_fraction=0.62\n",
      "[LightGBM] [Warning] bagging_freq is set=95, subsample_freq=0 will be ignored. Current value: bagging_freq=95\n",
      "[LightGBM] [Warning] feature_fraction is set=0.96, colsample_bytree=1.0 will be ignored. Current value: feature_fraction=0.96\n",
      "[LightGBM] [Warning] min_data_in_leaf is set=78, min_child_samples=20 will be ignored. Current value: min_data_in_leaf=78\n",
      "[LightGBM] [Warning] bagging_fraction is set=0.62, subsample=1.0 will be ignored. Current value: bagging_fraction=0.62\n",
      "[LightGBM] [Warning] bagging_freq is set=95, subsample_freq=0 will be ignored. Current value: bagging_freq=95\n",
      "[LightGBM] [Warning] feature_fraction is set=0.96, colsample_bytree=1.0 will be ignored. Current value: feature_fraction=0.96\n",
      "[LightGBM] [Warning] min_data_in_leaf is set=78, min_child_samples=20 will be ignored. Current value: min_data_in_leaf=78\n",
      "[LightGBM] [Warning] bagging_fraction is set=0.62, subsample=1.0 will be ignored. Current value: bagging_fraction=0.62\n",
      "[LightGBM] [Warning] bagging_freq is set=95, subsample_freq=0 will be ignored. Current value: bagging_freq=95\n",
      "[LightGBM] [Warning] feature_fraction is set=0.96, colsample_bytree=1.0 will be ignored. Current value: feature_fraction=0.96\n",
      "[LightGBM] [Warning] min_data_in_leaf is set=78, min_child_samples=20 will be ignored. Current value: min_data_in_leaf=78\n",
      "[LightGBM] [Warning] bagging_fraction is set=0.62, subsample=1.0 will be ignored. Current value: bagging_fraction=0.62\n",
      "[LightGBM] [Warning] bagging_freq is set=95, subsample_freq=0 will be ignored. Current value: bagging_freq=95\n",
      "[LightGBM] [Warning] feature_fraction is set=0.96, colsample_bytree=1.0 will be ignored. Current value: feature_fraction=0.96\n",
      "[LightGBM] [Warning] min_data_in_leaf is set=78, min_child_samples=20 will be ignored. Current value: min_data_in_leaf=78\n",
      "[LightGBM] [Warning] bagging_fraction is set=0.62, subsample=1.0 will be ignored. Current value: bagging_fraction=0.62\n",
      "[LightGBM] [Warning] bagging_freq is set=95, subsample_freq=0 will be ignored. Current value: bagging_freq=95\n",
      "| \u001b[0m 11      \u001b[0m | \u001b[0m 0.7244  \u001b[0m | \u001b[0m 0.6189  \u001b[0m | \u001b[0m 95.1    \u001b[0m | \u001b[0m 0.9599  \u001b[0m | \u001b[0m 11.3    \u001b[0m | \u001b[0m 0.3776  \u001b[0m | \u001b[0m 78.23   \u001b[0m | \u001b[0m 0.481   \u001b[0m | \u001b[0m 34.98   \u001b[0m | \u001b[0m 5.06    \u001b[0m | \u001b[0m 4.788   \u001b[0m |\n",
      "[LightGBM] [Warning] feature_fraction is set=0.94, colsample_bytree=1.0 will be ignored. Current value: feature_fraction=0.94\n",
      "[LightGBM] [Warning] min_data_in_leaf is set=75, min_child_samples=20 will be ignored. Current value: min_data_in_leaf=75\n",
      "[LightGBM] [Warning] bagging_fraction is set=0.6, subsample=1.0 will be ignored. Current value: bagging_fraction=0.6\n",
      "[LightGBM] [Warning] bagging_freq is set=86, subsample_freq=0 will be ignored. Current value: bagging_freq=86\n",
      "[LightGBM] [Warning] feature_fraction is set=0.94, colsample_bytree=1.0 will be ignored. Current value: feature_fraction=0.94\n",
      "[LightGBM] [Warning] min_data_in_leaf is set=75, min_child_samples=20 will be ignored. Current value: min_data_in_leaf=75\n",
      "[LightGBM] [Warning] bagging_fraction is set=0.6, subsample=1.0 will be ignored. Current value: bagging_fraction=0.6\n",
      "[LightGBM] [Warning] bagging_freq is set=86, subsample_freq=0 will be ignored. Current value: bagging_freq=86\n",
      "[LightGBM] [Warning] feature_fraction is set=0.94, colsample_bytree=1.0 will be ignored. Current value: feature_fraction=0.94\n",
      "[LightGBM] [Warning] min_data_in_leaf is set=75, min_child_samples=20 will be ignored. Current value: min_data_in_leaf=75\n",
      "[LightGBM] [Warning] bagging_fraction is set=0.6, subsample=1.0 will be ignored. Current value: bagging_fraction=0.6\n",
      "[LightGBM] [Warning] bagging_freq is set=86, subsample_freq=0 will be ignored. Current value: bagging_freq=86\n",
      "[LightGBM] [Warning] feature_fraction is set=0.94, colsample_bytree=1.0 will be ignored. Current value: feature_fraction=0.94\n",
      "[LightGBM] [Warning] min_data_in_leaf is set=75, min_child_samples=20 will be ignored. Current value: min_data_in_leaf=75\n",
      "[LightGBM] [Warning] bagging_fraction is set=0.6, subsample=1.0 will be ignored. Current value: bagging_fraction=0.6\n",
      "[LightGBM] [Warning] bagging_freq is set=86, subsample_freq=0 will be ignored. Current value: bagging_freq=86\n",
      "[LightGBM] [Warning] feature_fraction is set=0.94, colsample_bytree=1.0 will be ignored. Current value: feature_fraction=0.94\n",
      "[LightGBM] [Warning] min_data_in_leaf is set=75, min_child_samples=20 will be ignored. Current value: min_data_in_leaf=75\n",
      "[LightGBM] [Warning] bagging_fraction is set=0.6, subsample=1.0 will be ignored. Current value: bagging_fraction=0.6\n",
      "[LightGBM] [Warning] bagging_freq is set=86, subsample_freq=0 will be ignored. Current value: bagging_freq=86\n",
      "| \u001b[0m 12      \u001b[0m | \u001b[0m 0.7281  \u001b[0m | \u001b[0m 0.5994  \u001b[0m | \u001b[0m 86.93   \u001b[0m | \u001b[0m 0.9395  \u001b[0m | \u001b[0m 10.81   \u001b[0m | \u001b[0m 0.5515  \u001b[0m | \u001b[0m 75.16   \u001b[0m | \u001b[0m 0.6294  \u001b[0m | \u001b[0m 25.08   \u001b[0m | \u001b[0m 9.073   \u001b[0m | \u001b[0m 0.9905  \u001b[0m |\n",
      "[LightGBM] [Warning] feature_fraction is set=0.69, colsample_bytree=1.0 will be ignored. Current value: feature_fraction=0.69\n",
      "[LightGBM] [Warning] min_data_in_leaf is set=75, min_child_samples=20 will be ignored. Current value: min_data_in_leaf=75\n",
      "[LightGBM] [Warning] bagging_fraction is set=0.76, subsample=1.0 will be ignored. Current value: bagging_fraction=0.76\n",
      "[LightGBM] [Warning] bagging_freq is set=92, subsample_freq=0 will be ignored. Current value: bagging_freq=92\n",
      "[LightGBM] [Warning] feature_fraction is set=0.69, colsample_bytree=1.0 will be ignored. Current value: feature_fraction=0.69\n",
      "[LightGBM] [Warning] min_data_in_leaf is set=75, min_child_samples=20 will be ignored. Current value: min_data_in_leaf=75\n",
      "[LightGBM] [Warning] bagging_fraction is set=0.76, subsample=1.0 will be ignored. Current value: bagging_fraction=0.76\n",
      "[LightGBM] [Warning] bagging_freq is set=92, subsample_freq=0 will be ignored. Current value: bagging_freq=92\n",
      "[LightGBM] [Warning] feature_fraction is set=0.69, colsample_bytree=1.0 will be ignored. Current value: feature_fraction=0.69\n",
      "[LightGBM] [Warning] min_data_in_leaf is set=75, min_child_samples=20 will be ignored. Current value: min_data_in_leaf=75\n",
      "[LightGBM] [Warning] bagging_fraction is set=0.76, subsample=1.0 will be ignored. Current value: bagging_fraction=0.76\n",
      "[LightGBM] [Warning] bagging_freq is set=92, subsample_freq=0 will be ignored. Current value: bagging_freq=92\n",
      "[LightGBM] [Warning] feature_fraction is set=0.69, colsample_bytree=1.0 will be ignored. Current value: feature_fraction=0.69\n",
      "[LightGBM] [Warning] min_data_in_leaf is set=75, min_child_samples=20 will be ignored. Current value: min_data_in_leaf=75\n",
      "[LightGBM] [Warning] bagging_fraction is set=0.76, subsample=1.0 will be ignored. Current value: bagging_fraction=0.76\n",
      "[LightGBM] [Warning] bagging_freq is set=92, subsample_freq=0 will be ignored. Current value: bagging_freq=92\n"
     ]
    },
    {
     "name": "stdout",
     "output_type": "stream",
     "text": [
      "[LightGBM] [Warning] feature_fraction is set=0.69, colsample_bytree=1.0 will be ignored. Current value: feature_fraction=0.69\n",
      "[LightGBM] [Warning] min_data_in_leaf is set=75, min_child_samples=20 will be ignored. Current value: min_data_in_leaf=75\n",
      "[LightGBM] [Warning] bagging_fraction is set=0.76, subsample=1.0 will be ignored. Current value: bagging_fraction=0.76\n",
      "[LightGBM] [Warning] bagging_freq is set=92, subsample_freq=0 will be ignored. Current value: bagging_freq=92\n",
      "| \u001b[0m 13      \u001b[0m | \u001b[0m 0.7282  \u001b[0m | \u001b[0m 0.7569  \u001b[0m | \u001b[0m 92.32   \u001b[0m | \u001b[0m 0.6885  \u001b[0m | \u001b[0m 13.78   \u001b[0m | \u001b[0m 0.8769  \u001b[0m | \u001b[0m 75.3    \u001b[0m | \u001b[0m 0.4799  \u001b[0m | \u001b[0m 29.41   \u001b[0m | \u001b[0m 4.962   \u001b[0m | \u001b[0m 2.05    \u001b[0m |\n",
      "[LightGBM] [Warning] feature_fraction is set=0.98, colsample_bytree=1.0 will be ignored. Current value: feature_fraction=0.98\n",
      "[LightGBM] [Warning] min_data_in_leaf is set=67, min_child_samples=20 will be ignored. Current value: min_data_in_leaf=67\n",
      "[LightGBM] [Warning] bagging_fraction is set=0.78, subsample=1.0 will be ignored. Current value: bagging_fraction=0.78\n",
      "[LightGBM] [Warning] bagging_freq is set=89, subsample_freq=0 will be ignored. Current value: bagging_freq=89\n",
      "[LightGBM] [Warning] feature_fraction is set=0.98, colsample_bytree=1.0 will be ignored. Current value: feature_fraction=0.98\n",
      "[LightGBM] [Warning] min_data_in_leaf is set=67, min_child_samples=20 will be ignored. Current value: min_data_in_leaf=67\n",
      "[LightGBM] [Warning] bagging_fraction is set=0.78, subsample=1.0 will be ignored. Current value: bagging_fraction=0.78\n",
      "[LightGBM] [Warning] bagging_freq is set=89, subsample_freq=0 will be ignored. Current value: bagging_freq=89\n",
      "[LightGBM] [Warning] feature_fraction is set=0.98, colsample_bytree=1.0 will be ignored. Current value: feature_fraction=0.98\n",
      "[LightGBM] [Warning] min_data_in_leaf is set=67, min_child_samples=20 will be ignored. Current value: min_data_in_leaf=67\n",
      "[LightGBM] [Warning] bagging_fraction is set=0.78, subsample=1.0 will be ignored. Current value: bagging_fraction=0.78\n",
      "[LightGBM] [Warning] bagging_freq is set=89, subsample_freq=0 will be ignored. Current value: bagging_freq=89\n",
      "[LightGBM] [Warning] feature_fraction is set=0.98, colsample_bytree=1.0 will be ignored. Current value: feature_fraction=0.98\n",
      "[LightGBM] [Warning] min_data_in_leaf is set=67, min_child_samples=20 will be ignored. Current value: min_data_in_leaf=67\n",
      "[LightGBM] [Warning] bagging_fraction is set=0.78, subsample=1.0 will be ignored. Current value: bagging_fraction=0.78\n",
      "[LightGBM] [Warning] bagging_freq is set=89, subsample_freq=0 will be ignored. Current value: bagging_freq=89\n",
      "[LightGBM] [Warning] feature_fraction is set=0.98, colsample_bytree=1.0 will be ignored. Current value: feature_fraction=0.98\n",
      "[LightGBM] [Warning] min_data_in_leaf is set=67, min_child_samples=20 will be ignored. Current value: min_data_in_leaf=67\n",
      "[LightGBM] [Warning] bagging_fraction is set=0.78, subsample=1.0 will be ignored. Current value: bagging_fraction=0.78\n",
      "[LightGBM] [Warning] bagging_freq is set=89, subsample_freq=0 will be ignored. Current value: bagging_freq=89\n",
      "| \u001b[0m 14      \u001b[0m | \u001b[0m 0.7206  \u001b[0m | \u001b[0m 0.7787  \u001b[0m | \u001b[0m 89.54   \u001b[0m | \u001b[0m 0.9804  \u001b[0m | \u001b[0m 13.92   \u001b[0m | \u001b[0m 0.6761  \u001b[0m | \u001b[0m 67.56   \u001b[0m | \u001b[0m 0.07269 \u001b[0m | \u001b[0m 22.16   \u001b[0m | \u001b[0m 3.952   \u001b[0m | \u001b[0m 3.856   \u001b[0m |\n",
      "[LightGBM] [Warning] feature_fraction is set=0.79, colsample_bytree=1.0 will be ignored. Current value: feature_fraction=0.79\n",
      "[LightGBM] [Warning] min_data_in_leaf is set=74, min_child_samples=20 will be ignored. Current value: min_data_in_leaf=74\n",
      "[LightGBM] [Warning] bagging_fraction is set=0.51, subsample=1.0 will be ignored. Current value: bagging_fraction=0.51\n",
      "[LightGBM] [Warning] bagging_freq is set=82, subsample_freq=0 will be ignored. Current value: bagging_freq=82\n",
      "[LightGBM] [Warning] feature_fraction is set=0.79, colsample_bytree=1.0 will be ignored. Current value: feature_fraction=0.79\n",
      "[LightGBM] [Warning] min_data_in_leaf is set=74, min_child_samples=20 will be ignored. Current value: min_data_in_leaf=74\n",
      "[LightGBM] [Warning] bagging_fraction is set=0.51, subsample=1.0 will be ignored. Current value: bagging_fraction=0.51\n",
      "[LightGBM] [Warning] bagging_freq is set=82, subsample_freq=0 will be ignored. Current value: bagging_freq=82\n",
      "[LightGBM] [Warning] feature_fraction is set=0.79, colsample_bytree=1.0 will be ignored. Current value: feature_fraction=0.79\n",
      "[LightGBM] [Warning] min_data_in_leaf is set=74, min_child_samples=20 will be ignored. Current value: min_data_in_leaf=74\n",
      "[LightGBM] [Warning] bagging_fraction is set=0.51, subsample=1.0 will be ignored. Current value: bagging_fraction=0.51\n",
      "[LightGBM] [Warning] bagging_freq is set=82, subsample_freq=0 will be ignored. Current value: bagging_freq=82\n",
      "[LightGBM] [Warning] feature_fraction is set=0.79, colsample_bytree=1.0 will be ignored. Current value: feature_fraction=0.79\n",
      "[LightGBM] [Warning] min_data_in_leaf is set=74, min_child_samples=20 will be ignored. Current value: min_data_in_leaf=74\n",
      "[LightGBM] [Warning] bagging_fraction is set=0.51, subsample=1.0 will be ignored. Current value: bagging_fraction=0.51\n",
      "[LightGBM] [Warning] bagging_freq is set=82, subsample_freq=0 will be ignored. Current value: bagging_freq=82\n",
      "[LightGBM] [Warning] feature_fraction is set=0.79, colsample_bytree=1.0 will be ignored. Current value: feature_fraction=0.79\n",
      "[LightGBM] [Warning] min_data_in_leaf is set=74, min_child_samples=20 will be ignored. Current value: min_data_in_leaf=74\n",
      "[LightGBM] [Warning] bagging_fraction is set=0.51, subsample=1.0 will be ignored. Current value: bagging_fraction=0.51\n",
      "[LightGBM] [Warning] bagging_freq is set=82, subsample_freq=0 will be ignored. Current value: bagging_freq=82\n",
      "| \u001b[0m 15      \u001b[0m | \u001b[0m 0.7273  \u001b[0m | \u001b[0m 0.5082  \u001b[0m | \u001b[0m 82.73   \u001b[0m | \u001b[0m 0.7883  \u001b[0m | \u001b[0m 9.909   \u001b[0m | \u001b[0m 0.2623  \u001b[0m | \u001b[0m 74.14   \u001b[0m | \u001b[0m 0.8154  \u001b[0m | \u001b[0m 32.6    \u001b[0m | \u001b[0m 6.34    \u001b[0m | \u001b[0m 0.3928  \u001b[0m |\n",
      "[LightGBM] [Warning] feature_fraction is set=0.68, colsample_bytree=1.0 will be ignored. Current value: feature_fraction=0.68\n",
      "[LightGBM] [Warning] min_data_in_leaf is set=72, min_child_samples=20 will be ignored. Current value: min_data_in_leaf=72\n",
      "[LightGBM] [Warning] bagging_fraction is set=0.79, subsample=1.0 will be ignored. Current value: bagging_fraction=0.79\n",
      "[LightGBM] [Warning] bagging_freq is set=95, subsample_freq=0 will be ignored. Current value: bagging_freq=95\n",
      "[LightGBM] [Warning] feature_fraction is set=0.68, colsample_bytree=1.0 will be ignored. Current value: feature_fraction=0.68\n",
      "[LightGBM] [Warning] min_data_in_leaf is set=72, min_child_samples=20 will be ignored. Current value: min_data_in_leaf=72\n",
      "[LightGBM] [Warning] bagging_fraction is set=0.79, subsample=1.0 will be ignored. Current value: bagging_fraction=0.79\n",
      "[LightGBM] [Warning] bagging_freq is set=95, subsample_freq=0 will be ignored. Current value: bagging_freq=95\n",
      "[LightGBM] [Warning] feature_fraction is set=0.68, colsample_bytree=1.0 will be ignored. Current value: feature_fraction=0.68\n",
      "[LightGBM] [Warning] min_data_in_leaf is set=72, min_child_samples=20 will be ignored. Current value: min_data_in_leaf=72\n",
      "[LightGBM] [Warning] bagging_fraction is set=0.79, subsample=1.0 will be ignored. Current value: bagging_fraction=0.79\n",
      "[LightGBM] [Warning] bagging_freq is set=95, subsample_freq=0 will be ignored. Current value: bagging_freq=95\n",
      "[LightGBM] [Warning] feature_fraction is set=0.68, colsample_bytree=1.0 will be ignored. Current value: feature_fraction=0.68\n",
      "[LightGBM] [Warning] min_data_in_leaf is set=72, min_child_samples=20 will be ignored. Current value: min_data_in_leaf=72\n",
      "[LightGBM] [Warning] bagging_fraction is set=0.79, subsample=1.0 will be ignored. Current value: bagging_fraction=0.79\n",
      "[LightGBM] [Warning] bagging_freq is set=95, subsample_freq=0 will be ignored. Current value: bagging_freq=95\n",
      "[LightGBM] [Warning] feature_fraction is set=0.68, colsample_bytree=1.0 will be ignored. Current value: feature_fraction=0.68\n",
      "[LightGBM] [Warning] min_data_in_leaf is set=72, min_child_samples=20 will be ignored. Current value: min_data_in_leaf=72\n",
      "[LightGBM] [Warning] bagging_fraction is set=0.79, subsample=1.0 will be ignored. Current value: bagging_fraction=0.79\n",
      "[LightGBM] [Warning] bagging_freq is set=95, subsample_freq=0 will be ignored. Current value: bagging_freq=95\n"
     ]
    },
    {
     "name": "stdout",
     "output_type": "stream",
     "text": [
      "| \u001b[0m 16      \u001b[0m | \u001b[0m 0.7282  \u001b[0m | \u001b[0m 0.7872  \u001b[0m | \u001b[0m 95.53   \u001b[0m | \u001b[0m 0.6838  \u001b[0m | \u001b[0m 4.357   \u001b[0m | \u001b[0m 0.6223  \u001b[0m | \u001b[0m 72.29   \u001b[0m | \u001b[0m 0.8873  \u001b[0m | \u001b[0m 32.19   \u001b[0m | \u001b[0m 3.385   \u001b[0m | \u001b[0m 0.138   \u001b[0m |\n",
      "[LightGBM] [Warning] feature_fraction is set=0.6, colsample_bytree=1.0 will be ignored. Current value: feature_fraction=0.6\n",
      "[LightGBM] [Warning] min_data_in_leaf is set=72, min_child_samples=20 will be ignored. Current value: min_data_in_leaf=72\n",
      "[LightGBM] [Warning] bagging_fraction is set=0.8, subsample=1.0 will be ignored. Current value: bagging_fraction=0.8\n",
      "[LightGBM] [Warning] bagging_freq is set=88, subsample_freq=0 will be ignored. Current value: bagging_freq=88\n",
      "[LightGBM] [Warning] feature_fraction is set=0.6, colsample_bytree=1.0 will be ignored. Current value: feature_fraction=0.6\n",
      "[LightGBM] [Warning] min_data_in_leaf is set=72, min_child_samples=20 will be ignored. Current value: min_data_in_leaf=72\n",
      "[LightGBM] [Warning] bagging_fraction is set=0.8, subsample=1.0 will be ignored. Current value: bagging_fraction=0.8\n",
      "[LightGBM] [Warning] bagging_freq is set=88, subsample_freq=0 will be ignored. Current value: bagging_freq=88\n",
      "[LightGBM] [Warning] feature_fraction is set=0.6, colsample_bytree=1.0 will be ignored. Current value: feature_fraction=0.6\n",
      "[LightGBM] [Warning] min_data_in_leaf is set=72, min_child_samples=20 will be ignored. Current value: min_data_in_leaf=72\n",
      "[LightGBM] [Warning] bagging_fraction is set=0.8, subsample=1.0 will be ignored. Current value: bagging_fraction=0.8\n",
      "[LightGBM] [Warning] bagging_freq is set=88, subsample_freq=0 will be ignored. Current value: bagging_freq=88\n"
     ]
    }
   ],
   "source": [
    "\"\"\"开始优化\"\"\"\n",
    "bayes_lgb.maximize()"
   ]
  },
  {
   "cell_type": "code",
   "execution_count": null,
   "metadata": {},
   "outputs": [],
   "source": [
    "\"\"\"显示优化结果\"\"\"\n",
    "bayes_lgb.max"
   ]
  },
  {
   "cell_type": "code",
   "execution_count": null,
   "metadata": {},
   "outputs": [],
   "source": [
    "params = bayes_lgb.max\n",
    "params = params[\"params\"]\n"
   ]
  },
  {
   "cell_type": "code",
   "execution_count": null,
   "metadata": {},
   "outputs": [],
   "source": [
    "val = rf_cv_lgb(**params)\n",
    "val"
   ]
  },
  {
   "cell_type": "code",
   "execution_count": null,
   "metadata": {},
   "outputs": [],
   "source": [
    "# 获取参数后重新训练模型"
   ]
  },
  {
   "cell_type": "code",
   "execution_count": 8,
   "metadata": {},
   "outputs": [
    {
     "name": "stdout",
     "output_type": "stream",
     "text": [
      "[LightGBM] [Warning] feature_fraction is set=0.5, colsample_bytree=1.0 will be ignored. Current value: feature_fraction=0.5\n",
      "[LightGBM] [Warning] min_data_in_leaf is set=87, min_child_samples=20 will be ignored. Current value: min_data_in_leaf=87\n",
      "[LightGBM] [Warning] bagging_fraction is set=0.89, subsample=1.0 will be ignored. Current value: bagging_fraction=0.89\n",
      "[LightGBM] [Warning] bagging_freq is set=1, subsample_freq=0 will be ignored. Current value: bagging_freq=1\n"
     ]
    },
    {
     "data": {
      "text/plain": [
       "LGBMClassifier(bagging_fraction=0.89, bagging_freq=1, feature_fraction=0.5,\n",
       "               max_depth=16, metric='auc', min_child_weight=0.61,\n",
       "               min_data_in_leaf=87, min_split_gain=0.91, n_estimators=5000,\n",
       "               n_jobs=8, num_leaves=196, objective='binary', reg_alpha=7.27,\n",
       "               reg_lambda=0.31)"
      ]
     },
     "execution_count": 8,
     "metadata": {},
     "output_type": "execute_result"
    }
   ],
   "source": [
    "# 训练lgb模型\n",
    "# params ={\n",
    "#     'bagging_fraction': 0.9597072852836863,\n",
    "#     'bagging_freq': 96.02333163723546,\n",
    "#     'feature_fraction': 0.5146686517201933,\n",
    "#     'max_depth': 8.726951175253506,\n",
    "#     'min_child_weight': 8.21938297729288,\n",
    "#     'min_data_in_leaf': 88.7793205900251,\n",
    "#     'min_split_gain': 0.2734387479280127,\n",
    "#     'num_leaves': 76.42645999721336,\n",
    "#     'reg_alpha': 6.25601283860137,\n",
    "#     'reg_lambda': 0.31112717567529424\n",
    "# }\n",
    "\n",
    "# {'bagging_fraction': 0.8952697772299671,\n",
    "#   'bagging_freq': 0.653709009526815,\n",
    "#   'feature_fraction': 0.5016129456258751,\n",
    "#   'max_depth': 16.164048414389743,\n",
    "#   'min_child_weight': 0.6178648072920936,\n",
    "#   'min_data_in_leaf': 87.42041507563499,\n",
    "#   'min_split_gain': 0.9123560894591687,\n",
    "#   'num_leaves': 196.56327670792092,\n",
    "#   'reg_alpha': 8.258785210297255,\n",
    "#   'reg_lambda': 7.277160365919464}\n",
    "\n",
    "lgb_model = lgb.LGBMClassifier(boosting_type='gbdt', \n",
    "                               objective='binary', \n",
    "                               metric='auc',\n",
    "                               learning_rate=0.1, \n",
    "                               n_estimators=5000,\n",
    "                               num_leaves=196, \n",
    "                               max_depth=16, \n",
    "                               bagging_fraction=0.89, \n",
    "                               feature_fraction=0.50,\n",
    "                               bagging_freq=1, \n",
    "                               min_data_in_leaf=87,\n",
    "                               min_child_weight=0.61, \n",
    "                               min_split_gain=0.91,\n",
    "                               reg_lambda=0.31, \n",
    "                               reg_alpha=7.27,\n",
    "                               n_jobs= 8\n",
    "                              )\n",
    "\n",
    "lgb_model.fit(x_train,y_train)\n"
   ]
  },
  {
   "cell_type": "code",
   "execution_count": 9,
   "metadata": {},
   "outputs": [
    {
     "data": {
      "text/plain": [
       "0.819696875"
      ]
     },
     "execution_count": 9,
     "metadata": {},
     "output_type": "execute_result"
    }
   ],
   "source": [
    "lgb_model.score(x_train,y_train)"
   ]
  },
  {
   "cell_type": "code",
   "execution_count": 10,
   "metadata": {},
   "outputs": [
    {
     "data": {
      "text/plain": [
       "0.80539375"
      ]
     },
     "execution_count": 10,
     "metadata": {},
     "output_type": "execute_result"
    }
   ],
   "source": [
    "lgb_model.score(x_test,y_test)"
   ]
  },
  {
   "cell_type": "code",
   "execution_count": 11,
   "metadata": {},
   "outputs": [
    {
     "name": "stdout",
     "output_type": "stream",
     "text": [
      "[LightGBM] [Warning] feature_fraction is set=0.5, colsample_bytree=1.0 will be ignored. Current value: feature_fraction=0.5\n",
      "[LightGBM] [Warning] min_data_in_leaf is set=87, min_child_samples=20 will be ignored. Current value: min_data_in_leaf=87\n",
      "[LightGBM] [Warning] bagging_fraction is set=0.89, subsample=1.0 will be ignored. Current value: bagging_fraction=0.89\n",
      "[LightGBM] [Warning] bagging_freq is set=1, subsample_freq=0 will be ignored. Current value: bagging_freq=1\n"
     ]
    },
    {
     "data": {
      "text/plain": [
       "LGBMClassifier(bagging_fraction=0.89, bagging_freq=1, feature_fraction=0.5,\n",
       "               max_depth=16, metric='auc', min_child_weight=0.61,\n",
       "               min_data_in_leaf=87, min_split_gain=0.91, n_estimators=5000,\n",
       "               n_jobs=8, num_leaves=196, objective='binary', reg_alpha=7.27,\n",
       "               reg_lambda=0.31)"
      ]
     },
     "execution_count": 11,
     "metadata": {},
     "output_type": "execute_result"
    }
   ],
   "source": [
    "lgb_model = lgb.LGBMClassifier(boosting_type='gbdt', \n",
    "                               objective='binary', \n",
    "                               metric='auc',\n",
    "                               learning_rate=0.1, \n",
    "                               n_estimators=5000,\n",
    "                               num_leaves=196, \n",
    "                               max_depth=16, \n",
    "                               bagging_fraction=0.89, \n",
    "                               feature_fraction=0.50,\n",
    "                               bagging_freq=1, \n",
    "                               min_data_in_leaf=87,\n",
    "                               min_child_weight=0.61, \n",
    "                               min_split_gain=0.91,\n",
    "                               reg_lambda=0.31, \n",
    "                               reg_alpha=7.27,\n",
    "                               n_jobs= 8\n",
    "                              )\n",
    "lgb_model.fit(X,Y)"
   ]
  },
  {
   "cell_type": "code",
   "execution_count": 12,
   "metadata": {},
   "outputs": [
    {
     "name": "stdout",
     "output_type": "stream",
     "text": [
      "0.81870125\n"
     ]
    }
   ],
   "source": [
    "print(lgb_model.score(X,Y))\n",
    "datas_y_hat = lgb_model.predict(X)"
   ]
  },
  {
   "cell_type": "code",
   "execution_count": 13,
   "metadata": {},
   "outputs": [
    {
     "name": "stdout",
     "output_type": "stream",
     "text": [
      "整体准确率：0.81870125\n"
     ]
    }
   ],
   "source": [
    "print(\"整体准确率：{}\".format(accuracy_score(Y, datas_y_hat)))"
   ]
  },
  {
   "cell_type": "code",
   "execution_count": 14,
   "metadata": {},
   "outputs": [
    {
     "name": "stdout",
     "output_type": "stream",
     "text": [
      "整体的AUC值：0.5696675504578137\n"
     ]
    },
    {
     "data": {
      "image/png": "[encoded data removed]",
      "text/plain": [
       "<Figure size 576x576 with 1 Axes>"
      ]
     },
     "metadata": {
      "needs_background": "light"
     },
     "output_type": "display_data"
    }
   ],
   "source": [
    "# 看下ROC曲线\n",
    "fpr, tpr, threshold = roc_curve(Y, datas_y_hat)\n",
    "roc_auc = auc(fpr, tpr)\n",
    "print(\"整体的AUC值：{}\".format(roc_auc))\n",
    "\n",
    "\"\"\"画出roc曲线图\"\"\"\n",
    "plt.figure(figsize=(8, 8))\n",
    "plt.title('Validation ROC')\n",
    "plt.plot(fpr, tpr, 'b', label = 'Val AUC = %0.4f' % roc_auc)\n",
    "plt.ylim(0,1)\n",
    "plt.xlim(0,1)\n",
    "plt.legend(loc='best')\n",
    "plt.title('ROC')\n",
    "plt.ylabel('True Positive Rate')\n",
    "plt.xlabel('False Positive Rate')\n",
    "# 画出对角线\n",
    "plt.plot([0,1],[0,1],'r--')\n",
    "plt.show()"
   ]
  },
  {
   "cell_type": "code",
   "execution_count": 15,
   "metadata": {},
   "outputs": [
    {
     "data": {
      "text/plain": [
       "['./model/lgb_model.pkl']"
      ]
     },
     "execution_count": 15,
     "metadata": {},
     "output_type": "execute_result"
    }
   ],
   "source": [
    "import joblib\n",
    "\n",
    "save_dir_path = './model'\n",
    "import os\n",
    "if os.path.exists(save_dir_path):\n",
    "    pass\n",
    "else:\n",
    "    os.makedirs(save_dir_path)\n",
    "\n",
    "joblib.dump(lgb_model,save_dir_path+'/lgb_model.pkl')"
   ]
  },
  {
   "cell_type": "code",
   "execution_count": null,
   "metadata": {},
   "outputs": [],
   "source": []
  },
  {
   "cell_type": "code",
   "execution_count": null,
   "metadata": {},
   "outputs": [],
   "source": []
  }
 ],
 "metadata": {
  "kernelspec": {
   "display_name": "Python 3 (ipykernel)",
   "language": "python",
   "name": "python3"
  },
  "language_info": {
   "codemirror_mode": {
    "name": "ipython",
    "version": 3
   },
   "file_extension": ".py",
   "mimetype": "text/x-python",
   "name": "python",
   "nbconvert_exporter": "python",
   "pygments_lexer": "ipython3",
   "version": "3.9.12"
  }
 },
 "nbformat": 4,
 "nbformat_minor": 2
}
