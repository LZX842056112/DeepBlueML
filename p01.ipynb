{
 "cells": [
  {
   "cell_type": "code",
   "id": "initial_id",
   "metadata": {
    "collapsed": true,
    "ExecuteTime": {
     "end_time": "2025-10-22T15:50:27.332035Z",
     "start_time": "2025-10-22T15:50:27.024900Z"
    }
   },
   "source": [
    "import numpy as np\n",
    "import matplotlib.pyplot as plt\n",
    "import matplotlib as mpl"
   ],
   "outputs": [],
   "execution_count": 1
  },
  {
   "metadata": {
    "ExecuteTime": {
     "end_time": "2025-10-22T15:50:27.347206Z",
     "start_time": "2025-10-22T15:50:27.333335Z"
    }
   },
   "cell_type": "code",
   "source": [
    "## 设置字符集，防止中文乱码\n",
    "mpl.rcParams['font.sans-serif'] = [u'simHei']\n",
    "mpl.rcParams['axes.unicode_minus'] = False"
   ],
   "id": "bdb2e508edb6633",
   "outputs": [],
   "execution_count": 2
  },
  {
   "metadata": {
    "ExecuteTime": {
     "end_time": "2025-10-22T15:50:27.362511Z",
     "start_time": "2025-10-22T15:50:27.348410Z"
    }
   },
   "cell_type": "code",
   "source": [
    "X1 = np.array([10, 15, 20, 30, 50, 60, 60, 70]).reshape(-1, 1)\n",
    "Y = np.array([0.8, 1.0, 1.8, 2.0, 3.2, 3.0, 3.1, 3.5]).reshape((-1, 1))"
   ],
   "id": "fec2e10fbe0f0c0e",
   "outputs": [],
   "execution_count": 3
  },
  {
   "metadata": {
    "ExecuteTime": {
     "end_time": "2025-10-22T15:50:27.377497Z",
     "start_time": "2025-10-22T15:50:27.363516Z"
    }
   },
   "cell_type": "code",
   "source": [
    "X = np.column_stack((np.ones_like(X1), X1))\n",
    "\n",
    "print(X)\n",
    "print(Y)"
   ],
   "id": "f436f438c299364c",
   "outputs": [
    {
     "name": "stdout",
     "output_type": "stream",
     "text": [
      "[[ 1 10]\n",
      " [ 1 15]\n",
      " [ 1 20]\n",
      " [ 1 30]\n",
      " [ 1 50]\n",
      " [ 1 60]\n",
      " [ 1 60]\n",
      " [ 1 70]]\n",
      "[[0.8]\n",
      " [1. ]\n",
      " [1.8]\n",
      " [2. ]\n",
      " [3.2]\n",
      " [3. ]\n",
      " [3.1]\n",
      " [3.5]]\n"
     ]
    }
   ],
   "execution_count": 4
  },
  {
   "metadata": {
    "ExecuteTime": {
     "end_time": "2025-10-22T15:50:27.393157Z",
     "start_time": "2025-10-22T15:50:27.378088Z"
    }
   },
   "cell_type": "code",
   "source": [
    "X = np.mat(X)\n",
    "Y = np.mat(Y)"
   ],
   "id": "e0e49777f41c3b86",
   "outputs": [],
   "execution_count": 5
  },
  {
   "metadata": {
    "ExecuteTime": {
     "end_time": "2025-10-22T15:50:27.424615Z",
     "start_time": "2025-10-22T15:50:27.394447Z"
    }
   },
   "cell_type": "code",
   "source": [
    "theta = (X.T * X).I * X.T * Y\n",
    "print(theta)"
   ],
   "id": "695a4e938befe061",
   "outputs": [
    {
     "name": "stdout",
     "output_type": "stream",
     "text": [
      "[[0.5949305 ]\n",
      " [0.04330335]]\n"
     ]
    }
   ],
   "execution_count": 6
  },
  {
   "metadata": {
    "ExecuteTime": {
     "end_time": "2025-10-22T15:50:27.439839Z",
     "start_time": "2025-10-22T15:50:27.426087Z"
    }
   },
   "cell_type": "code",
   "source": [
    "predict_y = X * theta\n",
    "print(predict_y)"
   ],
   "id": "9a71ad12aa56fae8",
   "outputs": [
    {
     "name": "stdout",
     "output_type": "stream",
     "text": [
      "[[1.02796402]\n",
      " [1.24448078]\n",
      " [1.46099755]\n",
      " [1.89403107]\n",
      " [2.76009812]\n",
      " [3.19313164]\n",
      " [3.19313164]\n",
      " [3.62616517]]\n"
     ]
    }
   ],
   "execution_count": 7
  },
  {
   "metadata": {
    "ExecuteTime": {
     "end_time": "2025-10-22T15:50:27.455281Z",
     "start_time": "2025-10-22T15:50:27.440838Z"
    }
   },
   "cell_type": "code",
   "source": [
    "x_test = [[1, 55]]\n",
    "y_test_hat = x_test * theta\n",
    "print(y_test_hat)"
   ],
   "id": "92d715e21f32376d",
   "outputs": [
    {
     "name": "stdout",
     "output_type": "stream",
     "text": [
      "[[2.97661488]]\n"
     ]
    }
   ],
   "execution_count": 8
  },
  {
   "metadata": {
    "ExecuteTime": {
     "end_time": "2025-10-22T15:50:27.578077Z",
     "start_time": "2025-10-22T15:50:27.456343Z"
    }
   },
   "cell_type": "code",
   "source": [
    "plt.plot(X1, Y, 'bo', label=u'真实值')\n",
    "plt.plot(X1, predict_y, 'r--o', label=u'预测值')\n",
    "plt.legend(loc='lower right')\n",
    "plt.show()"
   ],
   "id": "5fe2c517a88d8351",
   "outputs": [
    {
     "data": {
      "text/plain": [
       "<Figure size 640x480 with 1 Axes>"
      ],
      "image/png": "[encoded data removed]"
     },
     "metadata": {},
     "output_type": "display_data"
    }
   ],
   "execution_count": 9
  },
  {
   "metadata": {
    "ExecuteTime": {
     "end_time": "2025-10-22T15:50:27.593445Z",
     "start_time": "2025-10-22T15:50:27.580736Z"
    }
   },
   "cell_type": "code",
   "source": [
    "x = np.mat(np.array([[1.0, 55.0]]))\n",
    "pred_y = x * theta\n",
    "print(pred_y)"
   ],
   "id": "a5a9a0dfaf71622b",
   "outputs": [
    {
     "name": "stdout",
     "output_type": "stream",
     "text": [
      "[[2.97661488]]\n"
     ]
    }
   ],
   "execution_count": 10
  },
  {
   "metadata": {
    "ExecuteTime": {
     "end_time": "2025-10-22T15:50:27.608813Z",
     "start_time": "2025-10-22T15:50:27.594879Z"
    }
   },
   "cell_type": "code",
   "source": [
    "X1 = np.array([\n",
    "    [10, 1],\n",
    "    [15, 1],\n",
    "    [20, 1],\n",
    "    [30, 1],\n",
    "    [50, 2],\n",
    "    [60, 1],\n",
    "    [60, 2],\n",
    "    [70, 2]]).reshape((-1, 2))\n",
    "Y = np.array([0.8, 1.0, 1.8, 2.0, 3.2, 3.0, 3.1, 3.5]).reshape((-1, 1))\n",
    "print(X1)"
   ],
   "id": "8676c8be2f80b3ae",
   "outputs": [
    {
     "name": "stdout",
     "output_type": "stream",
     "text": [
      "[[10  1]\n",
      " [15  1]\n",
      " [20  1]\n",
      " [30  1]\n",
      " [50  2]\n",
      " [60  1]\n",
      " [60  2]\n",
      " [70  2]]\n"
     ]
    }
   ],
   "execution_count": 11
  },
  {
   "metadata": {
    "ExecuteTime": {
     "end_time": "2025-10-22T15:50:27.624203Z",
     "start_time": "2025-10-22T15:50:27.609837Z"
    }
   },
   "cell_type": "code",
   "source": [
    "flag = True\n",
    "if flag:\n",
    "    X = np.column_stack((X1, np.ones(shape=(X1.shape[0], 1))))\n",
    "else:\n",
    "    X = X1\n",
    "print(X)"
   ],
   "id": "3ade4fc564507905",
   "outputs": [
    {
     "name": "stdout",
     "output_type": "stream",
     "text": [
      "[[10.  1.  1.]\n",
      " [15.  1.  1.]\n",
      " [20.  1.  1.]\n",
      " [30.  1.  1.]\n",
      " [50.  2.  1.]\n",
      " [60.  1.  1.]\n",
      " [60.  2.  1.]\n",
      " [70.  2.  1.]]\n"
     ]
    }
   ],
   "execution_count": 12
  },
  {
   "metadata": {
    "ExecuteTime": {
     "end_time": "2025-10-22T15:50:27.639639Z",
     "start_time": "2025-10-22T15:50:27.625280Z"
    }
   },
   "cell_type": "code",
   "source": [
    "X = np.mat(X)\n",
    "Y = np.mat(Y)"
   ],
   "id": "4d30a56ca8bc28e1",
   "outputs": [],
   "execution_count": 13
  },
  {
   "metadata": {
    "ExecuteTime": {
     "end_time": "2025-10-22T15:50:27.655258Z",
     "start_time": "2025-10-22T15:50:27.640815Z"
    }
   },
   "cell_type": "code",
   "source": [
    "theta = (X.T * X).I * X.T * Y\n",
    "print(theta)"
   ],
   "id": "6bb874a0803d3f79",
   "outputs": [
    {
     "name": "stdout",
     "output_type": "stream",
     "text": [
      "[[0.03921348]\n",
      " [0.25262172]\n",
      " [0.40861423]]\n"
     ]
    }
   ],
   "execution_count": 14
  },
  {
   "metadata": {
    "ExecuteTime": {
     "end_time": "2025-10-22T15:50:27.670126Z",
     "start_time": "2025-10-22T15:50:27.656431Z"
    }
   },
   "cell_type": "code",
   "source": [
    "predict_y = X * theta\n",
    "print(predict_y)"
   ],
   "id": "73a6e7cb8f7670dd",
   "outputs": [
    {
     "name": "stdout",
     "output_type": "stream",
     "text": [
      "[[1.05337079]\n",
      " [1.2494382 ]\n",
      " [1.44550562]\n",
      " [1.83764045]\n",
      " [2.87453184]\n",
      " [3.01404494]\n",
      " [3.26666667]\n",
      " [3.6588015 ]]\n"
     ]
    }
   ],
   "execution_count": 15
  },
  {
   "metadata": {
    "ExecuteTime": {
     "end_time": "2025-10-22T15:50:27.685797Z",
     "start_time": "2025-10-22T15:50:27.671683Z"
    }
   },
   "cell_type": "code",
   "source": [
    "if flag:\n",
    "    x = np.mat(np.array([[55.0, 2.0, 1.0]]))\n",
    "else:\n",
    "    x = np.mat(np.array([[55.0, 2.0]]))\n",
    "\n",
    "pred_y = x * theta\n",
    "print(pred_y)"
   ],
   "id": "75cf0f7e0d3cf74d",
   "outputs": [
    {
     "name": "stdout",
     "output_type": "stream",
     "text": [
      "[[3.07059925]]\n"
     ]
    }
   ],
   "execution_count": 16
  },
  {
   "metadata": {
    "ExecuteTime": {
     "end_time": "2025-10-22T15:50:27.839427Z",
     "start_time": "2025-10-22T15:50:27.686915Z"
    }
   },
   "cell_type": "code",
   "source": [
    "# 四、画图可视化(TODO: 自己更改为立体的图像)\n",
    "from mpl_toolkits.mplot3d import Axes3D\n",
    "%matplotlib tk\n",
    "\n",
    "x1 = X[:, 0]\n",
    "# print(x1)\n",
    "x2 = X[:, 1]\n",
    "# print(x2)\n",
    "fig = plt.figure(facecolor='w')\n",
    "ax = Axes3D(fig)\n",
    "ax.scatter(x1, x2, Y, s=40, c='r', depthshade=False)  ###画点图\n",
    "\n",
    "x1 = np.arange(0, 100)\n",
    "x2 = np.arange(0, 4)\n",
    "x1, x2 = np.meshgrid(x1, x2)\n",
    "\n",
    "\n",
    "# print(x1)\n",
    "def predict(x1, x2, theta, base=False):\n",
    "    if base:\n",
    "        y_ = x1 * theta[0] + x2 * theta[1] + theta[2]\n",
    "    else:\n",
    "        y_ = x1 * theta[0] + x2 * theta[1]\n",
    "    return y_\n",
    "\n",
    "\n",
    "z = np.array(list(map(lambda t: predict(t[0], t[1], theta, base=flag), zip(x1.flatten(), x2.flatten()))))\n",
    "z.shape = x1.shape\n",
    "print(z.shape)\n",
    "ax.plot_surface(x1, x2, z, rstride=1, cstride=1, cmap=plt.cm.jet)  ##画超平面   cmap=plt.cm.jet彩图\n",
    "ax.set_title(u'房屋租赁价格预测')\n",
    "plt.show()"
   ],
   "id": "133f30f3793dd611",
   "outputs": [
    {
     "name": "stdout",
     "output_type": "stream",
     "text": [
      "(4, 100)\n"
     ]
    }
   ],
   "execution_count": 17
  },
  {
   "metadata": {
    "ExecuteTime": {
     "end_time": "2025-10-22T15:50:28.602689Z",
     "start_time": "2025-10-22T15:50:27.840834Z"
    }
   },
   "cell_type": "code",
   "source": [
    "import pandas as pd\n",
    "from sklearn.model_selection import train_test_split\n",
    "from sklearn.linear_model import LinearRegression"
   ],
   "id": "615a3105b308ac4e",
   "outputs": [],
   "execution_count": 18
  },
  {
   "metadata": {
    "ExecuteTime": {
     "end_time": "2025-10-22T15:50:28.618Z",
     "start_time": "2025-10-22T15:50:28.603919Z"
    }
   },
   "cell_type": "code",
   "source": [
    "data = pd.read_csv('datas/boston_housing.data', sep='\\s+', header=None)\n",
    "\n",
    "X = data.iloc[:, :-1]\n",
    "Y = data.iloc[:, -1]"
   ],
   "id": "cdf35f82e5eb2eb4",
   "outputs": [],
   "execution_count": 19
  },
  {
   "metadata": {
    "ExecuteTime": {
     "end_time": "2025-10-22T15:50:28.633309Z",
     "start_time": "2025-10-22T15:50:28.619341Z"
    }
   },
   "cell_type": "code",
   "source": "xTarin, xTest, yTarin, yTest = train_test_split(X, Y, test_size=0.3, random_state=10)",
   "id": "21bc8ad37b8df49a",
   "outputs": [],
   "execution_count": 20
  },
  {
   "metadata": {
    "ExecuteTime": {
     "end_time": "2025-10-22T15:50:28.649105Z",
     "start_time": "2025-10-22T15:50:28.634678Z"
    }
   },
   "cell_type": "code",
   "source": "linear = LinearRegression(fit_intercept=True)",
   "id": "b7bdf8d2fed057c6",
   "outputs": [],
   "execution_count": 21
  },
  {
   "metadata": {
    "ExecuteTime": {
     "end_time": "2025-10-22T15:50:28.665210Z",
     "start_time": "2025-10-22T15:50:28.650431Z"
    }
   },
   "cell_type": "code",
   "source": [
    "linear.fit(xTarin, yTarin)\n",
    "print(linear.intercept_)\n",
    "print(linear.coef_)"
   ],
   "id": "5e88dae0b6686588",
   "outputs": [
    {
     "name": "stdout",
     "output_type": "stream",
     "text": [
      "34.24483703390682\n",
      "[-1.53776087e-01  6.50159270e-02 -2.42597326e-02  1.62203309e+00\n",
      " -1.52999306e+01  3.35196668e+00  1.13259963e-02 -1.54810871e+00\n",
      "  3.02641886e-01 -1.22317535e-02 -8.11539044e-01  1.29504798e-02\n",
      " -5.44861583e-01]\n"
     ]
    }
   ],
   "execution_count": 22
  },
  {
   "metadata": {
    "ExecuteTime": {
     "end_time": "2025-10-22T15:50:28.681246Z",
     "start_time": "2025-10-22T15:50:28.665781Z"
    }
   },
   "cell_type": "code",
   "source": [
    "yPredict = linear.predict(xTest)\n",
    "y_train_hat = linear.predict(xTarin)\n",
    "\n",
    "print(linear.score(xTarin, yTarin))\n",
    "print(linear.score(xTest, yTest))"
   ],
   "id": "b9e585e4b91bd83d",
   "outputs": [
    {
     "name": "stdout",
     "output_type": "stream",
     "text": [
      "0.7495400632086622\n",
      "0.6996255772983111\n"
     ]
    }
   ],
   "execution_count": 23
  },
  {
   "metadata": {
    "ExecuteTime": {
     "end_time": "2025-10-22T15:50:33.656968Z",
     "start_time": "2025-10-22T15:50:28.681246Z"
    }
   },
   "cell_type": "code",
   "source": [
    "plt.plot(range(len(xTarin)), yTarin, 'r', label=u'true')\n",
    "plt.plot(range(len(xTarin)), y_train_hat, 'g', label=u'predict')\n",
    "plt.legend(loc='upper right')\n",
    "plt.show(block=True)"
   ],
   "id": "e47f89fd6ee17188",
   "outputs": [],
   "execution_count": 24
  },
  {
   "metadata": {
    "ExecuteTime": {
     "end_time": "2025-10-22T15:50:34.762603Z",
     "start_time": "2025-10-22T15:50:33.657968Z"
    }
   },
   "cell_type": "code",
   "source": [
    "plt.plot(range(len(xTest)), yTest, 'r', label=u'true')\n",
    "plt.plot(range(len(xTest)), yPredict, 'g', label=u'predict')\n",
    "plt.legend(loc='upper right')\n",
    "plt.show(block=True)"
   ],
   "id": "b47697053cf67c31",
   "outputs": [],
   "execution_count": 25
  }
 ],
 "metadata": {
  "kernelspec": {
   "display_name": "Python 3",
   "language": "python",
   "name": "python3"
  },
  "language_info": {
   "codemirror_mode": {
    "name": "ipython",
    "version": 2
   },
   "file_extension": ".py",
   "mimetype": "text/x-python",
   "name": "python",
   "nbconvert_exporter": "python",
   "pygments_lexer": "ipython2",
   "version": "2.7.6"
  }
 },
 "nbformat": 4,
 "nbformat_minor": 5
}
