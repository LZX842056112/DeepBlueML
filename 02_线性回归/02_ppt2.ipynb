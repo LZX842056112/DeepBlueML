{
 "cells": [
  {
   "cell_type": "code",
   "id": "e87fe4f8",
   "metadata": {
    "ExecuteTime": {
     "end_time": "2025-10-22T14:29:58.021044Z",
     "start_time": "2025-10-22T14:29:58.012914Z"
    }
   },
   "source": [
    "import numpy as np\n",
    "import matplotlib.pyplot as plt\n",
    "import matplotlib as mpl"
   ],
   "outputs": [],
   "execution_count": 4
  },
  {
   "cell_type": "code",
   "id": "5e352ed6",
   "metadata": {
    "ExecuteTime": {
     "end_time": "2025-10-22T14:29:58.532790Z",
     "start_time": "2025-10-22T14:29:58.528718Z"
    }
   },
   "source": [
    "## 设置字符集，防止中文乱码\n",
    "mpl.rcParams['font.sans-serif'] = [u'simHei']\n",
    "mpl.rcParams['axes.unicode_minus'] = False"
   ],
   "outputs": [],
   "execution_count": 5
  },
  {
   "metadata": {
    "ExecuteTime": {
     "end_time": "2025-10-22T14:29:59.013123Z",
     "start_time": "2025-10-22T14:29:58.981246Z"
    }
   },
   "cell_type": "code",
   "source": [
    "# 画图弹窗\n",
    "%matplotlib tk\n",
    "# 画图inline\n",
    "# %matplotlib inline"
   ],
   "id": "b329c6b5",
   "outputs": [],
   "execution_count": 6
  },
  {
   "metadata": {
    "ExecuteTime": {
     "end_time": "2025-10-22T14:29:59.743256Z",
     "start_time": "2025-10-22T14:29:59.727876Z"
    }
   },
   "cell_type": "code",
   "source": [
    "# 一、构造数据\n",
    "X1 = np.array([\n",
    "    [10, 1],\n",
    "    [15, 1],\n",
    "    [20, 1],\n",
    "    [30, 1],\n",
    "    [50, 2],\n",
    "    [60, 1],\n",
    "    [60, 2],\n",
    "    [70, 2]]).reshape((-1, 2))\n",
    "Y = np.array([0.8, 1.0, 1.8, 2.0, 3.2, 3.0, 3.1, 3.5]).reshape((-1, 1))\n",
    "print(X1)\n",
    "print(Y)"
   ],
   "id": "a92ac81d",
   "outputs": [
    {
     "name": "stdout",
     "output_type": "stream",
     "text": [
      "[[10  1]\n",
      " [15  1]\n",
      " [20  1]\n",
      " [30  1]\n",
      " [50  2]\n",
      " [60  1]\n",
      " [60  2]\n",
      " [70  2]]\n",
      "[[0.8]\n",
      " [1. ]\n",
      " [1.8]\n",
      " [2. ]\n",
      " [3.2]\n",
      " [3. ]\n",
      " [3.1]\n",
      " [3.5]]\n"
     ]
    }
   ],
   "execution_count": 7
  },
  {
   "cell_type": "code",
   "id": "a1f47d5c",
   "metadata": {
    "ExecuteTime": {
     "end_time": "2025-10-22T14:20:00.359984Z",
     "start_time": "2025-10-22T14:20:00.344121Z"
    }
   },
   "source": [
    "flag = True\n",
    "if flag:\n",
    "    # 添加一个截距项对应的X值\n",
    "    X = np.column_stack((X1, np.ones(shape=(X1.shape[0], 1))))\n",
    "    # X = np.hstack((X1,np.ones(shape=(X1.shape[0], 1))))\n",
    "else:\n",
    "    # 不加入截距项\n",
    "    X = X1\n",
    "print(X)\n",
    "# print(Y)"
   ],
   "outputs": [
    {
     "name": "stdout",
     "output_type": "stream",
     "text": [
      "[[10.  1.  1.]\n",
      " [15.  1.  1.]\n",
      " [20.  1.  1.]\n",
      " [30.  1.  1.]\n",
      " [50.  2.  1.]\n",
      " [60.  1.  1.]\n",
      " [60.  2.  1.]\n",
      " [70.  2.  1.]]\n"
     ]
    }
   ],
   "execution_count": 15
  },
  {
   "cell_type": "code",
   "id": "67d13f1f",
   "metadata": {
    "ExecuteTime": {
     "end_time": "2025-10-22T14:20:00.391529Z",
     "start_time": "2025-10-22T14:20:00.376145Z"
    }
   },
   "source": [
    "# 二、为了求解比较方便，将numpy的'numpy.ndarray'的数据类型转换为矩阵的形式的。\n",
    "X = np.mat(X)\n",
    "Y = np.mat(Y)"
   ],
   "outputs": [],
   "execution_count": 16
  },
  {
   "cell_type": "code",
   "id": "1ede84cc",
   "metadata": {
    "ExecuteTime": {
     "end_time": "2025-10-22T14:20:00.422287Z",
     "start_time": "2025-10-22T14:20:00.407394Z"
    }
   },
   "source": [
    "# 三、根据解析式的公式求解theta的值\n",
    "theta = (X.T * X).I * X.T * Y\n",
    "print(theta)"
   ],
   "outputs": [
    {
     "name": "stdout",
     "output_type": "stream",
     "text": [
      "[[0.03921348]\n",
      " [0.25262172]\n",
      " [0.40861423]]\n"
     ]
    }
   ],
   "execution_count": 17
  },
  {
   "cell_type": "code",
   "id": "03575b1d",
   "metadata": {
    "ExecuteTime": {
     "end_time": "2025-10-22T14:20:00.453582Z",
     "start_time": "2025-10-22T14:20:00.438061Z"
    }
   },
   "source": [
    "# 四、 根据求解出来的theta求出预测值\n",
    "predict_y = X * theta\n",
    "print(predict_y)"
   ],
   "outputs": [
    {
     "name": "stdout",
     "output_type": "stream",
     "text": [
      "[[1.05337079]\n",
      " [1.2494382 ]\n",
      " [1.44550562]\n",
      " [1.83764045]\n",
      " [2.87453184]\n",
      " [3.01404494]\n",
      " [3.26666667]\n",
      " [3.6588015 ]]\n"
     ]
    }
   ],
   "execution_count": 18
  },
  {
   "cell_type": "code",
   "id": "c260c8c2",
   "metadata": {
    "ExecuteTime": {
     "end_time": "2025-10-22T14:20:00.483964Z",
     "start_time": "2025-10-22T14:20:00.469297Z"
    }
   },
   "source": [
    "# 基于训练好的模型参数对一个未知的样本做一个预测\n",
    "if flag:\n",
    "    x = np.mat(np.array([[55.0, 2.0, 1.0]]))\n",
    "else:\n",
    "    x = np.mat(np.array([[55.0, 2.0]]))\n",
    "pred_y = x * theta\n",
    "print(\"当面积为55平并且房间数目为2的时候，预测价格为:{}\".format(pred_y))"
   ],
   "outputs": [
    {
     "name": "stdout",
     "output_type": "stream",
     "text": [
      "当面积为55平并且房间数目为2的时候，预测价格为:[[3.07059925]]\n"
     ]
    }
   ],
   "execution_count": 19
  },
  {
   "cell_type": "code",
   "id": "552a60d6",
   "metadata": {
    "ExecuteTime": {
     "end_time": "2025-10-22T14:20:00.609260Z",
     "start_time": "2025-10-22T14:20:00.499421Z"
    }
   },
   "source": [
    "# 四、画图可视化(TODO: 自己更改为立体的图像)\n",
    "from mpl_toolkits.mplot3d import Axes3D\n",
    "\n",
    "x1 = X[:, 0]\n",
    "# print(x1)\n",
    "x2 = X[:, 1]\n",
    "# print(x2)\n",
    "fig = plt.figure(facecolor='w')\n",
    "ax = Axes3D(fig)\n",
    "ax.scatter(x1, x2, Y, s=40, c='r', depthshade=False)  ###画点图\n",
    "\n",
    "x1 = np.arange(0, 100)\n",
    "x2 = np.arange(0, 4)\n",
    "x1, x2 = np.meshgrid(x1, x2)\n",
    "\n",
    "\n",
    "# print(x1)\n",
    "def predict(x1, x2, theta, base=False):\n",
    "    if base:\n",
    "        y_ = x1 * theta[0] + x2 * theta[1] + theta[2]\n",
    "    else:\n",
    "        y_ = x1 * theta[0] + x2 * theta[1]\n",
    "    return y_\n",
    "\n",
    "\n",
    "z = np.array(list(map(lambda t: predict(t[0], t[1], theta, base=flag), zip(x1.flatten(), x2.flatten()))))\n",
    "z.shape = x1.shape\n",
    "print(z.shape)\n",
    "ax.plot_surface(x1, x2, z, rstride=1, cstride=1, cmap=plt.cm.jet)  ##画超平面   cmap=plt.cm.jet彩图\n",
    "ax.set_title(u'房屋租赁价格预测')\n",
    "plt.show()"
   ],
   "outputs": [
    {
     "name": "stdout",
     "output_type": "stream",
     "text": [
      "(4, 100)\n"
     ]
    }
   ],
   "execution_count": 20
  }
 ],
 "metadata": {
  "kernelspec": {
   "display_name": "Python 3",
   "language": "python",
   "name": "python3"
  },
  "language_info": {
   "codemirror_mode": {
    "name": "ipython",
    "version": 3
   },
   "file_extension": ".py",
   "mimetype": "text/x-python",
   "name": "python",
   "nbconvert_exporter": "python",
   "pygments_lexer": "ipython3",
   "version": "3.7.13"
  }
 },
 "nbformat": 4,
 "nbformat_minor": 5
}
