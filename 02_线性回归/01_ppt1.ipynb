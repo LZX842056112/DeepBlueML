{
 "cells": [
  {
   "cell_type": "code",
   "id": "initial_id",
   "metadata": {
    "ExecuteTime": {
     "end_time": "2025-10-22T10:00:07.423203Z",
     "start_time": "2025-10-22T10:00:07.411030Z"
    }
   },
   "source": [
    "import numpy as np\n",
    "import matplotlib.pyplot as plt\n",
    "import matplotlib as mpl"
   ],
   "outputs": [],
   "execution_count": 2
  },
  {
   "cell_type": "code",
   "id": "5834fd334833e02",
   "metadata": {
    "ExecuteTime": {
     "end_time": "2025-10-22T10:00:07.438260Z",
     "start_time": "2025-10-22T10:00:07.425202Z"
    }
   },
   "source": [
    "## 设置字符集，防止中文乱码\n",
    "mpl.rcParams['font.sans-serif'] = [u'simHei']\n",
    "mpl.rcParams['axes.unicode_minus'] = False"
   ],
   "outputs": [],
   "execution_count": 3
  },
  {
   "cell_type": "code",
   "id": "5cc445a7632c5118",
   "metadata": {
    "ExecuteTime": {
     "end_time": "2025-10-22T10:00:07.453661Z",
     "start_time": "2025-10-22T10:00:07.439533Z"
    }
   },
   "source": [
    "# 一、构造数据\n",
    "X1 = np.array([10, 15, 20, 30, 50, 60, 60, 70]).reshape((-1, 1))\n",
    "Y = np.array([0.8, 1.0, 1.8, 2.0, 3.2, 3.0, 3.1, 3.5]).reshape((-1,1))"
   ],
   "outputs": [],
   "execution_count": 4
  },
  {
   "cell_type": "code",
   "id": "11a0f2a8acec2c49",
   "metadata": {
    "ExecuteTime": {
     "end_time": "2025-10-22T10:00:07.469544Z",
     "start_time": "2025-10-22T10:00:07.455174Z"
    }
   },
   "source": [
    "# 添加一个截距项对应的X值 np.column_stack()\n",
    "# X = np.hstack((np.ones_like(X1), X1))\n",
    "X = np.column_stack((np.ones_like(X1), X1))\n",
    "# 不加入截距项\n",
    "# X = X1\n",
    "print(X)\n",
    "print(Y)"
   ],
   "outputs": [
    {
     "name": "stdout",
     "output_type": "stream",
     "text": [
      "[[ 1 10]\n",
      " [ 1 15]\n",
      " [ 1 20]\n",
      " [ 1 30]\n",
      " [ 1 50]\n",
      " [ 1 60]\n",
      " [ 1 60]\n",
      " [ 1 70]]\n",
      "[[0.8]\n",
      " [1. ]\n",
      " [1.8]\n",
      " [2. ]\n",
      " [3.2]\n",
      " [3. ]\n",
      " [3.1]\n",
      " [3.5]]\n"
     ]
    }
   ],
   "execution_count": 5
  },
  {
   "cell_type": "code",
   "id": "d76fa9a4e9abed4c",
   "metadata": {
    "ExecuteTime": {
     "end_time": "2025-10-22T10:00:07.484504Z",
     "start_time": "2025-10-22T10:00:07.470724Z"
    }
   },
   "source": [
    "# 二、为了求解比较方便，将numpy的'numpy.ndarray'的数据类型转换为矩阵的形式的。\n",
    "# matrix中求逆有一种简便方法，就是a.I, ndarray不行\n",
    "X = np.mat(X)\n",
    "Y = np.mat(Y)"
   ],
   "outputs": [],
   "execution_count": 6
  },
  {
   "cell_type": "code",
   "id": "870d52b619a2c7d8",
   "metadata": {
    "ExecuteTime": {
     "end_time": "2025-10-22T10:00:07.576629Z",
     "start_time": "2025-10-22T10:00:07.485494Z"
    }
   },
   "source": [
    "# 三、根据解析式的公式求解theta的值\n",
    "theta = (X.T * X).I * X.T * Y\n",
    "print(theta)"
   ],
   "outputs": [
    {
     "name": "stdout",
     "output_type": "stream",
     "text": [
      "[[0.5949305 ]\n",
      " [0.04330335]]\n"
     ]
    }
   ],
   "execution_count": 7
  },
  {
   "cell_type": "code",
   "id": "dffd775b06c31274",
   "metadata": {
    "ExecuteTime": {
     "end_time": "2025-10-22T10:00:07.592003Z",
     "start_time": "2025-10-22T10:00:07.578087Z"
    }
   },
   "source": [
    "# 四、 根据求解出来的theta求出预测值\n",
    "predict_y = X * theta\n",
    "x_test = [[1, 55]]\n",
    "y_test_hat = x_test * theta\n",
    "print(\"价格：\", y_test_hat)\n",
    "print(predict_y)"
   ],
   "outputs": [
    {
     "name": "stdout",
     "output_type": "stream",
     "text": [
      "价格： [[2.97661488]]\n",
      "[[1.02796402]\n",
      " [1.24448078]\n",
      " [1.46099755]\n",
      " [1.89403107]\n",
      " [2.76009812]\n",
      " [3.19313164]\n",
      " [3.19313164]\n",
      " [3.62616517]]\n"
     ]
    }
   ],
   "execution_count": 8
  },
  {
   "cell_type": "code",
   "id": "ff6943c6d45b0ec6",
   "metadata": {
    "ExecuteTime": {
     "end_time": "2025-10-22T10:00:07.716591Z",
     "start_time": "2025-10-22T10:00:07.592003Z"
    }
   },
   "source": [
    "# 五、画图可视化\n",
    "plt.plot(X1, Y, 'bo', label=u'真实值')\n",
    "plt.plot(X1, predict_y, 'r--o', label=u'预测值')\n",
    "plt.legend(loc='lower right')\n",
    "plt.show()"
   ],
   "outputs": [
    {
     "data": {
      "text/plain": [
       "<Figure size 640x480 with 1 Axes>"
      ],
      "image/png": "[encoded data removed]"
     },
     "metadata": {},
     "output_type": "display_data"
    }
   ],
   "execution_count": 9
  },
  {
   "cell_type": "code",
   "id": "9f27b590bfef1de3",
   "metadata": {
    "ExecuteTime": {
     "end_time": "2025-10-22T10:00:07.732552Z",
     "start_time": "2025-10-22T10:00:07.717726Z"
    }
   },
   "source": [
    "# 基于训练好的模型参数对一个未知的样本做一个预测\n",
    "x = np.mat(np.array([[1.0, 55.0]]))\n",
    "pred_y = x * theta\n",
    "print(\"当面积为55平的时候，预测价格为:{}\".format(pred_y))"
   ],
   "outputs": [
    {
     "name": "stdout",
     "output_type": "stream",
     "text": [
      "当面积为55平的时候，预测价格为:[[2.97661488]]\n"
     ]
    }
   ],
   "execution_count": 10
  },
  {
   "cell_type": "markdown",
   "id": "d904c0bac14a9e2b",
   "metadata": {},
   "source": [
    "# TODO: 两个特征的时候的预测 【房屋面积55，房间数量2】时的预测结果 注意画图画3D图"
   ]
  },
  {
   "cell_type": "code",
   "id": "4653eded1ea089b6",
   "metadata": {
    "ExecuteTime": {
     "end_time": "2025-10-22T10:00:07.748064Z",
     "start_time": "2025-10-22T10:00:07.733819Z"
    }
   },
   "source": [],
   "outputs": [],
   "execution_count": 10
  }
 ],
 "metadata": {
  "kernelspec": {
   "display_name": "Python 3",
   "language": "python",
   "name": "python3"
  },
  "language_info": {
   "codemirror_mode": {
    "name": "ipython",
    "version": 3
   },
   "file_extension": ".py",
   "mimetype": "text/x-python",
   "name": "python",
   "nbconvert_exporter": "python",
   "pygments_lexer": "ipython3",
   "version": "3.7.13"
  }
 },
 "nbformat": 4,
 "nbformat_minor": 5
}
