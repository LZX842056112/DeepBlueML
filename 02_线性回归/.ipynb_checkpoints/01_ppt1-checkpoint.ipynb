{
 "cells": [
  {
   "cell_type": "code",
   "execution_count": 1,
   "id": "initial_id",
   "metadata": {
    "ExecuteTime": {
     "end_time": "2024-09-29T09:51:04.319152200Z",
     "start_time": "2024-09-29T09:51:03.642506700Z"
    }
   },
   "outputs": [],
   "source": [
    "import numpy as np\n",
    "import matplotlib.pyplot as plt\n",
    "import matplotlib as mpl"
   ]
  },
  {
   "cell_type": "code",
   "execution_count": 2,
   "id": "5834fd334833e02",
   "metadata": {
    "ExecuteTime": {
     "end_time": "2024-09-29T09:53:09.077127Z",
     "start_time": "2024-09-29T09:53:09.051087600Z"
    }
   },
   "outputs": [],
   "source": [
    "## 设置字符集，防止中文乱码\n",
    "mpl.rcParams['font.sans-serif'] = [u'simHei']\n",
    "mpl.rcParams['axes.unicode_minus'] = False"
   ]
  },
  {
   "cell_type": "code",
   "execution_count": 3,
   "id": "5cc445a7632c5118",
   "metadata": {
    "ExecuteTime": {
     "end_time": "2024-09-29T09:53:09.452722900Z",
     "start_time": "2024-09-29T09:53:09.440740700Z"
    }
   },
   "outputs": [],
   "source": [
    "# 一、构造数据\n",
    "X1 = np.array([10, 15, 20, 30, 50, 60, 60, 70]).reshape((-1, 1))\n",
    "Y = np.array([0.8, 1.0, 1.8, 2.0, 3.2, 3.0, 3.1, 3.5]).reshape((-1, 1))"
   ]
  },
  {
   "cell_type": "code",
   "execution_count": 4,
   "id": "11a0f2a8acec2c49",
   "metadata": {
    "ExecuteTime": {
     "end_time": "2024-09-29T09:53:09.788126600Z",
     "start_time": "2024-09-29T09:53:09.768144700Z"
    }
   },
   "outputs": [],
   "source": [
    "# 添加一个截距项对应的X值 np.column_stack()\n",
    "# X = np.hstack((np.ones_like(X1), X1))\n",
    "X = np.column_stack((np.ones_like(X1), X1))\n",
    "# 不加入截距项\n",
    "# X = X1\n",
    "# print(X)\n",
    "# print(Y)"
   ]
  },
  {
   "cell_type": "code",
   "execution_count": 5,
   "id": "d76fa9a4e9abed4c",
   "metadata": {
    "ExecuteTime": {
     "end_time": "2024-09-29T09:53:10.100736200Z",
     "start_time": "2024-09-29T09:53:10.080741400Z"
    }
   },
   "outputs": [],
   "source": [
    "# 二、为了求解比较方便，将numpy的'numpy.ndarray'的数据类型转换为矩阵的形式的。\n",
    "X = np.mat(X)\n",
    "Y = np.mat(Y)"
   ]
  },
  {
   "cell_type": "code",
   "execution_count": 6,
   "id": "870d52b619a2c7d8",
   "metadata": {
    "ExecuteTime": {
     "end_time": "2024-09-29T09:53:10.543703800Z",
     "start_time": "2024-09-29T09:53:10.535711500Z"
    }
   },
   "outputs": [
    {
     "name": "stdout",
     "output_type": "stream",
     "text": [
      "[[0.5949305 ]\n",
      " [0.04330335]]\n"
     ]
    }
   ],
   "source": [
    "# 三、根据解析式的公式求解theta的值\n",
    "theta = (X.T * X).I * X.T * Y\n",
    "print(theta)"
   ]
  },
  {
   "cell_type": "code",
   "execution_count": 7,
   "id": "dffd775b06c31274",
   "metadata": {
    "ExecuteTime": {
     "end_time": "2024-09-29T09:53:10.878383200Z",
     "start_time": "2024-09-29T09:53:10.872375500Z"
    }
   },
   "outputs": [
    {
     "name": "stdout",
     "output_type": "stream",
     "text": [
      "价格： [[2.97661488]]\n"
     ]
    }
   ],
   "source": [
    "# 四、 根据求解出来的theta求出预测值\n",
    "predict_y = X * theta\n",
    "x_test = [[1, 55]]\n",
    "y_test_hat = x_test * theta\n",
    "print(\"价格：\", y_test_hat)"
   ]
  },
  {
   "cell_type": "code",
   "execution_count": 8,
   "id": "ff6943c6d45b0ec6",
   "metadata": {
    "ExecuteTime": {
     "end_time": "2024-09-29T09:53:11.546254300Z",
     "start_time": "2024-09-29T09:53:11.408480200Z"
    }
   },
   "outputs": [
    {
     "data": {
      "image/png": "[encoded data removed]",
      "text/plain": [
       "<Figure size 640x480 with 1 Axes>"
      ]
     },
     "metadata": {},
     "output_type": "display_data"
    }
   ],
   "source": [
    "# print(predict_y)\n",
    "# 五、画图可视化\n",
    "plt.plot(X1, Y, 'bo', label=u'真实值')\n",
    "plt.plot(X1, predict_y, 'r--o', label=u'预测值')\n",
    "plt.legend(loc='lower right')\n",
    "plt.show()"
   ]
  },
  {
   "cell_type": "code",
   "execution_count": 9,
   "id": "9f27b590bfef1de3",
   "metadata": {
    "ExecuteTime": {
     "end_time": "2024-09-29T09:53:11.605270500Z",
     "start_time": "2024-09-29T09:53:11.551265900Z"
    }
   },
   "outputs": [
    {
     "name": "stdout",
     "output_type": "stream",
     "text": [
      "当面积为55平的时候，预测价格为:[[2.97661488]]\n"
     ]
    }
   ],
   "source": [
    "# 基于训练好的模型参数对一个未知的样本做一个预测\n",
    "x = np.mat(np.array([[1.0, 55.0]]))\n",
    "pred_y = x * theta\n",
    "print(\"当面积为55平的时候，预测价格为:{}\".format(pred_y))"
   ]
  },
  {
   "cell_type": "markdown",
   "id": "d904c0bac14a9e2b",
   "metadata": {},
   "source": [
    "# TODO: 两个特征的时候的预测 【房屋面积55，房间数量2】时的预测结果 注意画图画3D图"
   ]
  },
  {
   "cell_type": "code",
   "execution_count": null,
   "id": "4653eded1ea089b6",
   "metadata": {},
   "outputs": [],
   "source": []
  }
 ],
 "metadata": {
  "kernelspec": {
   "display_name": "py37",
   "language": "python",
   "name": "py37"
  },
  "language_info": {
   "codemirror_mode": {
    "name": "ipython",
    "version": 3
   },
   "file_extension": ".py",
   "mimetype": "text/x-python",
   "name": "python",
   "nbconvert_exporter": "python",
   "pygments_lexer": "ipython3",
   "version": "3.7.13"
  }
 },
 "nbformat": 4,
 "nbformat_minor": 5
}
