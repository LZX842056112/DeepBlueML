{
 "cells": [
  {
   "cell_type": "code",
   "id": "bebcbb6d",
   "metadata": {
    "ExecuteTime": {
     "end_time": "2025-10-28T03:48:22.796156Z",
     "start_time": "2025-10-28T03:48:22.306061Z"
    }
   },
   "source": [
    "from sklearn.preprocessing import PolynomialFeatures"
   ],
   "outputs": [],
   "execution_count": 1
  },
  {
   "cell_type": "code",
   "id": "258705e3",
   "metadata": {
    "ExecuteTime": {
     "end_time": "2025-10-28T03:48:22.811790Z",
     "start_time": "2025-10-28T03:48:22.797325Z"
    }
   },
   "source": [
    "poly = PolynomialFeatures(degree=2,\n",
    "                          include_bias=False,\n",
    "                          interaction_only=False)\n",
    "\"\"\"\n",
    "degree：扩展的阶数\n",
    "interaction_only： 是否只保留交互项\n",
    "include_bias：是否包含偏置项\n",
    "\"\"\"\n",
    "x = [[1, 2, 3],\n",
    "     [3, 4, 5]]\n",
    "# poly.fit(x)\n",
    "# x_poly = poly.transform(x)\n",
    "\n",
    "x_poly = poly.fit_transform(x)\n",
    "print(x_poly)"
   ],
   "outputs": [
    {
     "name": "stdout",
     "output_type": "stream",
     "text": [
      "[[ 1.  2.  3.  1.  2.  3.  4.  6.  9.]\n",
      " [ 3.  4.  5.  9. 12. 15. 16. 20. 25.]]\n"
     ]
    }
   ],
   "execution_count": 2
  }
 ],
 "metadata": {
  "kernelspec": {
   "display_name": "Python 3 (ipykernel)",
   "language": "python",
   "name": "python3"
  },
  "language_info": {
   "codemirror_mode": {
    "name": "ipython",
    "version": 3
   },
   "file_extension": ".py",
   "mimetype": "text/x-python",
   "name": "python",
   "nbconvert_exporter": "python",
   "pygments_lexer": "ipython3",
   "version": "3.7.13"
  }
 },
 "nbformat": 4,
 "nbformat_minor": 5
}
