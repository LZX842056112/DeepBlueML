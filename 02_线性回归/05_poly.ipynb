{
 "cells": [
  {
   "cell_type": "code",
   "execution_count": 1,
   "id": "bebcbb6d",
   "metadata": {},
   "outputs": [],
   "source": [
    "from sklearn.preprocessing import PolynomialFeatures"
   ]
  },
  {
   "cell_type": "code",
   "execution_count": 2,
   "id": "258705e3",
   "metadata": {},
   "outputs": [
    {
     "name": "stdout",
     "output_type": "stream",
     "text": [
      "[[ 1.  2.  3.  2.  3.  6.  6.]\n",
      " [ 2.  3.  4.  6.  8. 12. 24.]]\n"
     ]
    }
   ],
   "source": [
    "poly = PolynomialFeatures(degree=3,\n",
    "                          include_bias=False,\n",
    "                          interaction_only=True)\n",
    "\"\"\"\n",
    "degree：扩展的阶数\n",
    "interaction_only： 是否只保留交互项\n",
    "include_bias：是否包含偏置项\n",
    "\"\"\"\n",
    "x = [[1, 2, 3],\n",
    "     [2, 3, 4]]\n",
    "poly.fit(x)\n",
    "x_poly = poly.transform(x)\n",
    "\n",
    "# x_poly = poly.fit_transform(x)\n",
    "print(x_poly)"
   ]
  },
  {
   "cell_type": "code",
   "execution_count": null,
   "id": "e191cfc2",
   "metadata": {},
   "outputs": [],
   "source": []
  }
 ],
 "metadata": {
  "kernelspec": {
   "display_name": "py37",
   "language": "python",
   "name": "py37"
  },
  "language_info": {
   "codemirror_mode": {
    "name": "ipython",
    "version": 3
   },
   "file_extension": ".py",
   "mimetype": "text/x-python",
   "name": "python",
   "nbconvert_exporter": "python",
   "pygments_lexer": "ipython3",
   "version": "3.7.13"
  }
 },
 "nbformat": 4,
 "nbformat_minor": 5
}
