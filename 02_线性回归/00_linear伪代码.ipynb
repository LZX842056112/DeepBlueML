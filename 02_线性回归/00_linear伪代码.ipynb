{
 "cells": [
  {
   "cell_type": "code",
   "id": "initial_id",
   "metadata": {
    "collapsed": true,
    "ExecuteTime": {
     "end_time": "2025-10-19T11:20:02.319026Z",
     "start_time": "2025-10-19T11:20:01.869832Z"
    }
   },
   "source": [
    "import numpy as np"
   ],
   "outputs": [],
   "execution_count": 1
  },
  {
   "cell_type": "code",
   "source": [
    "class Linear:\n",
    "    def __init__(self, b=True):\n",
    "        self.b = b\n",
    "        self.theta = None\n",
    "        self.theta0 = 0\n",
    "\n",
    "    def train(self, X, Y):\n",
    "        if self.b:\n",
    "            X = np.column_stack((np.ones_like(X), X))\n",
    "        # 二、为了求解比较方便，将numpy的'numpy.ndarray'的数据类型转换为矩阵的形式的。\n",
    "        X = np.mat(X)\n",
    "        Y = np.mat(Y)\n",
    "        # 三、根据解析式的公式求解theta的值\n",
    "        theta = (X.T * X).I * X.T * Y\n",
    "        if self.b:\n",
    "            self.theta0 = theta[0]\n",
    "            self.theta = theta[1:]\n",
    "        else:\n",
    "            self.theta0 = 0\n",
    "            self.theta = theta\n",
    "\n",
    "    def predict(self, X):\n",
    "        predict_y = X * self.theta + self.theta0\n",
    "        return predict_y\n",
    "\n",
    "    def score(self, X, Y):\n",
    "        # mse\n",
    "        # r^2\n",
    "        # mae\n",
    "\n",
    "        pass\n",
    "\n",
    "    def save(self):\n",
    "        \"\"\"\n",
    "\n",
    "        :return:\n",
    "        \"\"\"\n",
    "        # self.theta0\n",
    "        # self.theta"
   ],
   "metadata": {
    "collapsed": false,
    "ExecuteTime": {
     "end_time": "2025-10-19T11:20:02.335169Z",
     "start_time": "2025-10-19T11:20:02.319026Z"
    }
   },
   "id": "3f32fe18bc02d83c",
   "outputs": [],
   "execution_count": 2
  },
  {
   "cell_type": "code",
   "source": [
    "X1 = np.array([10, 15, 20, 30, 50, 60, 60, 70]).reshape((-1, 1))\n",
    "Y = np.array([0.8, 1.0, 1.8, 2.0, 3.2, 3.0, 3.1, 3.5]).reshape((-1, 1))\n",
    "linear = Linear(b=True)\n",
    "linear.train(X1, Y)\n",
    "x_test = [[55]]\n",
    "y_test_hat = linear.predict(x_test)\n",
    "print(y_test_hat)\n",
    "print(linear.theta)\n",
    "print(linear.theta0)"
   ],
   "metadata": {
    "collapsed": false,
    "ExecuteTime": {
     "end_time": "2025-10-19T11:20:02.381889Z",
     "start_time": "2025-10-19T11:20:02.336544Z"
    }
   },
   "id": "30a57c07f3756aef",
   "outputs": [
    {
     "name": "stdout",
     "output_type": "stream",
     "text": [
      "[[2.97661488]]\n",
      "[[0.04330335]]\n",
      "[[0.5949305]]\n"
     ]
    }
   ],
   "execution_count": 3
  },
  {
   "cell_type": "code",
   "source": [],
   "metadata": {
    "collapsed": false,
    "ExecuteTime": {
     "end_time": "2025-10-19T11:20:02.396923Z",
     "start_time": "2025-10-19T11:20:02.381889Z"
    }
   },
   "id": "9abbb8ae636b704c",
   "outputs": [],
   "execution_count": 3
  }
 ],
 "metadata": {
  "kernelspec": {
   "display_name": "Python 3",
   "language": "python",
   "name": "python3"
  },
  "language_info": {
   "codemirror_mode": {
    "name": "ipython",
    "version": 2
   },
   "file_extension": ".py",
   "mimetype": "text/x-python",
   "name": "python",
   "nbconvert_exporter": "python",
   "pygments_lexer": "ipython2",
   "version": "2.7.6"
  }
 },
 "nbformat": 4,
 "nbformat_minor": 5
}
