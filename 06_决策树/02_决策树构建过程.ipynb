{
 "cells": [
  {
   "cell_type": "code",
   "execution_count": 1,
   "id": "1281801b",
   "metadata": {},
   "outputs": [],
   "source": [
    "import numpy as np\n",
    "import pandas as pd"
   ]
  },
  {
   "cell_type": "code",
   "execution_count": 2,
   "id": "002dc510",
   "metadata": {},
   "outputs": [],
   "source": [
    "def entropy(p):\n",
    "    \"\"\"\n",
    "    信息熵的计算公式\n",
    "    :param p:\n",
    "    :return:\n",
    "    \"\"\"\n",
    "    return np.sum([-t * np.log2(t) for t in p if t != 0])"
   ]
  },
  {
   "cell_type": "code",
   "execution_count": 3,
   "id": "a2cfe4b3",
   "metadata": {},
   "outputs": [],
   "source": [
    "def gini(p):\n",
    "    \"\"\"\n",
    "    Gini系数的计算公式\n",
    "    :param p:\n",
    "    :return:\n",
    "    \"\"\"\n",
    "    return 1 - np.sum([t * t for t in p])"
   ]
  },
  {
   "cell_type": "code",
   "execution_count": 4,
   "id": "9271bc4c",
   "metadata": {},
   "outputs": [],
   "source": [
    "def error(p):\n",
    "    \"\"\"\n",
    "    错误率的公式\n",
    "    :param p:\n",
    "    :return:\n",
    "    \"\"\"\n",
    "    return 1 - np.max(p)"
   ]
  },
  {
   "cell_type": "code",
   "execution_count": 5,
   "id": "5cca094b",
   "metadata": {},
   "outputs": [],
   "source": [
    "def h(p):\n",
    "    \"\"\"\n",
    "    决策树中对于纯度的衡量\n",
    "    :param p:\n",
    "    :return:\n",
    "    \"\"\"\n",
    "    return gini(p)\n",
    "    # return entropy(p)\n",
    "    # return error(p)"
   ]
  },
  {
   "cell_type": "code",
   "execution_count": 6,
   "id": "5124e3f0",
   "metadata": {},
   "outputs": [
    {
     "data": {
      "text/plain": [
       "'\\n是,单身,125,否\\n否,已婚,100,否\\n否,单身,100,否\\n是,已婚,110,否\\n是,离婚,60,否\\n否,离婚,95,是\\n否,单身,85,是\\n否,已婚,75,否\\n否,单身,90,是\\n是,离婚,220,否\\n'"
      ]
     },
     "execution_count": 6,
     "metadata": {},
     "output_type": "execute_result"
    }
   ],
   "source": [
    "\"\"\"\n",
    "是,单身,125,否\n",
    "否,已婚,100,否\n",
    "否,单身,100,否\n",
    "是,已婚,110,否\n",
    "是,离婚,60,否\n",
    "否,离婚,95,是\n",
    "否,单身,85,是\n",
    "否,已婚,75,否\n",
    "否,单身,90,是\n",
    "是,离婚,220,否\n",
    "\"\"\""
   ]
  },
  {
   "cell_type": "code",
   "execution_count": 7,
   "id": "f1162a8a",
   "metadata": {},
   "outputs": [
    {
     "name": "stdout",
     "output_type": "stream",
     "text": [
      "以房产作为划分特征的时候，信息增为:0.12000000000000005\n",
      "以房产作为划分特征的时候，信息增率为:0.2500000000000001\n"
     ]
    }
   ],
   "source": [
    "# 一、第一个判断节点的选择\n",
    "# 1.0 计算整个数据集的纯度(样本数10个，3个是，7个否)\n",
    "# H(D)\n",
    "h0 = h([0.7, 0.3])\n",
    "# 1.1 计算以房产作为分割点的时候条件熵(遍历数据计算x1为是和否的概率)\n",
    "# 第一个分支: 是；样本数目：4，全部为否\n",
    "p11 = 0.4\n",
    "h11 = h([1.0, 0])\n",
    "# 第二个分支：否；样本数目：6，3个是，3个否\n",
    "p12 = 0.6\n",
    "h12 = h([0.5, 0.5])\n",
    "# H(D|A)\n",
    "h1 = p11 * h11 + p12 * h12\n",
    "# print(h1)\n",
    "# print(h([0.4, 0.3, 0.3]) - h([0.4, 0.6]))  # H(X,Y)-H(X)\n",
    "# sys.exit()\n",
    "# gain 信息增益度\n",
    "g1 = h0 - h1\n",
    "print(\"以房产作为划分特征的时候，信息增为:{}\".format(g1))\n",
    "# todo:信息增益率\n",
    "g1_r = g1 / h([p11, p12])\n",
    "print(\"以房产作为划分特征的时候，信息增率为:{}\".format(g1_r))\n"
   ]
  },
  {
   "cell_type": "code",
   "execution_count": 8,
   "id": "d7a40d23",
   "metadata": {},
   "outputs": [
    {
     "name": "stdout",
     "output_type": "stream",
     "text": [
      "以婚姻作为划分特征的时候，信息增益为:0.08666666666666667\n",
      "以婚姻作为划分特征的时候，信息增益率为:0.1313131313131313\n"
     ]
    }
   ],
   "source": [
    "# 1.2 计算以婚姻情况作为分割点的时候条件熵(遍历数据计算x2为单身、离婚、已婚的概率)\n",
    "# 第一个分支: 单身；样本数目：4，2个是，2个否\n",
    "p21 = 0.4\n",
    "h21 = h([0.5, 0.5])\n",
    "# 第二个分支：离婚；样本数目：3，1个是，2个否\n",
    "p22 = 0.3\n",
    "h22 = h([1.0 / 3, 2.0 / 3])\n",
    "# 第三个分支: 已婚，样本数目：3，3个否\n",
    "p23 = 0.3\n",
    "h23 = h([1.0, 0])\n",
    "h2 = p21 * h21 + p22 * h22 + p23 * h23\n",
    "g2 = h0 - h2\n",
    "print(\"以婚姻作为划分特征的时候，信息增益为:{}\".format(g2))\n",
    "g2_r = g2 / h([p21, p22, p23])\n",
    "print(\"以婚姻作为划分特征的时候，信息增益率为:{}\".format(g2_r))"
   ]
  },
  {
   "cell_type": "code",
   "execution_count": 9,
   "id": "1cd254e5",
   "metadata": {},
   "outputs": [
    {
     "name": "stdout",
     "output_type": "stream",
     "text": [
      "以年收入80作为划分特征的时候，信息增益为:0.04500000000000004\n",
      "以年收入80作为划分特征的时候，信息增益率为:0.1406250000000002\n"
     ]
    }
   ],
   "source": [
    "# 1.3. 以年收入80作为划分值\n",
    "# 第一个分支: 小于等于80；样本数目：2，2个否\n",
    "p31 = 0.2\n",
    "h31 = h([1.0, 0])\n",
    "# 第二个分支：大于80；样本数目：8，3个是，5个否\n",
    "p32 = 0.8\n",
    "h32 = h([3.0 / 8, 5.0 / 8])\n",
    "h3 = p31 * h31 + p32 * h32\n",
    "g3 = h0 - h3\n",
    "print(\"以年收入80作为划分特征的时候，信息增益为:{}\".format(g3))\n",
    "g3_r = g3 / h([p31,p32])\n",
    "print(\"以年收入80作为划分特征的时候，信息增益率为:{}\".format(g3_r))"
   ]
  },
  {
   "cell_type": "code",
   "execution_count": 10,
   "id": "4bc97ec0",
   "metadata": {},
   "outputs": [
    {
     "name": "stdout",
     "output_type": "stream",
     "text": [
      "以年收入97.5作为划分特征的时候，信息增益为:0.18000000000000005\n",
      "以年收入97.5作为划分特征的时候，信息增益率为:0.3600000000000001\n"
     ]
    }
   ],
   "source": [
    "# 1.4. 以年收入97.5作为划分值\n",
    "# 第一个分支: 小于等于97.5；样本数目：5，3个是，2个否\n",
    "p41 = 0.5\n",
    "h41 = h([2.0 / 5, 3.0 / 5])\n",
    "# 第二个分支：大于97.5；样本数目：5，5个否\n",
    "p42 = 0.5\n",
    "h42 = h([1.0, 0])\n",
    "h4 = p41 * h41 + p42 * h42\n",
    "g4 = h0 - h4\n",
    "print(\"以年收入97.5作为划分特征的时候，信息增益为:{}\".format(g4))\n",
    "g4_r = g4/h([p41,p42])\n",
    "print(\"以年收入97.5作为划分特征的时候，信息增益率为:{}\".format(g4_r))"
   ]
  },
  {
   "cell_type": "code",
   "execution_count": 11,
   "id": "3c6e7c82",
   "metadata": {},
   "outputs": [],
   "source": [
    "# 二、针对于左子树继续划分(年收入小于等于97.5的数据；样本数目：5，3个是，2个否)\n",
    "# H(D)\n",
    "h0 = h41"
   ]
  },
  {
   "cell_type": "code",
   "execution_count": 12,
   "id": "0cbdf2b8",
   "metadata": {},
   "outputs": [
    {
     "name": "stdout",
     "output_type": "stream",
     "text": [
      "以房产作为划分特征的时候，信息增益为:0.17999999999999994\n"
     ]
    }
   ],
   "source": [
    "# 2.1 计算以房产作为分割点的时候条件熵\n",
    "# 第一个分支: 是；样本数目：1，全部为否\n",
    "p11 = 0.2  # 1/5\n",
    "h11 = h([1.0, 0])\n",
    "# 第二个分支：否；样本数目：4，3个是，1个否\n",
    "p12 = 0.8\n",
    "h12 = h([0.75, 0.25])\n",
    "h1 = p11 * h11 + p12 * h12\n",
    "g1 = h0 - h1\n",
    "print(\"以房产作为划分特征的时候，信息增益为:{}\".format(g1))"
   ]
  },
  {
   "cell_type": "code",
   "execution_count": 13,
   "id": "78320f3f",
   "metadata": {},
   "outputs": [],
   "source": [
    "# 2.2 计算以婚姻情况作为分割点的时候条件熵(遍历数据计算x2为单身、离婚、已婚的概率)\n",
    "# 第一个分支: 单身；样本数目：2，2个是\n",
    "p21 = 0.4\n",
    "h21 = h([1.0])\n",
    "# 第二个分支：离婚；样本数目：2，1个是，1个否\n",
    "p22 = 0.4\n",
    "h22 = h([0.5, 0.5])\n",
    "# 第三个分支: 已婚，样本数目：1，1个否\n",
    "p23 = 0.2\n",
    "h23 = h([1.0])\n",
    "h2 = p21 * h21 + p22 * h22 + p23 * h23\n",
    "g2 = h0 - h2"
   ]
  },
  {
   "cell_type": "code",
   "execution_count": 14,
   "id": "d70a1543",
   "metadata": {},
   "outputs": [
    {
     "name": "stdout",
     "output_type": "stream",
     "text": [
      "以婚姻作为划分特征的时候，信息增益为:0.27999999999999997\n"
     ]
    }
   ],
   "source": [
    "print(\"以婚姻作为划分特征的时候，信息增益为:{}\".format(g2))"
   ]
  },
  {
   "cell_type": "code",
   "execution_count": 15,
   "id": "6051e9c0",
   "metadata": {},
   "outputs": [],
   "source": [
    "# 三、针对于右子树继续划分(年收入大于97.5的数据；样本数目：5，5个否 --> 不需要划分)\n",
    "\n",
    "# 四、针对于第一个分支的子树继续划分(单身的数据；样本数目：2，2个是 --> 不需要划分)\n",
    "# 五、针对于第二个分支的子树继续划分(离婚的数据；样本数目：2，1个是 1个否)\n",
    "# TODO: 自己补全\n",
    "# 六、针对于第三个分支的子树继续划分(已婚的数据；样本数目：1，1个否 --> 不需要划分)\n",
    "\n",
    "# todo:2、只允许出现二叉树，不允许重复使用特征"
   ]
  },
  {
   "cell_type": "code",
   "execution_count": null,
   "id": "f028cd2a",
   "metadata": {},
   "outputs": [],
   "source": []
  }
 ],
 "metadata": {
  "kernelspec": {
   "display_name": "py37",
   "language": "python",
   "name": "py37"
  },
  "language_info": {
   "codemirror_mode": {
    "name": "ipython",
    "version": 3
   },
   "file_extension": ".py",
   "mimetype": "text/x-python",
   "name": "python",
   "nbconvert_exporter": "python",
   "pygments_lexer": "ipython3",
   "version": "3.7.13"
  }
 },
 "nbformat": 4,
 "nbformat_minor": 5
}
