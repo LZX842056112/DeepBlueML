{
 "cells": [
  {
   "cell_type": "code",
   "execution_count": 1,
   "id": "ed50efb7",
   "metadata": {},
   "outputs": [],
   "source": [
    "import warnings\n",
    "import sys\n",
    "import numpy as np\n",
    "import pandas as pd\n",
    "import matplotlib as mpl\n",
    "import matplotlib.pyplot as plt\n",
    "\n",
    "from sklearn.preprocessing import StandardScaler, LabelEncoder\n",
    "from sklearn.model_selection import train_test_split\n",
    "from sklearn.tree import DecisionTreeClassifier, DecisionTreeRegressor\n",
    "from sklearn.metrics import auc, roc_curve, classification_report"
   ]
  },
  {
   "cell_type": "code",
   "execution_count": 2,
   "id": "4e578258",
   "metadata": {},
   "outputs": [],
   "source": [
    "warnings.filterwarnings('ignore')\n",
    "mpl.rcParams['font.sans-serif'] = [u'simHei']"
   ]
  },
  {
   "cell_type": "code",
   "execution_count": 3,
   "id": "4a2fa465",
   "metadata": {},
   "outputs": [],
   "source": [
    "# 一、数据加载\n",
    "path = \"../datas/iris.data\"\n",
    "names = ['A', 'B', 'C', 'D', 'cla']\n",
    "df = pd.read_csv(filepath_or_buffer=path, sep=\",\", header=None, names=names)"
   ]
  },
  {
   "cell_type": "code",
   "execution_count": 4,
   "id": "a77d6e66",
   "metadata": {},
   "outputs": [],
   "source": [
    "# 二、数据的清洗\n",
    "# class_name_2_label = {'Iris-setosa': 0, 'Iris-versicolor': 1, 'Iris-virginica': 2}\n",
    "# df['cla'] = list(map(lambda cla: class_name_2_label[cla], df['cla'].values))\n",
    "# print(df['cla'].values)\n",
    "# df.info()"
   ]
  },
  {
   "cell_type": "code",
   "execution_count": 5,
   "id": "63c00df4",
   "metadata": {},
   "outputs": [],
   "source": [
    "# 三、根据需求和原始模型从最原始的特征属性中获取具体的特征属性矩阵X和目标属性矩阵Y\n",
    "# X = df.drop('cla', axis=1)\n",
    "X = df.iloc[:, :4]\n",
    "# print(X)\n",
    "X = np.asarray(X).astype(np.float64)\n",
    "Y = df['cla']"
   ]
  },
  {
   "cell_type": "code",
   "execution_count": 6,
   "id": "2fbdfc16",
   "metadata": {},
   "outputs": [
    {
     "name": "stdout",
     "output_type": "stream",
     "text": [
      "['Iris-setosa' 'Iris-versicolor' 'Iris-virginica']\n",
      "[0 1 2]\n",
      "['Iris-setosa' 'Iris-versicolor' 'Iris-virginica' 'Iris-setosa'\n",
      " 'Iris-virginica' 'Iris-versicolor']\n"
     ]
    }
   ],
   "source": [
    "# 对目标属性做一个类别的转换，将字符串的数据转换为从0开始的int值\n",
    "label_encoder = LabelEncoder()\n",
    "Y = label_encoder.fit_transform(Y)\n",
    "print(label_encoder.classes_)\n",
    "print(label_encoder.transform(['Iris-setosa', 'Iris-versicolor', 'Iris-virginica']))\n",
    "print(label_encoder.inverse_transform([0, 1, 2, 0, 2, 1]))"
   ]
  },
  {
   "cell_type": "code",
   "execution_count": 7,
   "id": "054e2f00",
   "metadata": {},
   "outputs": [
    {
     "name": "stdout",
     "output_type": "stream",
     "text": [
      "训练数据X的格式:(120, 4), 以及数据类型:<class 'numpy.ndarray'>\n",
      "测试数据X的格式:(30, 4)\n",
      "训练数据Y的数据类型:<class 'numpy.ndarray'>\n",
      "Y的取值范围:[0 1 2]\n"
     ]
    }
   ],
   "source": [
    "# 四、数据分割(将数据分割为训练数据和测试数据)\n",
    "x_train, x_test, y_train, y_test = train_test_split(X, Y, test_size=0.2, random_state=2)\n",
    "print(\"训练数据X的格式:{}, 以及数据类型:{}\".format(x_train.shape, type(x_train)))\n",
    "print(\"测试数据X的格式:{}\".format(x_test.shape))\n",
    "print(\"训练数据Y的数据类型:{}\".format(type(y_train)))\n",
    "print(\"Y的取值范围:{}\".format(np.unique(Y)))"
   ]
  },
  {
   "cell_type": "code",
   "execution_count": 8,
   "id": "4c69f22a",
   "metadata": {},
   "outputs": [],
   "source": [
    "# 五、特征工程的操作\n",
    "# # a. 创建对象(标准化操作)\n",
    "# scaler = StandardScaler()\n",
    "# # b. 模型训练+训练数据转换\n",
    "# x_train = scaler.fit_transform(x_train, y_train)\n",
    "# # c. 基于训练好的对象对数据做一个转换\n",
    "# x_test = scaler.transform(x_test)"
   ]
  },
  {
   "cell_type": "code",
   "execution_count": 21,
   "id": "ec5d3f53",
   "metadata": {},
   "outputs": [],
   "source": [
    "# 六、模型对象的构建\n",
    "\"\"\"\n",
    "def __init__(self,\n",
    "             criterion=\"gini\",\n",
    "             splitter=\"best\",\n",
    "             max_depth=None,\n",
    "             min_samples_split=2,\n",
    "             min_samples_leaf=1,\n",
    "             min_weight_fraction_leaf=0.,\n",
    "             max_features=None,\n",
    "             random_state=None,\n",
    "             max_leaf_nodes=None,\n",
    "             min_impurity_decrease=0.,\n",
    "             min_impurity_split=None,\n",
    "             class_weight=None,\n",
    "             presort=False)\n",
    "    criterion: 给定决策树构建过程中的纯度的衡量指标，可选值: gini、entropy， 默认gini\n",
    "    splitter：给定选择特征属性的方式，best指最优选择，random指随机选择(局部最优)\n",
    "    max_features：当splitter参数设置为random的有效，是给定随机选择的局部区域有多大。\n",
    "    max_depth：剪枝参数，用于限制最终的决策树的深度，默认为None，表示不限制\n",
    "    min_samples_split=2：剪枝参数，给定当数据集中的样本数目大于等于该值的时候，允许对当前数据集进行分裂；如果低于该值，那么不允许继续分裂。\n",
    "    min_samples_leaf=1, 剪枝参数，要求叶子节点中的样本数目至少为该值。\n",
    "    class_weight：给定目标属性中各个类别的权重系数。\n",
    "\"\"\"\n",
    "algo = DecisionTreeClassifier(max_depth=3)"
   ]
  },
  {
   "cell_type": "code",
   "execution_count": 22,
   "id": "b01983aa",
   "metadata": {},
   "outputs": [
    {
     "data": {
      "text/plain": [
       "DecisionTreeClassifier(max_depth=3)"
      ]
     },
     "execution_count": 22,
     "metadata": {},
     "output_type": "execute_result"
    }
   ],
   "source": [
    "# 七. 模型的训练\n",
    "algo.fit(x_train, y_train)"
   ]
  },
  {
   "cell_type": "code",
   "execution_count": 23,
   "id": "0aa2f1d7",
   "metadata": {},
   "outputs": [
    {
     "name": "stdout",
     "output_type": "stream",
     "text": [
      "各个特征属性的重要性权重系数(值越大，对应的特征属性就越重要):[0.         0.         0.55131392 0.44868608]\n",
      "训练数据上的分类报告:\n",
      "              precision    recall  f1-score   support\n",
      "\n",
      "           0       1.00      1.00      1.00        36\n",
      "           1       1.00      0.95      0.98        42\n",
      "           2       0.95      1.00      0.98        42\n",
      "\n",
      "    accuracy                           0.98       120\n",
      "   macro avg       0.98      0.98      0.98       120\n",
      "weighted avg       0.98      0.98      0.98       120\n",
      "\n",
      "测试数据上的分类报告:\n",
      "              precision    recall  f1-score   support\n",
      "\n",
      "           0       1.00      1.00      1.00        14\n",
      "           1       1.00      0.88      0.93         8\n",
      "           2       0.89      1.00      0.94         8\n",
      "\n",
      "    accuracy                           0.97        30\n",
      "   macro avg       0.96      0.96      0.96        30\n",
      "weighted avg       0.97      0.97      0.97        30\n",
      "\n",
      "训练数据上的准确率:0.9833333333333333\n",
      "测试数据上的准确率:0.9666666666666667\n"
     ]
    }
   ],
   "source": [
    "# 八、模型效果的评估\n",
    "print(\"各个特征属性的重要性权重系数(值越大，对应的特征属性就越重要):{}\".format(algo.feature_importances_))\n",
    "print(\"训练数据上的分类报告:\")\n",
    "print(classification_report(y_train, algo.predict(x_train)))\n",
    "print(\"测试数据上的分类报告:\")\n",
    "print(classification_report(y_test, algo.predict(x_test)))\n",
    "print(\"训练数据上的准确率:{}\".format(algo.score(x_train, y_train)))\n",
    "print(\"测试数据上的准确率:{}\".format(algo.score(x_test, y_test)))"
   ]
  },
  {
   "cell_type": "code",
   "execution_count": 24,
   "id": "c85c3472",
   "metadata": {},
   "outputs": [
    {
     "name": "stdout",
     "output_type": "stream",
     "text": [
      "预测函数:\n",
      "[0]\n",
      "预测概率函数:\n",
      "[[1. 0. 0.]]\n"
     ]
    }
   ],
   "source": [
    "# 查看相关属性\n",
    "test1 = [x_test[6]]\n",
    "print(\"预测函数:\")\n",
    "print(algo.predict(test1))\n",
    "print(\"预测概率函数:\")\n",
    "print(algo.predict_proba(test1))"
   ]
  },
  {
   "cell_type": "code",
   "execution_count": 25,
   "id": "f1240dfa",
   "metadata": {},
   "outputs": [
    {
     "name": "stdout",
     "output_type": "stream",
     "text": [
      "(1.0, 0.9981684981684982, 0.9981684981684982)\n"
     ]
    }
   ],
   "source": [
    "# ROC和AUC的计算\n",
    "# 对于三个类别分开计算auc和roc的值\n",
    "y_predict_proba = algo.predict_proba(x_train)\n",
    "# print(y_predict_proba)\n",
    "# 针对于类别1\n",
    "y1_true = (y_train == 0).astype(np.int)\n",
    "y1_score = y_predict_proba[:, 0]\n",
    "fpr1, tpr1, _ = roc_curve(y1_true, y1_score)\n",
    "auc1 = auc(fpr1, tpr1)\n",
    "# 针对于类别2\n",
    "y2_true = (y_train == 1).astype(np.int)\n",
    "y2_score = y_predict_proba[:, 1]\n",
    "fpr2, tpr2, _ = roc_curve(y2_true, y2_score)\n",
    "auc2 = auc(fpr2, tpr2)\n",
    "# 针对于类别3\n",
    "y3_true = (y_train == 2).astype(np.int)\n",
    "y3_score = y_predict_proba[:, 2]\n",
    "fpr3, tpr3, _ = roc_curve(y3_true, y3_score)\n",
    "auc3 = auc(fpr3, tpr3)\n",
    "print((auc1, auc2, auc3))"
   ]
  },
  {
   "cell_type": "code",
   "execution_count": 26,
   "id": "a896be4a",
   "metadata": {},
   "outputs": [
    {
     "data": {
      "image/png": "[encoded data removed]",
      "text/plain": [
       "<Figure size 640x480 with 1 Axes>"
      ]
     },
     "metadata": {},
     "output_type": "display_data"
    }
   ],
   "source": [
    "plt.plot(fpr1, tpr1, 'r-o')\n",
    "plt.plot(fpr2, tpr2, 'g-o')\n",
    "plt.plot(fpr3, tpr3, 'b-o')\n",
    "plt.show()"
   ]
  },
  {
   "cell_type": "markdown",
   "id": "17818b86",
   "metadata": {},
   "source": [
    "# 决策树可视化"
   ]
  },
  {
   "cell_type": "code",
   "execution_count": 27,
   "id": "9ee8940a",
   "metadata": {},
   "outputs": [],
   "source": [
    "# 方式一：输出dot文件，然后使用dot的命令进行转换\n",
    "# 命令：dot -Tpdf iris01.dot -o iris01.pdf 或者dot -Tpng iris01.dot -o iris01.png\n",
    "from sklearn import tree\n",
    "# # #  {'Iris-setosa': 0, 'Iris-versicolor': 1, 'Iris-virginica': 2}\n",
    "with open('iris01.dot', 'w') as writer:\n",
    "    tree.export_graphviz(decision_tree=algo, out_file=writer,\n",
    "                         feature_names=['x1', 'x2', 'x3', 'x4'],\n",
    "                         class_names=['Iris-setosa', 'Iris-versicolor', 'Iris-virginica'],\n",
    "                         filled=True, rounded=True,\n",
    "                         special_characters=True,\n",
    "                         node_ids=True)"
   ]
  },
  {
   "cell_type": "code",
   "execution_count": 29,
   "id": "a89f0147",
   "metadata": {},
   "outputs": [
    {
     "data": {
      "text/plain": [
       "True"
      ]
     },
     "execution_count": 29,
     "metadata": {},
     "output_type": "execute_result"
    }
   ],
   "source": [
    "# # # # 方式二：直接使用pydotpuls库将数据输出为图像\n",
    "import pydotplus\n",
    "from sklearn import tree\n",
    "\n",
    "# import os\n",
    "# os.environ[\"PATH\"] += os.pathsep + 'G:/program_files/graphviz/bin'\n",
    "\n",
    "dot_data = tree.export_graphviz(decision_tree=algo, out_file=None,\n",
    "                                # feature_names=['x2', 'x3', 'x4'],\n",
    "                                class_names=['Iris-setosa', 'Iris-versicolor', 'Iris-virginica'],\n",
    "                                filled=True, rounded=True,\n",
    "                                special_characters=True,\n",
    "                                node_ids=True\n",
    "                                )\n",
    "graph = pydotplus.graph_from_dot_data(dot_data)\n",
    "graph.write_png(\"iris02.png\")\n",
    "graph.write_pdf(\"iris02.pdf\")"
   ]
  },
  {
   "cell_type": "code",
   "execution_count": null,
   "id": "87fe26fd",
   "metadata": {},
   "outputs": [],
   "source": []
  }
 ],
 "metadata": {
  "kernelspec": {
   "display_name": "py37",
   "language": "python",
   "name": "py37"
  },
  "language_info": {
   "codemirror_mode": {
    "name": "ipython",
    "version": 3
   },
   "file_extension": ".py",
   "mimetype": "text/x-python",
   "name": "python",
   "nbconvert_exporter": "python",
   "pygments_lexer": "ipython3",
   "version": "3.7.13"
  }
 },
 "nbformat": 4,
 "nbformat_minor": 5
}
