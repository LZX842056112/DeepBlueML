{
 "cells": [
  {
   "cell_type": "markdown",
   "id": "c84bf8f5",
   "metadata": {},
   "source": [
    "# 信息熵"
   ]
  },
  {
   "cell_type": "code",
   "execution_count": 1,
   "id": "047290a8",
   "metadata": {},
   "outputs": [],
   "source": [
    "import numpy as np"
   ]
  },
  {
   "cell_type": "code",
   "execution_count": 2,
   "id": "a40de8d4",
   "metadata": {},
   "outputs": [],
   "source": [
    "def entropy(p):\n",
    "    return np.sum([-t * np.log2(t) for t in p if t != 0])"
   ]
  },
  {
   "cell_type": "code",
   "execution_count": 3,
   "id": "34ec58de",
   "metadata": {},
   "outputs": [
    {
     "name": "stdout",
     "output_type": "stream",
     "text": [
      "1.0\n",
      "2.0\n"
     ]
    }
   ],
   "source": [
    "print(entropy([0.5, 0.5]))\n",
    "print(entropy([0.25, 0.25, 0.25, 0.25]))"
   ]
  },
  {
   "cell_type": "code",
   "execution_count": 5,
   "id": "27200b6b",
   "metadata": {},
   "outputs": [
    {
     "name": "stdout",
     "output_type": "stream",
     "text": [
      "2.0\n",
      "1.3361602543738118\n",
      "0.24194073285321088\n"
     ]
    }
   ],
   "source": [
    "print(entropy([0.25, 0.25, 0.25, 0.25]))\n",
    "print(entropy([0.65, 0.25, 0.05, 0.05]))\n",
    "print(entropy([0.97, 0.01, 0.01, 0.01]))"
   ]
  },
  {
   "cell_type": "markdown",
   "id": "750c5ccd",
   "metadata": {},
   "source": [
    "# 条件熵"
   ]
  },
  {
   "cell_type": "code",
   "execution_count": 6,
   "id": "415dec4d",
   "metadata": {},
   "outputs": [
    {
     "name": "stdout",
     "output_type": "stream",
     "text": [
      "0.8796731482129885\n"
     ]
    }
   ],
   "source": [
    "# x1=是 p1=0.7   Y ： 5:2\n",
    "# x1=否 p2=0.3   Y：1:2\n",
    "# H(Y|x1) = p1*entropy([2/7,5/7]) + p2*entropy([1/3,2/3])\n",
    "print(0.7*entropy([2/7,5/7])+0.3*entropy([1/3,2/3]))"
   ]
  },
  {
   "cell_type": "code",
   "execution_count": null,
   "id": "aad485b2",
   "metadata": {},
   "outputs": [],
   "source": []
  }
 ],
 "metadata": {
  "kernelspec": {
   "display_name": "py37",
   "language": "python",
   "name": "py37"
  },
  "language_info": {
   "codemirror_mode": {
    "name": "ipython",
    "version": 3
   },
   "file_extension": ".py",
   "mimetype": "text/x-python",
   "name": "python",
   "nbconvert_exporter": "python",
   "pygments_lexer": "ipython3",
   "version": "3.7.13"
  }
 },
 "nbformat": 4,
 "nbformat_minor": 5
}
