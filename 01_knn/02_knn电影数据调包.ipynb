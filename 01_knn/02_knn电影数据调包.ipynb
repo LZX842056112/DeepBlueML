{
 "cells": [
  {
   "cell_type": "code",
   "execution_count": 1,
   "id": "3a30a4a1f15a3e96",
   "metadata": {
    "ExecuteTime": {
     "end_time": "2024-09-29T07:04:24.075049600Z",
     "start_time": "2024-09-29T07:04:24.033271700Z"
    }
   },
   "outputs": [],
   "source": [
    "import numpy as np\n",
    "import pandas as pd\n",
    "from sklearn import neighbors"
   ]
  },
  {
   "cell_type": "code",
   "execution_count": 2,
   "id": "c4e3a6b9168d274a",
   "metadata": {
    "ExecuteTime": {
     "end_time": "2024-09-29T07:18:04.863975800Z",
     "start_time": "2024-09-29T07:18:04.844921800Z"
    }
   },
   "outputs": [],
   "source": [
    "# 去除sklearn警告\n",
    "import warnings\n",
    "warnings.filterwarnings('ignore')"
   ]
  },
  {
   "cell_type": "markdown",
   "id": "62855e1d0fbb067f",
   "metadata": {},
   "source": [
    "# knn分类"
   ]
  },
  {
   "cell_type": "code",
   "execution_count": 3,
   "id": "d9da30e197e7b1d7",
   "metadata": {
    "ExecuteTime": {
     "end_time": "2024-09-29T07:18:07.244895700Z",
     "start_time": "2024-09-29T07:18:07.232902100Z"
    }
   },
   "outputs": [],
   "source": [
    "# 初始化数据\n",
    "T = [\n",
    "    [3, 104, -1],\n",
    "    [2, 100, -1],\n",
    "    [1, 81, -1],\n",
    "    [101, 10, 1],\n",
    "    [99, 5, 1],\n",
    "    [98, 2, 1]]\n",
    "##初始化待测样本\n",
    "x = [[18, 90]]\n",
    "##初始化邻居数\n",
    "K = 3"
   ]
  },
  {
   "cell_type": "code",
   "execution_count": 4,
   "id": "804468feb211d4b5",
   "metadata": {
    "ExecuteTime": {
     "end_time": "2024-09-29T07:18:07.741055600Z",
     "start_time": "2024-09-29T07:18:07.714385400Z"
    }
   },
   "outputs": [
    {
     "name": "stdout",
     "output_type": "stream",
     "text": [
      "     A    B  label\n",
      "0    3  104     -1\n",
      "1    2  100     -1\n",
      "2    1   81     -1\n",
      "3  101   10      1\n",
      "4   99    5      1\n",
      "5   98    2      1\n",
      "     A    B\n",
      "0    3  104\n",
      "1    2  100\n",
      "2    1   81\n",
      "3  101   10\n",
      "4   99    5\n",
      "5   98    2\n",
      "0   -1\n",
      "1   -1\n",
      "2   -1\n",
      "3    1\n",
      "4    1\n",
      "5    1\n",
      "Name: label, dtype: int64\n"
     ]
    }
   ],
   "source": [
    "# 训练数据\n",
    "data = pd.DataFrame(T, columns=['A', 'B', 'label'])\n",
    "print(data)\n",
    "X_train = data.iloc[:, :-1]\n",
    "print(X_train)\n",
    "Y_train = data.iloc[:, -1]\n",
    "print(Y_train)"
   ]
  },
  {
   "cell_type": "code",
   "execution_count": 5,
   "id": "4e8d3eff1db7ccca",
   "metadata": {
    "ExecuteTime": {
     "end_time": "2024-09-29T07:18:08.105473300Z",
     "start_time": "2024-09-29T07:18:08.082477500Z"
    }
   },
   "outputs": [],
   "source": [
    "# 实例化knn模型\n",
    "KNN01 = neighbors.KNeighborsClassifier(n_neighbors=K)"
   ]
  },
  {
   "cell_type": "code",
   "execution_count": 6,
   "id": "62300629229b1af7",
   "metadata": {
    "ExecuteTime": {
     "end_time": "2024-09-29T07:18:08.428170900Z",
     "start_time": "2024-09-29T07:18:08.394167700Z"
    }
   },
   "outputs": [
    {
     "data": {
      "text/plain": [
       "KNeighborsClassifier(n_neighbors=3)"
      ]
     },
     "execution_count": 6,
     "metadata": {},
     "output_type": "execute_result"
    }
   ],
   "source": [
    "# 基于训练数据对knn模型进行训练\n",
    "KNN01.fit(X_train, Y_train)"
   ]
  },
  {
   "cell_type": "code",
   "execution_count": 7,
   "id": "31fbbaaec40c2939",
   "metadata": {
    "ExecuteTime": {
     "end_time": "2024-09-29T07:18:08.740887700Z",
     "start_time": "2024-09-29T07:18:08.712870100Z"
    }
   },
   "outputs": [
    {
     "name": "stdout",
     "output_type": "stream",
     "text": [
      "[-1]\n"
     ]
    }
   ],
   "source": [
    "# 预测结果\n",
    "y_predict = KNN01.predict(x)\n",
    "print(y_predict)"
   ]
  },
  {
   "cell_type": "code",
   "execution_count": 8,
   "id": "705b7e0e",
   "metadata": {},
   "outputs": [
    {
     "name": "stdout",
     "output_type": "stream",
     "text": [
      "[-1 -1 -1  1  1  1]\n"
     ]
    }
   ],
   "source": [
    "y_train_pre = KNN01.predict(X_train)\n",
    "print(y_train_pre)"
   ]
  },
  {
   "cell_type": "code",
   "execution_count": 20,
   "id": "53b3c6c51de9d22d",
   "metadata": {
    "ExecuteTime": {
     "end_time": "2024-09-29T07:18:09.069915200Z",
     "start_time": "2024-09-29T07:18:09.046907800Z"
    }
   },
   "outputs": [
    {
     "name": "stdout",
     "output_type": "stream",
     "text": [
      "1.0\n"
     ]
    }
   ],
   "source": [
    "# 查看训练集得分\n",
    "score = KNN01.score(X=X_train, y=Y_train)\n",
    "print(score)"
   ]
  },
  {
   "cell_type": "code",
   "execution_count": 21,
   "id": "17f44f22235d595e",
   "metadata": {
    "ExecuteTime": {
     "end_time": "2024-09-29T07:18:09.422663900Z",
     "start_time": "2024-09-29T07:18:09.398657400Z"
    }
   },
   "outputs": [
    {
     "name": "stdout",
     "output_type": "stream",
     "text": [
      "[-1]\n"
     ]
    }
   ],
   "source": [
    "# knn模型参数\n",
    "# 实例化knn模型\n",
    "KNN02 = neighbors.KNeighborsClassifier(n_neighbors=3, weights='distance')\n",
    "# 训练\n",
    "KNN02.fit(X_train, Y_train)\n",
    "# 预测\n",
    "y_predict = KNN02.predict(x)\n",
    "print(y_predict)"
   ]
  },
  {
   "cell_type": "markdown",
   "id": "8e7d31ef84c4fc09",
   "metadata": {},
   "source": [
    "# knn回归"
   ]
  },
  {
   "cell_type": "code",
   "execution_count": 22,
   "id": "initial_id",
   "metadata": {
    "ExecuteTime": {
     "end_time": "2024-09-29T07:18:10.156080700Z",
     "start_time": "2024-09-29T07:18:10.130099800Z"
    },
    "collapsed": true
   },
   "outputs": [
    {
     "name": "stdout",
     "output_type": "stream",
     "text": [
      "[62.]\n",
      "[86.89041337]\n"
     ]
    }
   ],
   "source": [
    "##初始化数据\n",
    "T = [\n",
    "    [3, 104, 98],\n",
    "    [2, 100, 93],\n",
    "    [1, 81, 95],\n",
    "    [101, 10, 16],\n",
    "    [99, 5, 8],\n",
    "    [98, 2, 7]]\n",
    "##初始化待测样本\n",
    "x = [[18, 90]]\n",
    "# x =[[50, 50]]\n",
    "##初始化邻居数\n",
    "K = 5\n",
    "\n",
    "data = pd.DataFrame(T, columns=['A', 'B', 'label'])\n",
    "# print(data)\n",
    "X_train = data.iloc[:, :-1]\n",
    "# print(X_train)\n",
    "Y_train = data.iloc[:, -1]\n",
    "# print(Y_train)\n",
    "x = pd.DataFrame(x, columns=['A', 'B'])\n",
    "KNN03 = neighbors.KNeighborsRegressor(n_neighbors=K)\n",
    "KNN03.fit(X_train, Y_train)\n",
    "y_predict = KNN03.predict(x)\n",
    "print(y_predict)\n",
    "\n",
    "KNN04 = neighbors.KNeighborsRegressor(n_neighbors=K, weights='distance')\n",
    "KNN04.fit(X_train, Y_train)\n",
    "\n",
    "y_predict = KNN04.predict(x)\n",
    "print(y_predict)"
   ]
  },
  {
   "cell_type": "code",
   "execution_count": 22,
   "id": "3d0dc9cb0c4c9958",
   "metadata": {
    "ExecuteTime": {
     "end_time": "2024-09-29T07:18:10.626617100Z",
     "start_time": "2024-09-29T07:18:10.610617Z"
    }
   },
   "outputs": [],
   "source": []
  },
  {
   "cell_type": "code",
   "execution_count": null,
   "id": "d5745439b33378f6",
   "metadata": {},
   "outputs": [],
   "source": []
  }
 ],
 "metadata": {
  "kernelspec": {
   "display_name": "py37",
   "language": "python",
   "name": "py37"
  },
  "language_info": {
   "codemirror_mode": {
    "name": "ipython",
    "version": 3
   },
   "file_extension": ".py",
   "mimetype": "text/x-python",
   "name": "python",
   "nbconvert_exporter": "python",
   "pygments_lexer": "ipython3",
   "version": "3.7.13"
  }
 },
 "nbformat": 4,
 "nbformat_minor": 5
}
