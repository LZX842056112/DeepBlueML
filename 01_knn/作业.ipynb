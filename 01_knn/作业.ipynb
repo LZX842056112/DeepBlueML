{
 "cells": [
  {
   "cell_type": "markdown",
   "id": "3eafa18f929bf27a",
   "metadata": {},
   "source": [
    "第一个任务：没有写伪代码的补充完整\n",
    "第二个，比较一下自己写的和调包的时候使用KDTree和暴力求解的效率【计算一下预测的时间】"
   ]
  },
  {
   "cell_type": "code",
   "execution_count": 1,
   "id": "initial_id",
   "metadata": {},
   "outputs": [],
   "source": [
    "\n",
    "#1、等权、加权\n",
    "#2、KNN的伪代码\n",
    "\n",
    "class KNN():\n",
    "    def __init__(self, K):\n",
    "        self.model = None\n",
    "        pass\n",
    "\n",
    "    def fit(self, X, Y):\n",
    "        '''读数据下来要存储'''\n",
    "\n",
    "        return self.model\n",
    "\n",
    "    def predict(self, X, is_weight=True):\n",
    "        '''\n",
    "        X: 二维列表\n",
    "        is_weight: 是否采用加权投票\n",
    "        return X对应的预测标签\n",
    "        '''\n",
    "\n",
    "    def score(self, X, Y):\n",
    "        \"\"\"准确率\"\"\"\n",
    "\n",
    "\n",
    "\n",
    "# 944570020@qq.com\n",
    "# 姓名-布置作业的时间"
   ]
  },
  {
   "cell_type": "code",
   "execution_count": null,
   "id": "d9a30392",
   "metadata": {},
   "outputs": [],
   "source": []
  }
 ],
 "metadata": {
  "kernelspec": {
   "display_name": "Python 3 (ipykernel)",
   "language": "python",
   "name": "python3"
  },
  "language_info": {
   "codemirror_mode": {
    "name": "ipython",
    "version": 3
   },
   "file_extension": ".py",
   "mimetype": "text/x-python",
   "name": "python",
   "nbconvert_exporter": "python",
   "pygments_lexer": "ipython3",
   "version": "3.9.12"
  }
 },
 "nbformat": 4,
 "nbformat_minor": 5
}
