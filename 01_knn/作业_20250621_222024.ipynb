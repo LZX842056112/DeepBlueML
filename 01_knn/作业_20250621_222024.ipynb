{
 "cells": [
  {
   "cell_type": "markdown",
   "id": "3eafa18f929bf27a",
   "metadata": {},
   "source": [
    "第一个任务：没有写伪代码的补充完整\n",
    "第二个，比较一下自己写的和调包的时候使用KDTree和暴力求解的效率【计算一下预测的时间】"
   ]
  },
  {
   "cell_type": "code",
   "execution_count": 1,
   "id": "initial_id",
   "metadata": {},
   "outputs": [],
   "source": [
    "\n",
    "#1、等权、加权\n",
    "#2、KNN的伪代码\n",
    "import numpy as np\n",
    "import pandas as pd\n",
    "\n",
    "class KNN():\n",
    "    def __init__(self, K):\n",
    "        self.model = None\n",
    "        self.K = K\n",
    "        pass\n",
    "\n",
    "    def fit(self, X, Y):\n",
    "        '''读数据下来要存储\n",
    "            knn训练过程其实是个保存训练数据的过程        \n",
    "        '''\n",
    "        ###将数据转化为numpy数组的形式，方便计算\n",
    "        X = np.asarray(X)\n",
    "        Y = np.asarray(Y)\n",
    "        self.model = (X, Y)  # 封装\n",
    "        return self.model\n",
    "\n",
    "    def predict(self, X, is_weight=True):\n",
    "        '''\n",
    "        X: 二维列表\n",
    "        is_weight: 是否采用加权投票\n",
    "        return X对应的预测标签\n",
    "        '''\n",
    "        ### 将数据转化为numpy数组的格式\n",
    "        X = np.asarray(X)\n",
    "        ## 定义一个列表接收每个样本的预测结果\n",
    "        result = []\n",
    "        for x_index,x in enumerate(X):\n",
    "#             print(f\"----------预测第{x_index}条数据--------------\")\n",
    "            if not is_weight:\n",
    "                k_neighbors_label = self._fetch_k_neighbors(x,is_weight=False)\n",
    "                ### 统计每个类别出现的次数\n",
    "                y_count = pd.Series(k_neighbors_label).value_counts()\n",
    "                # print(\"y_count\",y_count)\n",
    "                ### 产生结果\n",
    "                y_ = y_count.idxmax()\n",
    "                # y_ = y_count.argmax() ##idxmax() 和 argmax 功能一样，获取最大值对应的下标索引\n",
    "                result.append(y_)\n",
    "            else:\n",
    "                k_neighbors_label,k_neighbors_dis = self._fetch_k_neighbors(x,is_weight=True)\n",
    "#                 print(\"label&dis\\n\",k_neighbors_label,k_neighbors_dis)\n",
    "                # 这里先将距离转成权重\n",
    "                # 权重跟距离成反比\n",
    "                k_neighbors_weight = 1/(k_neighbors_dis+1/(100000*k_neighbors_dis.max()))\n",
    "#                 print(\"归一化前权重：\",k_neighbors_weight)\n",
    "                # 权重归一化\n",
    "                k_neighbors_weight = k_neighbors_weight/k_neighbors_weight.sum()\n",
    "#                 print(\"归一化后权重：\",k_neighbors_weight)\n",
    "                label_count = {}\n",
    "#                 print(k_neighbors_label)\n",
    "                for index,label in enumerate(k_neighbors_label):\n",
    "                    if label in label_count:\n",
    "                        label_count[label] += k_neighbors_weight[index]\n",
    "                    else:\n",
    "                        label_count[label] = k_neighbors_weight[index]\n",
    "#                 print(label_count)\n",
    "                y_hat = max(label_count, key=label_count.get)\n",
    "#                 print(\"y_hat: \",y_hat)\n",
    "                result.append(y_hat)              \n",
    "                \n",
    "        return np.asarray(result)       \n",
    "        \n",
    "        \n",
    "\n",
    "    def score(self, X, Y,is_weight=True):\n",
    "        \"\"\"准确率\"\"\"\n",
    "        X = np.asarray(X)\n",
    "        Y = np.asarray(Y)\n",
    "        result = self.predict(X,is_weight=is_weight)\n",
    "        return sum(Y==result)/len(Y)\n",
    "        \n",
    "        \n",
    "        \n",
    "    def _fetch_k_neighbors(self, x,is_weight=True):\n",
    "        x_train, y_train = self.model \n",
    "        ## 定义一个列表用来存储每个样本的距离以及对应的标签\n",
    "        # [[距离1,标签1],[距离2,标签2],[距离3,标签3]....]\n",
    "        listDistance = []\n",
    "        for index, i in enumerate(x_train):\n",
    "            dis = np.sum((np.array(i) - np.array(x)) ** 2) ** 0.5\n",
    "            listDistance.append([dis, y_train[index]])\n",
    "\n",
    "        ## 按照dis对listDistance进行排序\n",
    "        listDistance.sort()\n",
    "        sort_listDistance = np.asarray(listDistance)\n",
    "#         print(\"sort后的距离和标签：\\n\",sort_listDistance)\n",
    "        # ## 获取取前K个最近距离的样本的标签\n",
    "        k_neighbors_label = sort_listDistance[:self.K, -1]\n",
    "        if not is_weight:\n",
    "            return k_neighbors_label\n",
    "        # ## 也可以获取前k个最近邻居的距离\n",
    "        k_neighbors_dis = sort_listDistance[:self.K, 0]\n",
    "        return k_neighbors_label,k_neighbors_dis\n",
    "\n",
    "\n",
    "\n",
    "# 944570020@qq.com\n",
    "# 姓名-布置作业的时间"
   ]
  },
  {
   "cell_type": "code",
   "execution_count": 2,
   "id": "094d8a8f",
   "metadata": {
    "scrolled": false
   },
   "outputs": [
    {
     "name": "stdout",
     "output_type": "stream",
     "text": [
      "训练集预测结果：[-1. -1. -1.  1.  1.  1.]\n",
      "训练集预测评分：1.0\n",
      "测试集预测结果：[-1.  1.]\n"
     ]
    }
   ],
   "source": [
    "T = np.array([\n",
    "    [3, 104, -1],\n",
    "    [2, 100, -1],\n",
    "    [1, 81, -1],\n",
    "    [101, 10, 1],\n",
    "    [99, 5, 1],\n",
    "    [98, 2, 1]])\n",
    "X_train = T[:, :-1]\n",
    "Y_train = T[:, -1]\n",
    "x_test = [[18, 90], [50, 50]]\n",
    "knn = KNN(K=5)\n",
    "knn.fit(X_train, Y_train)\n",
    "Y_train_hat = knn.predict(X_train,is_weight=False)\n",
    "print(f\"训练集预测结果：{Y_train_hat}\")\n",
    "print(f\"训练集预测评分：{knn.score(X_train, Y_train,is_weight=False)}\")\n",
    "print('测试集预测结果：{}'.format(knn.predict(x_test,is_weight=False)))"
   ]
  },
  {
   "cell_type": "code",
   "execution_count": 3,
   "id": "2fe38f5b",
   "metadata": {
    "scrolled": false
   },
   "outputs": [
    {
     "name": "stdout",
     "output_type": "stream",
     "text": [
      "训练集预测结果：[-1. -1. -1.  1.  1.  1.]\n",
      "训练集预测评分：1.0\n",
      "测试集预测结果：[-1.  1.]\n"
     ]
    }
   ],
   "source": [
    "T = np.array([\n",
    "    [3, 104, -1],\n",
    "    [2, 100, -1],\n",
    "    [1, 81, -1],\n",
    "    [101, 10, 1],\n",
    "    [99, 5, 1],\n",
    "    [98, 2, 1]])\n",
    "X_train = T[:, :-1]\n",
    "Y_train = T[:, -1]\n",
    "x_test = [[18, 90], [50, 50]]\n",
    "knn = KNN(K=5)\n",
    "knn.fit(X_train, Y_train)\n",
    "Y_train_hat = knn.predict(X_train,is_weight=True)\n",
    "print(f\"训练集预测结果：{Y_train_hat}\")\n",
    "print(f\"训练集预测评分：{knn.score(X_train, Y_train,is_weight=True)}\")\n",
    "print('测试集预测结果：{}'.format(knn.predict(x_test,is_weight=True)))"
   ]
  },
  {
   "cell_type": "code",
   "execution_count": 4,
   "id": "7f246234",
   "metadata": {},
   "outputs": [
    {
     "name": "stdout",
     "output_type": "stream",
     "text": [
      "-----------下面测试一下鸢尾花数据-----------\n",
      "(150, 4) (150,)\n",
      "(120, 4) (120,)\n",
      "1.0\n",
      "0.9666666666666667\n"
     ]
    }
   ],
   "source": [
    "print('-----------下面测试一下鸢尾花数据-----------')\n",
    "from sklearn.datasets import load_iris\n",
    "from sklearn.model_selection import train_test_split\n",
    "\n",
    "X, Y = load_iris(return_X_y=True)\n",
    "print(X.shape, Y.shape)\n",
    "x_train, x_test, y_train, y_test = train_test_split(X, Y, test_size=0.2, random_state=1)\n",
    "print(x_train.shape, y_train.shape)\n",
    "knn01 = KNN(K=10)\n",
    "knn01.fit(x_train, y_train)\n",
    "print(knn01.score(x_train, y_train))\n",
    "print(knn01.score(x_test, y_test))"
   ]
  },
  {
   "cell_type": "code",
   "execution_count": null,
   "id": "78547572",
   "metadata": {},
   "outputs": [],
   "source": []
  },
  {
   "cell_type": "code",
   "execution_count": null,
   "id": "ec01fcf0",
   "metadata": {},
   "outputs": [],
   "source": []
  },
  {
   "cell_type": "code",
   "execution_count": null,
   "id": "7df13443",
   "metadata": {},
   "outputs": [],
   "source": []
  },
  {
   "cell_type": "code",
   "execution_count": 5,
   "id": "82203dc7",
   "metadata": {},
   "outputs": [
    {
     "name": "stdout",
     "output_type": "stream",
     "text": [
      "a\n"
     ]
    },
    {
     "data": {
      "text/plain": [
       "'\\nresult:\\nb\\n'"
      ]
     },
     "execution_count": 5,
     "metadata": {},
     "output_type": "execute_result"
    }
   ],
   "source": [
    "dict1 = {'a': 1000, 'b': 100}\n",
    "print(max(dict1, key=dict1.get))\n",
    "\"\"\"\n",
    "result:\n",
    "b\n",
    "\"\"\""
   ]
  },
  {
   "cell_type": "code",
   "execution_count": null,
   "id": "bb25f641",
   "metadata": {},
   "outputs": [],
   "source": []
  },
  {
   "cell_type": "code",
   "execution_count": 6,
   "id": "d9a30392",
   "metadata": {},
   "outputs": [
    {
     "data": {
      "text/plain": [
       "array([1, 2, 3, 4, 5])"
      ]
     },
     "execution_count": 6,
     "metadata": {},
     "output_type": "execute_result"
    }
   ],
   "source": [
    "a = np.array([1,2,3,4,5])\n",
    "a"
   ]
  },
  {
   "cell_type": "code",
   "execution_count": 7,
   "id": "bb3a0fec",
   "metadata": {},
   "outputs": [
    {
     "name": "stdout",
     "output_type": "stream",
     "text": [
      "1\n",
      "2\n",
      "3\n",
      "4\n",
      "5\n"
     ]
    }
   ],
   "source": [
    "for i in a:\n",
    "    print(i)"
   ]
  },
  {
   "cell_type": "code",
   "execution_count": 8,
   "id": "4482336c",
   "metadata": {},
   "outputs": [
    {
     "data": {
      "text/plain": [
       "5"
      ]
     },
     "execution_count": 8,
     "metadata": {},
     "output_type": "execute_result"
    }
   ],
   "source": [
    "a.max()"
   ]
  },
  {
   "cell_type": "code",
   "execution_count": 9,
   "id": "c40319a7",
   "metadata": {},
   "outputs": [
    {
     "data": {
      "text/plain": [
       "array([0.999998  , 0.4999995 , 0.33333311, 0.24999988, 0.19999992])"
      ]
     },
     "execution_count": 9,
     "metadata": {},
     "output_type": "execute_result"
    }
   ],
   "source": [
    "b = 1/(a+1/(100000*a.max()))\n",
    "b"
   ]
  },
  {
   "cell_type": "code",
   "execution_count": 10,
   "id": "18ab837c",
   "metadata": {},
   "outputs": [
    {
     "data": {
      "text/plain": [
       "array([0.43795589, 0.21897816, 0.14598549, 0.10948914, 0.08759132])"
      ]
     },
     "execution_count": 10,
     "metadata": {},
     "output_type": "execute_result"
    }
   ],
   "source": [
    "b/b.sum()"
   ]
  },
  {
   "cell_type": "code",
   "execution_count": 11,
   "id": "49ec1bdf",
   "metadata": {},
   "outputs": [
    {
     "data": {
      "text/plain": [
       "array([1.        , 0.5       , 0.33333333, 0.25      , 0.2       ])"
      ]
     },
     "execution_count": 11,
     "metadata": {},
     "output_type": "execute_result"
    }
   ],
   "source": [
    "1/a"
   ]
  },
  {
   "cell_type": "code",
   "execution_count": 12,
   "id": "bf365f2e",
   "metadata": {},
   "outputs": [
    {
     "data": {
      "text/plain": [
       "0.999998000004"
      ]
     },
     "execution_count": 12,
     "metadata": {},
     "output_type": "execute_result"
    }
   ],
   "source": [
    "b[0]"
   ]
  },
  {
   "cell_type": "code",
   "execution_count": 13,
   "id": "6e6f1bd6",
   "metadata": {},
   "outputs": [
    {
     "name": "stdout",
     "output_type": "stream",
     "text": [
      "[False  True  True  True False]\n",
      "0.6\n"
     ]
    }
   ],
   "source": [
    "a = np.asarray([1,0,1,0,0])\n",
    "b = np.asarray([0,0,1,0,1])\n",
    "print(a==b)\n",
    "print(sum(a==b)/len(a))"
   ]
  },
  {
   "cell_type": "code",
   "execution_count": 14,
   "id": "0775bdf3",
   "metadata": {},
   "outputs": [
    {
     "data": {
      "text/plain": [
       "array([1, 0, 1, 0, 0])"
      ]
     },
     "execution_count": 14,
     "metadata": {},
     "output_type": "execute_result"
    }
   ],
   "source": [
    "np.asarray(a)"
   ]
  },
  {
   "cell_type": "code",
   "execution_count": 15,
   "id": "65d785e0",
   "metadata": {},
   "outputs": [
    {
     "data": {
      "text/plain": [
       "5"
      ]
     },
     "execution_count": 15,
     "metadata": {},
     "output_type": "execute_result"
    }
   ],
   "source": [
    "len(a)"
   ]
  },
  {
   "cell_type": "code",
   "execution_count": null,
   "id": "888cd8d6",
   "metadata": {},
   "outputs": [],
   "source": []
  }
 ],
 "metadata": {
  "kernelspec": {
   "display_name": "Python 3 (ipykernel)",
   "language": "python",
   "name": "python3"
  },
  "language_info": {
   "codemirror_mode": {
    "name": "ipython",
    "version": 3
   },
   "file_extension": ".py",
   "mimetype": "text/x-python",
   "name": "python",
   "nbconvert_exporter": "python",
   "pygments_lexer": "ipython3",
   "version": "3.9.12"
  }
 },
 "nbformat": 4,
 "nbformat_minor": 5
}
