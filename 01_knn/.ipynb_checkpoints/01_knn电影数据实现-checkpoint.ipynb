{
 "cells": [
  {
   "cell_type": "code",
   "execution_count": 1,
   "id": "initial_id",
   "metadata": {
    "ExecuteTime": {
     "end_time": "2024-09-29T06:46:23.122128400Z",
     "start_time": "2024-09-29T06:46:22.514128500Z"
    },
    "pycharm": {
     "is_executing": true,
     "name": "#%%\n"
    }
   },
   "outputs": [],
   "source": [
    "import numpy as np\n",
    "import pandas as pd"
   ]
  },
  {
   "cell_type": "markdown",
   "id": "f83c022bf5d5dd08",
   "metadata": {
    "pycharm": {
     "name": "#%% md\n"
    }
   },
   "source": [
    "# KNN等权投票--分类\n"
   ]
  },
  {
   "cell_type": "code",
   "execution_count": 2,
   "id": "981b96ee31feb4d9",
   "metadata": {
    "ExecuteTime": {
     "end_time": "2024-09-29T06:48:26.093869Z",
     "start_time": "2024-09-29T06:48:26.066921300Z"
    },
    "pycharm": {
     "name": "#%%\n"
    }
   },
   "outputs": [],
   "source": [
    "# #初始化数据\n",
    "T = [\n",
    "    [3, 104, -1],\n",
    "    [2, 100, -1],\n",
    "    [1, 81, -1],\n",
    "    [101, 10, 1],\n",
    "    [99, 5, 1],\n",
    "    [98, 2, 1]]\n",
    "# #初始化待测样本\n",
    "x = [18, 90]\n",
    "# #初始化邻居数\n",
    "K = 3"
   ]
  },
  {
   "cell_type": "code",
   "execution_count": 3,
   "id": "c21089a90a654499",
   "metadata": {
    "ExecuteTime": {
     "end_time": "2024-09-29T06:48:48.105756400Z",
     "start_time": "2024-09-29T06:48:48.079537300Z"
    },
    "pycharm": {
     "name": "#%%\n"
    }
   },
   "outputs": [
    {
     "name": "stdout",
     "output_type": "stream",
     "text": [
      "[[18.867962264113206, -1], [19.235384061671343, -1], [20.518284528683193, -1], [115.27792503337315, 1], [117.41379816699569, 1], [118.92854997854805, 1]]\n"
     ]
    }
   ],
   "source": [
    "# #初始化存储距离列表[[距离1，标签1],[距离2，标签2]....]\n",
    "listDistance = []\n",
    "# #循环每一个数据点，把计算结果放入dis\n",
    "for i in T:\n",
    "    dis = np.sum((np.array(i[0:-1]) - np.array(x)) ** 2) ** 0.5\n",
    "    listDistance.append([dis, i[-1]])\n",
    "# #对dis按照距离排序\n",
    "listDistance.sort()\n",
    "print(listDistance)"
   ]
  },
  {
   "cell_type": "code",
   "execution_count": 4,
   "id": "b6bfe9edd0988708",
   "metadata": {
    "ExecuteTime": {
     "end_time": "2024-09-29T06:49:08.570861900Z",
     "start_time": "2024-09-29T06:49:08.552841800Z"
    },
    "pycharm": {
     "name": "#%%\n"
    }
   },
   "outputs": [
    {
     "name": "stdout",
     "output_type": "stream",
     "text": [
      "-1.0\n"
     ]
    }
   ],
   "source": [
    "# #将前K个票放入投票箱\n",
    "arr = np.array(listDistance[:K])[:, -1]\n",
    "# #产生结果\n",
    "a = pd.Series(arr).value_counts()\n",
    "print(a.idxmax())"
   ]
  },
  {
   "cell_type": "markdown",
   "id": "dc2a09cbb00c2916",
   "metadata": {
    "pycharm": {
     "name": "#%% md\n"
    }
   },
   "source": [
    "# KNN加权投票--分类"
   ]
  },
  {
   "cell_type": "code",
   "execution_count": 5,
   "id": "804e36c4134a8023",
   "metadata": {
    "ExecuteTime": {
     "end_time": "2024-09-29T06:49:52.122835900Z",
     "start_time": "2024-09-29T06:49:52.097805600Z"
    },
    "pycharm": {
     "name": "#%%\n"
    }
   },
   "outputs": [],
   "source": [
    "# #初始化数据\n",
    "T = [\n",
    "    [3, 104, -1],\n",
    "    [2, 100, -1],\n",
    "    [1, 81, -1],\n",
    "    [101, 10, 1],\n",
    "    [99, 5, 1],\n",
    "    [98, 2, 1]]\n",
    "# #初始化待测样本\n",
    "x = [18, 90]\n",
    "# x = [50, 50]\n",
    "# #初始化邻居数\n",
    "K = 3"
   ]
  },
  {
   "cell_type": "code",
   "execution_count": 6,
   "id": "e1e7f0c637508f61",
   "metadata": {
    "ExecuteTime": {
     "end_time": "2024-09-29T06:50:24.712297300Z",
     "start_time": "2024-09-29T06:50:24.666296500Z"
    },
    "pycharm": {
     "name": "#%%\n"
    }
   },
   "outputs": [
    {
     "name": "stdout",
     "output_type": "stream",
     "text": [
      "[[18.867962264113206, -1], [19.235384061671343, -1], [20.518284528683193, -1], [115.27792503337315, 1], [117.41379816699569, 1], [118.92854997854805, 1]]\n"
     ]
    }
   ],
   "source": [
    "# #初始化存储距离列表[[距离1，标签1],[距离2，标签2]....]\n",
    "listDistance = []\n",
    "# #循环每一个数据点，把计算结果放入dis\n",
    "for i in T:\n",
    "    dis = np.sum((np.array(i[:-1]) - np.array(x)) ** 2) ** 0.5  ##欧氏距离\n",
    "    listDistance.append([dis, i[-1]])\n",
    "# #对dis按照距离排序\n",
    "listDistance.sort()\n",
    "print(listDistance)"
   ]
  },
  {
   "cell_type": "code",
   "execution_count": 7,
   "id": "65d5bce809651bff",
   "metadata": {
    "ExecuteTime": {
     "end_time": "2024-09-29T06:51:09.767447900Z",
     "start_time": "2024-09-29T06:51:09.737860700Z"
    },
    "pycharm": {
     "name": "#%%\n"
    }
   },
   "outputs": [
    {
     "name": "stdout",
     "output_type": "stream",
     "text": [
      "-1\n"
     ]
    }
   ],
   "source": [
    "# #将前K个票放入投票箱，进行加权投票\n",
    "pre = -1 if sum([1 / i[0] * i[1] for i in listDistance[:K]]) < 0 else 1\n",
    "print(pre)"
   ]
  },
  {
   "cell_type": "markdown",
   "id": "a2df51117ef50047",
   "metadata": {
    "pycharm": {
     "name": "#%% md\n"
    }
   },
   "source": [
    "# KNN等权--回归"
   ]
  },
  {
   "cell_type": "code",
   "execution_count": 8,
   "id": "9463ec683c3b58a9",
   "metadata": {
    "ExecuteTime": {
     "end_time": "2024-09-29T06:55:11.119245500Z",
     "start_time": "2024-09-29T06:55:11.109249100Z"
    },
    "pycharm": {
     "name": "#%%\n"
    }
   },
   "outputs": [],
   "source": [
    "# #初始化数据\n",
    "T = [\n",
    "    [3, 104, 98],\n",
    "    [2, 100, 93],\n",
    "    [1, 81, 95],\n",
    "    [101, 10, 16],\n",
    "    [99, 5, 8],\n",
    "    [98, 2, 7]]\n",
    "# #初始化待测样本\n",
    "x = [18, 90]\n",
    "# x = [50, 50]\n",
    "# #初始化邻居数\n",
    "K = 5"
   ]
  },
  {
   "cell_type": "code",
   "execution_count": 9,
   "id": "6742f1e7f788232b",
   "metadata": {
    "ExecuteTime": {
     "end_time": "2024-09-29T06:55:16.220679Z",
     "start_time": "2024-09-29T06:55:16.200293400Z"
    },
    "pycharm": {
     "name": "#%%\n"
    }
   },
   "outputs": [
    {
     "name": "stdout",
     "output_type": "stream",
     "text": [
      "[[18.867962264113206, 93], [19.235384061671343, 95], [20.518284528683193, 98], [115.27792503337315, 16], [117.41379816699569, 8], [118.92854997854805, 7]]\n"
     ]
    }
   ],
   "source": [
    "# #初始化存储距离列表[[距离1，标签1],[距离2，标签2]....]\n",
    "listDistance = []\n",
    "# #循环每一个数据点，把计算结果放入dis\n",
    "for i in T:\n",
    "    dis = np.sum((np.array(i[:-1]) - np.array(x)) ** 2) ** 0.5  ##欧氏距离\n",
    "    listDistance.append([dis, i[-1]])\n",
    "# #对dis按照距离排序\n",
    "listDistance.sort()\n",
    "print(listDistance)"
   ]
  },
  {
   "cell_type": "code",
   "execution_count": 10,
   "id": "f871b05b57c970e8",
   "metadata": {
    "ExecuteTime": {
     "end_time": "2024-09-29T06:55:48.794946100Z",
     "start_time": "2024-09-29T06:55:48.765054800Z"
    },
    "pycharm": {
     "name": "#%%\n"
    }
   },
   "outputs": [
    {
     "name": "stdout",
     "output_type": "stream",
     "text": [
      "62.0\n"
     ]
    }
   ],
   "source": [
    "# 求均值预测结果\n",
    "pre = np.mean(np.array(listDistance[:K])[:, -1])\n",
    "print(pre)\n",
    "# arr=np.array(listDistance[:K])[:,-1]\n",
    "# print(np.mean(arr))"
   ]
  },
  {
   "cell_type": "markdown",
   "id": "3c85f41339f0c3c7",
   "metadata": {
    "pycharm": {
     "name": "#%% md\n"
    }
   },
   "source": [
    "# KNN加权回归"
   ]
  },
  {
   "cell_type": "code",
   "execution_count": 11,
   "id": "d335db69f3f83536",
   "metadata": {
    "ExecuteTime": {
     "end_time": "2024-09-29T06:56:54.743688400Z",
     "start_time": "2024-09-29T06:56:54.731698400Z"
    },
    "pycharm": {
     "name": "#%%\n"
    }
   },
   "outputs": [],
   "source": [
    "# #初始化数据\n",
    "T = [\n",
    "    [3, 104, 98],\n",
    "    [2, 100, 93],\n",
    "    [1, 81, 95],\n",
    "    [101, 10, 16],\n",
    "    [99, 5, 8],\n",
    "    [98, 2, 7]]\n",
    "# #初始化待测样本\n",
    "x = [18, 90]\n",
    "# x = [50, 50]\n",
    "# #初始化邻居数\n",
    "K = 5"
   ]
  },
  {
   "cell_type": "code",
   "execution_count": 12,
   "id": "72053df4d1d40ac7",
   "metadata": {
    "ExecuteTime": {
     "end_time": "2024-09-29T06:58:18.348400700Z",
     "start_time": "2024-09-29T06:58:18.334614500Z"
    },
    "pycharm": {
     "name": "#%%\n"
    }
   },
   "outputs": [
    {
     "name": "stdout",
     "output_type": "stream",
     "text": [
      "[[18.867962264113206, 93], [19.235384061671343, 95], [20.518284528683193, 98], [115.27792503337315, 16], [117.41379816699569, 8], [118.92854997854805, 7]]\n"
     ]
    }
   ],
   "source": [
    "# #初始化存储距离列表[[距离1，标签1],[距离2，标签2]....]\n",
    "listDistance = []\n",
    "# #循环每一个数据点，把计算结果放入dis\n",
    "for i in T:\n",
    "    dis = np.sum((np.array(i[:-1]) - np.array(x)) ** 2) ** 0.5  ##欧氏距离\n",
    "    listDistance.append([dis, i[-1]])\n",
    "# #对dis按照距离排序\n",
    "listDistance.sort()\n",
    "print(listDistance)"
   ]
  },
  {
   "cell_type": "code",
   "execution_count": 13,
   "id": "91129086bc01fd1c",
   "metadata": {
    "ExecuteTime": {
     "end_time": "2024-09-29T06:58:29.306487200Z",
     "start_time": "2024-09-29T06:58:29.274422100Z"
    },
    "pycharm": {
     "name": "#%%\n"
    }
   },
   "outputs": [
    {
     "name": "stdout",
     "output_type": "stream",
     "text": [
      "[[18.867962264113206, 93], [19.235384061671343, 95], [20.518284528683193, 98], [115.27792503337315, 16], [117.41379816699569, 8]]\n"
     ]
    }
   ],
   "source": [
    "# 查看前k个\n",
    "print([i for i in listDistance[:K]])"
   ]
  },
  {
   "cell_type": "code",
   "execution_count": 14,
   "id": "538adb3ba6e3de7b",
   "metadata": {
    "ExecuteTime": {
     "end_time": "2024-09-29T06:59:08.146269100Z",
     "start_time": "2024-09-29T06:59:08.124267600Z"
    },
    "pycharm": {
     "name": "#%%\n"
    }
   },
   "outputs": [
    {
     "name": "stdout",
     "output_type": "stream",
     "text": [
      "86.89041337014999\n"
     ]
    }
   ],
   "source": [
    "# 加权平均值预测结果\n",
    "pre = np.sum([1 / i[0] * i[-1] for i in listDistance[:K]]) / np.sum([1 / i[0] for i in listDistance[:K]])\n",
    "print(pre)"
   ]
  },
  {
   "cell_type": "code",
   "execution_count": null,
   "id": "b51a837430b37edc",
   "metadata": {
    "pycharm": {
     "name": "#%%\n"
    }
   },
   "outputs": [],
   "source": []
  }
 ],
 "metadata": {
  "kernelspec": {
   "display_name": "Python 3 (ipykernel)",
   "language": "python",
   "name": "python3"
  },
  "language_info": {
   "codemirror_mode": {
    "name": "ipython",
    "version": 3
   },
   "file_extension": ".py",
   "mimetype": "text/x-python",
   "name": "python",
   "nbconvert_exporter": "python",
   "pygments_lexer": "ipython3",
   "version": "3.9.12"
  }
 },
 "nbformat": 4,
 "nbformat_minor": 5
}
