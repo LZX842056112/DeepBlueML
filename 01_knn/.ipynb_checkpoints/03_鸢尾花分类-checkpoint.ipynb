{
 "cells": [
  {
   "cell_type": "code",
   "execution_count": 1,
   "id": "1723178a1d8f500f",
   "metadata": {
    "ExecuteTime": {
     "end_time": "2024-09-29T07:43:12.845537100Z",
     "start_time": "2024-09-29T07:43:12.836543100Z"
    }
   },
   "outputs": [],
   "source": [
    "# -*- coding: UTF-8 -*-"
   ]
  },
  {
   "cell_type": "markdown",
   "id": "53ea94a92bfe1f2a",
   "metadata": {},
   "source": [
    "\n",
    "# 机器学习开发流程：\n",
    "* 1、数据加载\n",
    "* 2、数据进行清洗\n",
    "* 3、获取我们的数据的特征属性X和目标属性Y\n",
    "* 4、数据分割【指的是把数据划分为训练集和测试集】\n",
    "* 5、特征工程  正则化、标准化，文本的处理\n",
    "* 6、构建模型\n",
    "* 7、训练模型\n",
    "* 8、模型效果的评估 （效果不好，返回第二步进行优化，达到要求）\n",
    "* 9、模型保存/模型的持久化     "
   ]
  },
  {
   "cell_type": "code",
   "execution_count": 1,
   "id": "26da25715df09623",
   "metadata": {
    "ExecuteTime": {
     "end_time": "2024-09-29T07:44:55.694937900Z",
     "start_time": "2024-09-29T07:44:54.610177200Z"
    }
   },
   "outputs": [
    {
     "ename": "ModuleNotFoundError",
     "evalue": "No module named 'sklearn'",
     "output_type": "error",
     "traceback": [
      "\u001b[1;31m---------------------------------------------------------------------------\u001b[0m",
      "\u001b[1;31mModuleNotFoundError\u001b[0m                       Traceback (most recent call last)",
      "\u001b[1;32m~\\AppData\\Local\\Temp\\ipykernel_5800\\4040938893.py\u001b[0m in \u001b[0;36m<module>\u001b[1;34m\u001b[0m\n\u001b[0;32m      2\u001b[0m \u001b[1;32mimport\u001b[0m \u001b[0mnumpy\u001b[0m \u001b[1;32mas\u001b[0m \u001b[0mnp\u001b[0m\u001b[1;33m\u001b[0m\u001b[1;33m\u001b[0m\u001b[0m\n\u001b[0;32m      3\u001b[0m \u001b[1;32mimport\u001b[0m \u001b[0msys\u001b[0m\u001b[1;33m\u001b[0m\u001b[1;33m\u001b[0m\u001b[0m\n\u001b[1;32m----> 4\u001b[1;33m \u001b[1;32mfrom\u001b[0m \u001b[0msklearn\u001b[0m\u001b[1;33m.\u001b[0m\u001b[0mmodel_selection\u001b[0m \u001b[1;32mimport\u001b[0m \u001b[0mtrain_test_split\u001b[0m\u001b[1;33m\u001b[0m\u001b[1;33m\u001b[0m\u001b[0m\n\u001b[0m\u001b[0;32m      5\u001b[0m \u001b[1;32mfrom\u001b[0m \u001b[0msklearn\u001b[0m\u001b[1;33m.\u001b[0m\u001b[0mneighbors\u001b[0m \u001b[1;32mimport\u001b[0m \u001b[0mKNeighborsClassifier\u001b[0m\u001b[1;33m\u001b[0m\u001b[1;33m\u001b[0m\u001b[0m\n",
      "\u001b[1;31mModuleNotFoundError\u001b[0m: No module named 'sklearn'"
     ]
    }
   ],
   "source": [
    "import pandas as pd\n",
    "import numpy as np\n",
    "import sys\n",
    "from sklearn.model_selection import train_test_split\n",
    "from sklearn.neighbors import KNeighborsClassifier"
   ]
  },
  {
   "cell_type": "code",
   "execution_count": 16,
   "id": "40c64f1e0e6c78d9",
   "metadata": {
    "ExecuteTime": {
     "end_time": "2024-09-29T08:34:57.071115100Z",
     "start_time": "2024-09-29T08:34:57.011385500Z"
    }
   },
   "outputs": [
    {
     "name": "stdout",
     "output_type": "stream",
     "text": [
      "   sepal length  sepal width  petal length  petal width        label\n",
      "0           5.1          3.5           1.4          0.2  Iris-setosa\n",
      "1           4.9          3.0           1.4          0.2  Iris-setosa\n",
      "2           4.7          3.2           1.3          0.2  Iris-setosa\n",
      "3           4.6          3.1           1.5          0.2  Iris-setosa\n",
      "4           5.0          3.6           1.4          0.2  Iris-setosa\n",
      "(150, 5)\n",
      "Iris-setosa        50\n",
      "Iris-versicolor    50\n",
      "Iris-virginica     50\n",
      "Name: label, dtype: int64\n"
     ]
    }
   ],
   "source": [
    "# 1. 加载数据(数据一般存在于磁盘或者数据库)\n",
    "path = '../datas/iris.data'\n",
    "names = ['sepal length', 'sepal width', 'petal length', 'petal width', 'label']\n",
    "df = pd.read_csv(path, header=None, names=names, sep=\",\")\n",
    "print(df.head())\n",
    "print(df.shape)\n",
    "print(df[\"label\"].value_counts())"
   ]
  },
  {
   "cell_type": "code",
   "execution_count": 17,
   "id": "48f0b965b3de4c4a",
   "metadata": {
    "ExecuteTime": {
     "end_time": "2024-09-29T08:35:25.555852200Z",
     "start_time": "2024-09-29T08:35:25.405830500Z"
    }
   },
   "outputs": [
    {
     "data": {
      "image/png": "[encoded data removed]",
      "text/plain": [
       "<Figure size 864x576 with 1 Axes>"
      ]
     },
     "metadata": {
      "needs_background": "light"
     },
     "output_type": "display_data"
    }
   ],
   "source": [
    "# 数据分析与可视化\n",
    "import matplotlib.pyplot as plt\n",
    "plt.figure(figsize=(12, 8))\n",
    "plt.scatter(df[:50]['sepal length'], df[:50]['sepal width'], label='Iris-setosa')\n",
    "plt.scatter(df[50:100]['sepal length'], df[50:100]['sepal width'], label='Iris-versicolor')\n",
    "plt.xlabel('sepal length', fontsize=18)\n",
    "plt.ylabel('sepal width', fontsize=18)\n",
    "plt.legend()\n",
    "plt.show()"
   ]
  },
  {
   "cell_type": "markdown",
   "id": "8adda52bc4efd56",
   "metadata": {},
   "source": []
  },
  {
   "cell_type": "code",
   "execution_count": 4,
   "id": "7c95d31ae329f556",
   "metadata": {
    "ExecuteTime": {
     "end_time": "2024-09-29T07:45:38.403142300Z",
     "start_time": "2024-09-29T07:45:38.379353900Z"
    }
   },
   "outputs": [],
   "source": [
    "# 2. 数据清洗\n",
    "# NOTE: 不需要做数据处理\n",
    "# def parse_record(row):\n",
    "#     result = []\n",
    "#     r = zip(names, row)\n",
    "#     for name, value in r:\n",
    "#         if name == 'cla':\n",
    "#             if value == 'Iris-setosa':\n",
    "#                 result.append(1)\n",
    "#             elif value == 'Iris-versicolor':\n",
    "#                 result.append(2)\n",
    "#             elif value == 'Iris-virginica':\n",
    "#                 result.append(3)\n",
    "#             else:\n",
    "#                 result.append(0)\n",
    "#         else:\n",
    "#             result.append(value)\n",
    "#     return result\n",
    "#\n",
    "#\n",
    "# df = df.apply(lambda row: pd.Series(parse_record(row), index=names), axis=1)\n",
    "# df.cla = df.cla.astype(np.int32)\n",
    "# df.info()\n",
    "# # print(df.cla.value_counts())\n",
    "# # df = df[df.cla != 3]\n",
    "# # print(df.cla.value_counts())"
   ]
  },
  {
   "cell_type": "code",
   "execution_count": 6,
   "id": "2e1bb07c6e2d8f2d",
   "metadata": {
    "ExecuteTime": {
     "end_time": "2024-09-29T07:45:54.906971400Z",
     "start_time": "2024-09-29T07:45:54.867185Z"
    }
   },
   "outputs": [
    {
     "name": "stdout",
     "output_type": "stream",
     "text": [
      "(150, 4)\n",
      "Iris-setosa        50\n",
      "Iris-versicolor    50\n",
      "Iris-virginica     50\n",
      "Name: cla, dtype: int64\n"
     ]
    }
   ],
   "source": [
    "# # 3. 根据需求获取最原始的特征属性矩阵X和目标属性Y\n",
    "X = df[names[0:-1]]\n",
    "print(X.shape)\n",
    "Y = df[names[-1]]\n",
    "print(Y.value_counts())\n"
   ]
  },
  {
   "cell_type": "code",
   "execution_count": 7,
   "id": "961aa627d18f1295",
   "metadata": {
    "ExecuteTime": {
     "end_time": "2024-09-29T07:46:06.858489200Z",
     "start_time": "2024-09-29T07:46:06.809532100Z"
    }
   },
   "outputs": [
    {
     "name": "stdout",
     "output_type": "stream",
     "text": [
      "训练数据X的格式:(90, 4), 以及类型:<class 'pandas.core.frame.DataFrame'>\n",
      "测试数据X的格式:(60, 4)\n",
      "训练数据Y的类型:<class 'pandas.core.series.Series'>\n"
     ]
    }
   ],
   "source": [
    "# 4. 数据分割\n",
    "# train_size: 给定划分之后的训练数据的占比是多少，默认0.75\n",
    "# random_state：给定在数据划分过程中，使用到的随机数种子，默认为None，使用当前的时间戳；给定非None的值，可以保证多次运行的结果是一致的。\n",
    "x_train, x_test, y_train, y_test = train_test_split(X, Y, train_size=0.6, random_state=28)\n",
    "print(\"训练数据X的格式:{}, 以及类型:{}\".format(x_train.shape, type(x_train)))\n",
    "print(\"测试数据X的格式:{}\".format(x_test.shape))\n",
    "print(\"训练数据Y的类型:{}\".format(type(y_train)))"
   ]
  },
  {
   "cell_type": "code",
   "execution_count": null,
   "id": "bb144f0abf158984",
   "metadata": {},
   "outputs": [],
   "source": [
    "# 5. 特征工程的操作\n",
    "# NOTE: 这里暂时不做特征工程"
   ]
  },
  {
   "cell_type": "markdown",
   "id": "a8364ae1b6acffb4",
   "metadata": {},
   "source": [
    "### Scikit-learn实例\n",
    "#### sklearn.neighbors.KNeighborsClassifier\n",
    "\n",
    "- n_neighbors: 临近点个数，即k的个数，默认是5\n",
    "- p: 距离度量，默认\n",
    "- algorithm: 近邻算法，可选{'auto', 'ball_tree', 'kd_tree', 'brute'}\n",
    "- weights: 确定近邻的权重\n",
    "\n",
    "- n_neighbors ： int，optional(default = 5)\n",
    "默认情况下kneighbors查询使用的邻居数。就是k-NN的k的值，选取最近的k个点。\n",
    "\n",
    "- weights ： str或callable，可选(默认=‘uniform’)\n",
    "默认是uniform，参数可以是uniform、distance，也可以是用户自己定义的函数。uniform是均等的权重，就说所有的邻近点的权重都是相等的。distance是不均等的权重，距离近的点比距离远的点的影响大。用户自定义的函数，接收距离的数组，返回一组维数相同的权重。\n",
    "- algorithm ： {‘auto’，‘ball_tree’，‘kd_tree’，‘brute’}，可选\n",
    "快速k近邻搜索算法，默认参数为auto，可以理解为算法自己决定合适的搜索算法。除此之外，用户也可以自己指定搜索算法ball_tree、kd_tree、brute方法进行搜索，brute是蛮力搜索，也就是线性扫描，当训练集很大时，计算非常耗时。kd_tree，构造kd树存储数据以便对其进行快速检索的树形数据结构，kd树也就是数据结构中的二叉树。以中值切分构造的树，每个结点是一个超矩形，在维数小于20时效率高。ball tree是为了克服kd树高纬失效而发明的，其构造过程是以质心C和半径r分割样本空间，每个节点是一个超球体。\n",
    "\n",
    "- leaf_size ： int，optional(默认值= 30)\n",
    "默认是30，这个是构造的kd树和ball树的大小。这个值的设置会影响树构建的速度和搜索速度，同样也影响着存储树所需的内存大小。需要根据问题的性质选择最优的大小。\n",
    "\n",
    "- p ： 整数，可选(默认= 2)\n",
    "距离度量公式。在上小结，我们使用欧氏距离公式进行距离度量。除此之外，还有其他的度量方法，例如曼哈顿距离。这个参数默认为2，也就是默认使用欧式距离公式进行距离度量。也可以设置为1，使用曼哈顿距离公式进行距离度量。\n",
    "\n",
    "- metric ： 字符串或可调用，默认为’minkowski’\n",
    "用于距离度量，默认度量是minkowski，也就是p=2的欧氏距离(欧几里德度量)。\n",
    "\n",
    "- metric_params ： dict，optional(默认=None)\n",
    "距离公式的其他关键参数，这个可以不管，使用默认的None即可。\n",
    "\n",
    "- n_jobs ： int或None，可选(默认=None)\n",
    "并行处理设置。默认为1，临近点搜索并行工作数。如果为-1，那么CPU的所有cores都用于并行工作。"
   ]
  },
  {
   "cell_type": "code",
   "execution_count": 8,
   "id": "d3325007ef5e3965",
   "metadata": {
    "ExecuteTime": {
     "end_time": "2024-09-29T07:46:36.040346Z",
     "start_time": "2024-09-29T07:46:36.026828900Z"
    }
   },
   "outputs": [],
   "source": [
    "# 6. 模型对象的构建\n",
    "\"\"\"\n",
    "KNN:\n",
    "    n_neighbors=5,\n",
    "    weights='uniform',\n",
    "    algorithm='auto', \n",
    "    leaf_size=30,\n",
    "    p=2,\n",
    "    metric='minkowski', \n",
    "    metric_params=None, \n",
    "    n_jobs=1\n",
    "\"\"\"\n",
    "KNN = KNeighborsClassifier(n_neighbors=1, weights='uniform', algorithm='kd_tree')"
   ]
  },
  {
   "cell_type": "code",
   "execution_count": 9,
   "id": "4a1bb1e655a768ae",
   "metadata": {
    "ExecuteTime": {
     "end_time": "2024-09-29T07:46:44.692183900Z",
     "start_time": "2024-09-29T07:46:44.652012400Z"
    }
   },
   "outputs": [
    {
     "data": {
      "text/plain": [
       "KNeighborsClassifier(algorithm='kd_tree', n_neighbors=1)"
      ]
     },
     "execution_count": 9,
     "metadata": {},
     "output_type": "execute_result"
    }
   ],
   "source": [
    "# 7. 模型的训练\n",
    "KNN.fit(x_train, y_train)"
   ]
  },
  {
   "cell_type": "code",
   "execution_count": 10,
   "id": "e8e1eb0c0d139c3e",
   "metadata": {
    "ExecuteTime": {
     "end_time": "2024-09-29T07:46:53.722555500Z",
     "start_time": "2024-09-29T07:46:53.699250900Z"
    }
   },
   "outputs": [
    {
     "name": "stdout",
     "output_type": "stream",
     "text": [
      "KNN算法：测试集上的效果(准确率):0.95\n",
      "KNN算法：训练集上的效果(准确率):1.0\n"
     ]
    }
   ],
   "source": [
    "# 8. 模型效果评估\n",
    "train_predict = KNN.predict(x_train)\n",
    "test_predict = KNN.predict(x_test)\n",
    "print(\"KNN算法：测试集上的效果(准确率):{}\".format(KNN.score(x_test, y_test)))\n",
    "print(\"KNN算法：训练集上的效果(准确率):{}\".format(KNN.score(x_train, y_train)))"
   ]
  },
  {
   "cell_type": "code",
   "execution_count": 11,
   "id": "5d7b81811ad0636e",
   "metadata": {
    "ExecuteTime": {
     "end_time": "2024-09-29T07:47:04.253368100Z",
     "start_time": "2024-09-29T07:47:04.216448Z"
    }
   },
   "outputs": [
    {
     "data": {
      "text/plain": [
       "['./knn.m']"
      ]
     },
     "execution_count": 11,
     "metadata": {},
     "output_type": "execute_result"
    }
   ],
   "source": [
    "# 模型的保存与加载\n",
    "import joblib\n",
    "\n",
    "joblib.dump(KNN, \"./knn.m\")  # 保存模型\n",
    "# joblib.load() # 加载模型"
   ]
  },
  {
   "cell_type": "code",
   "execution_count": 12,
   "id": "initial_id",
   "metadata": {
    "ExecuteTime": {
     "end_time": "2024-09-29T07:47:30.568292200Z",
     "start_time": "2024-09-29T07:47:30.557528900Z"
    },
    "collapsed": true
   },
   "outputs": [
    {
     "name": "stdout",
     "output_type": "stream",
     "text": [
      "['Iris-setosa']\n"
     ]
    },
    {
     "name": "stderr",
     "output_type": "stream",
     "text": [
      "E:\\anaconda3\\lib\\site-packages\\sklearn\\base.py:450: UserWarning: X does not have valid feature names, but KNeighborsClassifier was fitted with feature names\n",
      "  warnings.warn(\n"
     ]
    }
   ],
   "source": [
    "#1、加载回复模型\n",
    "knn_load = joblib.load(\"./knn.m\")\n",
    "\n",
    "###2、对待预测的数据进行预测 （数据处理好后的数据）\n",
    "\n",
    "x = [[5.1, 3.5, 1.4, 0.2]]\n",
    "y_hat = knn_load.predict(x)\n",
    "print(y_hat)\n"
   ]
  },
  {
   "cell_type": "code",
   "execution_count": null,
   "id": "b5094fdcb2dd125b",
   "metadata": {},
   "outputs": [],
   "source": []
  }
 ],
 "metadata": {
  "kernelspec": {
   "display_name": "py37",
   "language": "python",
   "name": "py37"
  },
  "language_info": {
   "codemirror_mode": {
    "name": "ipython",
    "version": 3
   },
   "file_extension": ".py",
   "mimetype": "text/x-python",
   "name": "python",
   "nbconvert_exporter": "python",
   "pygments_lexer": "ipython3",
   "version": "3.7.13"
  }
 },
 "nbformat": 4,
 "nbformat_minor": 5
}
