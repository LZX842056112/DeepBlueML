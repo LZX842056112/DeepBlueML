{
 "cells": [
  {
   "cell_type": "code",
   "execution_count": 1,
   "id": "8b838ac0",
   "metadata": {},
   "outputs": [],
   "source": [
    "import numpy as np\n",
    "import pandas as pd\n",
    "from sklearn.model_selection import train_test_split\n",
    "from sklearn.naive_bayes import GaussianNB, BernoulliNB, MultinomialNB\n",
    "from sklearn.preprocessing import LabelEncoder\n",
    "from sklearn.metrics import accuracy_score"
   ]
  },
  {
   "cell_type": "code",
   "execution_count": 4,
   "id": "55d9369a",
   "metadata": {},
   "outputs": [],
   "source": [
    "data = pd.read_csv('../datas/iris.data', header=None)\n",
    "# print(data.head())\n",
    "\n",
    "X = data.iloc[:, :-1]\n",
    "Y = data.iloc[:, -1]\n",
    "\n",
    "label = LabelEncoder()\n",
    "Y = label.fit_transform(Y)"
   ]
  },
  {
   "cell_type": "code",
   "execution_count": 6,
   "id": "1afe93a3",
   "metadata": {},
   "outputs": [],
   "source": [
    "x_train, x_test, y_train, y_test = train_test_split(X, Y, test_size=0.2, random_state=10)"
   ]
  },
  {
   "cell_type": "code",
   "execution_count": 7,
   "id": "0a935c35",
   "metadata": {},
   "outputs": [],
   "source": [
    "gaussian = GaussianNB()\n",
    "bernoull = BernoulliNB()\n",
    "multin = MultinomialNB()"
   ]
  },
  {
   "cell_type": "code",
   "execution_count": 8,
   "id": "b337f192",
   "metadata": {},
   "outputs": [
    {
     "name": "stdout",
     "output_type": "stream",
     "text": [
      "[1.0, 0.23333333333333334, 0.6]\n",
      "[0.95, 0.35833333333333334, 0.725]\n"
     ]
    }
   ],
   "source": [
    "list_A = [gaussian, bernoull, multin]\n",
    "\n",
    "one_test = []\n",
    "train_score = []\n",
    "\n",
    "for one in list_A:\n",
    "    one.fit(x_train, y_train)\n",
    "    one_test.append(one.score(x_test, y_test))\n",
    "    train_score.append(one.score(x_train, y_train))\n",
    "    # one.score(x_train, y_train)\n",
    "    # y_hat = one.predict(x_train)\n",
    "    ####各种错误\n",
    "    # y_hat = one.predict(y_train)\n",
    "    # one.score(x_train,y_hat)\n",
    "    # one.score(y_train,y_hat)\n",
    "    ###正确\n",
    "    # accuracy_score(y_hat,y_train)\n",
    "print(one_test)\n",
    "print(train_score)"
   ]
  },
  {
   "cell_type": "code",
   "execution_count": null,
   "id": "c1855ac6",
   "metadata": {},
   "outputs": [],
   "source": []
  }
 ],
 "metadata": {
  "kernelspec": {
   "display_name": "py37",
   "language": "python",
   "name": "py37"
  },
  "language_info": {
   "codemirror_mode": {
    "name": "ipython",
    "version": 3
   },
   "file_extension": ".py",
   "mimetype": "text/x-python",
   "name": "python",
   "nbconvert_exporter": "python",
   "pygments_lexer": "ipython3",
   "version": "3.7.13"
  }
 },
 "nbformat": 4,
 "nbformat_minor": 5
}
